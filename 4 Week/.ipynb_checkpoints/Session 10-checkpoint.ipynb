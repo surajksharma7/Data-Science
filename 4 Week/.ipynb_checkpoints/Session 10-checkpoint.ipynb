{
 "cells": [
  {
   "cell_type": "markdown",
   "id": "5687e5c6-e144-4324-84d1-5dbfe6d50b2f",
   "metadata": {},
   "source": [
    "### Some theory\n",
    "\n",
    "Types of data used for I/O\n",
    "- Text - '12345' as a sequence  of unicode caracter\n",
    "- binary -  12345 as a sequence of bytes of its binary equivalent\n",
    "\n",
    "Hence there are 2 file types to deal with\n",
    "- text files - All programs  file are text file\n",
    "- Binary files - Images, music, video, exe files\n",
    "\n",
    "How file I/O is done in most programming language \n",
    "- open a file\n",
    "- Read/Write data\n",
    "- close the file"
   ]
  },
  {
   "cell_type": "code",
   "execution_count": 50,
   "id": "cc7ce10e-5ae8-442e-80f4-95f363400d4d",
   "metadata": {},
   "outputs": [],
   "source": [
    "### Writing to a file \n",
    "\n",
    "# case 1 -> if the file is not present \n",
    "f = open(\"sample.txt\",\"w\")\n",
    "f.write(\"hello world\")\n",
    "f.close()"
   ]
  },
  {
   "cell_type": "code",
   "execution_count": 51,
   "id": "8c0c689a-43a7-4038-9237-e5f272148a7a",
   "metadata": {},
   "outputs": [],
   "source": [
    "# write multilinestring \n",
    "f = open(\"sample.txt\",\"w\")\n",
    "f.write(\"\"\" hello \n",
    "how are you\n",
    "\"\"\")\n",
    "f.close()"
   ]
  },
  {
   "cell_type": "code",
   "execution_count": 52,
   "id": "47c5d65c-10ce-46c7-a185-5cd3063bde08",
   "metadata": {},
   "outputs": [],
   "source": [
    "# if the file is already present \n",
    "f = open(\"sample.txt\",'w')\n",
    "f.write(\"salman khan\")\n",
    "f.close()"
   ]
  },
  {
   "cell_type": "code",
   "execution_count": 53,
   "id": "c8d38c38-18d4-4242-9085-fb9a39b9d3fb",
   "metadata": {},
   "outputs": [],
   "source": [
    "# problem with open function -> it rewrite in thhe file  \n",
    "f = open(\"sample.txt\",'a')\n",
    "f.write(\"\\n I am file\")\n",
    "f.close()\n"
   ]
  },
  {
   "cell_type": "code",
   "execution_count": 54,
   "id": "d4369740-51e0-47bf-a91c-458529f117b6",
   "metadata": {},
   "outputs": [],
   "source": [
    "# what if i have to write  a lot of files -> agar mere pass list mein file ho to  ye wala writelines use  karenge \n",
    "\n",
    "L = ['Hello\\n','how\\n',\"are\\n\",\"you\\n\"]\n",
    "f = open(\"sample.txt\",'w')\n",
    "f.writelines(L)\n",
    "f.close()"
   ]
  },
  {
   "cell_type": "markdown",
   "id": "d64a2bf9-5c68-461e-abf4-e45e75a619ef",
   "metadata": {},
   "source": [
    "### Reading from a file "
   ]
  },
  {
   "cell_type": "code",
   "execution_count": 55,
   "id": "86a03304-42e8-4b93-9552-3c18eb9705e4",
   "metadata": {},
   "outputs": [
    {
     "name": "stdout",
     "output_type": "stream",
     "text": [
      "Hello\n",
      "how\n",
      "are\n",
      "you\n",
      "\n"
     ]
    }
   ],
   "source": [
    "# using read function\n",
    "f = open('sample.txt','r')\n",
    "s = f.read()\n",
    "print(s)\n",
    "f.close()"
   ]
  },
  {
   "cell_type": "code",
   "execution_count": 56,
   "id": "108202f3-648d-4d01-8571-360f1a377dc8",
   "metadata": {},
   "outputs": [
    {
     "name": "stdout",
     "output_type": "stream",
     "text": [
      "Hello\n"
     ]
    }
   ],
   "source": [
    "# reading upto n character\n",
    "f = open('sample.txt','r')\n",
    "s = f.read(5)\n",
    "print(s)\n",
    "f.close()\n"
   ]
  },
  {
   "cell_type": "code",
   "execution_count": 57,
   "id": "e9ea2c80-51dc-42f8-a3ba-8dae04b47685",
   "metadata": {},
   "outputs": [
    {
     "name": "stdout",
     "output_type": "stream",
     "text": [
      "Hello\n",
      "how\n",
      "\n"
     ]
    }
   ],
   "source": [
    "# readline to read by line \n",
    "# using read function\n",
    "f = open('sample.txt','r')\n",
    "\n",
    "print(f.readline(),end='')\n",
    "print(f.readline())\n",
    "f.close()"
   ]
  },
  {
   "cell_type": "code",
   "execution_count": 58,
   "id": "d971e6bd-d52f-4d92-baa3-7f93611aee7b",
   "metadata": {},
   "outputs": [
    {
     "name": "stdout",
     "output_type": "stream",
     "text": [
      "Hello\n",
      "how\n",
      "are\n",
      "you\n"
     ]
    }
   ],
   "source": [
    "with open(\"sample.txt\", \"r\") as f:\n",
    "    for line in f:\n",
    "        print(line, end='')\n"
   ]
  },
  {
   "cell_type": "code",
   "execution_count": 59,
   "id": "e71a373b-d72a-4813-ab29-4c99cc4e9318",
   "metadata": {},
   "outputs": [
    {
     "name": "stdout",
     "output_type": "stream",
     "text": [
      "Hello\n",
      "how\n",
      "are\n",
      "you\n"
     ]
    }
   ],
   "source": [
    "f = open(\"sample.txt\",'r')\n",
    "\n",
    "while True:\n",
    "    data = f.readline()\n",
    "    if data == '':\n",
    "        break\n",
    "    else:\n",
    "        print(data,end='')\n",
    "f.close()"
   ]
  },
  {
   "cell_type": "markdown",
   "id": "2be80427-66a1-4656-9983-ba78e1886df8",
   "metadata": {},
   "source": [
    "### Using context manager with\n",
    "- It's a good idea to close a file after usage as it will free up the resouces\n",
    "- if we dont close it, garbage collector would close it\n",
    "- with keyword closes te file as soon as te usage is over"
   ]
  },
  {
   "cell_type": "code",
   "execution_count": 60,
   "id": "a1243124-3be4-4e4c-ae28-dba7fdcef64d",
   "metadata": {},
   "outputs": [
    {
     "name": "stdout",
     "output_type": "stream",
     "text": [
      "hello world is evrything is ok \n"
     ]
    }
   ],
   "source": [
    "with open('sample.txt','w') as f:\n",
    "    f.write(\"hello world is evrything is ok \")\n",
    "\n",
    "with open(\"sample.txt\",'r') as f:\n",
    "    print(f.read())"
   ]
  },
  {
   "cell_type": "code",
   "execution_count": 61,
   "id": "7503090b-73a6-409c-811a-cd562accee07",
   "metadata": {},
   "outputs": [
    {
     "name": "stdout",
     "output_type": "stream",
     "text": [
      "hello worl\n",
      "d is evryt\n"
     ]
    }
   ],
   "source": [
    "with open(\"sample.txt\",\"r\") as f:\n",
    "    print(f.read(10))\n",
    "    print(f.read(10))"
   ]
  },
  {
   "cell_type": "code",
   "execution_count": 62,
   "id": "b4d9c59c-7254-4f2f-beda-7c6101bc3734",
   "metadata": {},
   "outputs": [],
   "source": [
    "bigL = [\"hello world \" for i in range(1000)]\n",
    "f = open(\"bigL.txt\",'w')\n",
    "f.writelines(bigL)\n",
    "f.close()"
   ]
  },
  {
   "cell_type": "code",
   "execution_count": 63,
   "id": "327f3ffc-50ad-44a4-99fe-580860c8d1ee",
   "metadata": {},
   "outputs": [],
   "source": [
    "bigL = [\"hello world\" for i in range(1000)]\n",
    "\n",
    "with open(\"bigL.txt\",'w') as f:\n",
    "    f.writelines(bigL)\n"
   ]
  },
  {
   "cell_type": "code",
   "execution_count": 64,
   "id": "b792e56e-e41f-48d4-b5de-f9e20d5aee10",
   "metadata": {},
   "outputs": [
    {
     "name": "stdout",
     "output_type": "stream",
     "text": [
      "ello worldhello worldhello worldhello worldhello worldhello worldhello worldhello worldhello worldhe\n",
      "o worldhello worldhello worldhello worldhello worldhello worldhello worldhello worldhello worldhello\n",
      "orldhello worldhello worldhello worldhello worldhello worldhello worldhello worldhello worldhello wo\n",
      "dhello worldhello worldhello worldhello worldhello worldhello worldhello worldhello worldhello world\n",
      "llo worldhello worldhello worldhello worldhello worldhello worldhello worldhello worldhello worldhel\n",
      " worldhello worldhello worldhello worldhello worldhello worldhello worldhello worldhello worldhello \n",
      "rldhello worldhello worldhello worldhello worldhello worldhello worldhello worldhello worldhello wor\n",
      "hello worldhello worldhello worldhello worldhello worldhello worldhello worldhello worldhello worldh\n",
      "lo worldhello worldhello worldhello worldhello worldhello worldhello worldhello worldhello worldhell\n",
      "worldhello worldhello worldhello worldhello worldhello worldhello worldhello worldhello worldhello w\n",
      "ldhello worldhello worldhello worldhello worldhello worldhello worldhello worldhello worldhello worl\n",
      "ello worldhello worldhello worldhello worldhello worldhello worldhello worldhello worldhello worldhe\n",
      "o worldhello worldhello worldhello worldhello worldhello worldhello worldhello worldhello worldhello\n",
      "orldhello worldhello worldhello worldhello worldhello worldhello worldhello worldhello worldhello wo\n",
      "dhello worldhello worldhello worldhello worldhello worldhello worldhello worldhello worldhello world\n",
      "llo worldhello worldhello worldhello worldhello worldhello worldhello worldhello worldhello worldhel\n",
      " worldhello worldhello worldhello worldhello worldhello worldhello worldhello worldhello worldhello \n",
      "rldhello worldhello worldhello worldhello worldhello worldhello worldhello worldhello worldhello wor\n",
      "hello worldhello worldhello worldhello worldhello worldhello worldhello worldhello worldhello worldh\n",
      "lo worldhello worldhello worldhello worldhello worldhello worldhello worldhello worldhello worldhell\n",
      "worldhello worldhello worldhello worldhello worldhello worldhello worldhello worldhello worldhello w\n",
      "ldhello worldhello worldhello worldhello worldhello worldhello worldhello worldhello worldhello worl\n",
      "ello worldhello worldhello worldhello worldhello worldhello worldhello worldhello worldhello worldhe\n",
      "o worldhello worldhello worldhello worldhello worldhello worldhello worldhello worldhello worldhello\n",
      "orldhello worldhello worldhello worldhello worldhello worldhello worldhello worldhello worldhello wo\n",
      "dhello worldhello worldhello worldhello worldhello worldhello worldhello worldhello worldhello world\n",
      "llo worldhello worldhello worldhello worldhello worldhello worldhello worldhello worldhello worldhel\n",
      " worldhello worldhello worldhello worldhello worldhello worldhello worldhello worldhello worldhello \n",
      "rldhello worldhello worldhello worldhello worldhello worldhello worldhello worldhello worldhello wor\n",
      "hello worldhello worldhello worldhello worldhello worldhello worldhello worldhello worldhello worldh\n",
      "lo worldhello worldhello worldhello worldhello worldhello worldhello worldhello worldhello worldhell\n",
      "worldhello worldhello worldhello worldhello worldhello worldhello worldhello worldhello worldhello w\n",
      "ldhello worldhello worldhello worldhello worldhello worldhello worldhello worldhello worldhello worl\n",
      "ello worldhello worldhello worldhello worldhello worldhello worldhello worldhello worldhello worldhe\n",
      "o worldhello worldhello worldhello worldhello worldhello worldhello worldhello worldhello worldhello\n",
      "orldhello worldhello worldhello worldhello worldhello worldhello worldhello worldhello worldhello wo\n",
      "dhello worldhello worldhello worldhello worldhello worldhello worldhello worldhello worldhello world\n"
     ]
    }
   ],
   "source": [
    "with open(\"bigL.txt\",'r') as f:\n",
    "    chunksize = 100\n",
    "    while len(f.read(chunksize)) > 0:\n",
    "        print(f.read(chunksize))\n",
    "        f.read(chunksize)"
   ]
  },
  {
   "cell_type": "code",
   "execution_count": 65,
   "id": "e2879e76-4951-4c21-9c9f-b7df9badd893",
   "metadata": {},
   "outputs": [],
   "source": [
    "# f.tell()  -> tells the next character\n",
    "# f.seek(value) -> tells the file where to go "
   ]
  },
  {
   "cell_type": "code",
   "execution_count": 68,
   "id": "99922788-1584-4d1c-82b0-41f04329d7fd",
   "metadata": {},
   "outputs": [
    {
     "name": "stdout",
     "output_type": "stream",
     "text": [
      "evrything \n",
      "25\n",
      "is ok \n",
      "31\n"
     ]
    }
   ],
   "source": [
    "# seek and tell function\n",
    "with open('sample.txt','r') as f:\n",
    "  f.seek(15)\n",
    "  print(f.read(10))\n",
    "  print(f.tell())\n",
    "  \n",
    "  print(f.read(10))\n",
    "  print(f.tell())"
   ]
  },
  {
   "cell_type": "code",
   "execution_count": 69,
   "id": "35832564-67d6-4c12-89f5-9160f3c93b08",
   "metadata": {},
   "outputs": [],
   "source": [
    "# seek during write\n",
    "with open('sample.txt','w') as f:\n",
    "  f.write('Hello')\n",
    "  f.seek(0)\n",
    "  f.write('Xa')"
   ]
  },
  {
   "cell_type": "markdown",
   "id": "f33ce1cd-a114-45f6-9797-027735867b32",
   "metadata": {},
   "source": [
    "### problem with working  in text mode  \n",
    "- cant work with binary file like images\n",
    "- not too good for other data type like int, float, list, tuples"
   ]
  },
  {
   "cell_type": "markdown",
   "id": "5209f471-790b-4e26-a775-e7f5f75f10ff",
   "metadata": {},
   "source": [
    "### Serialization and Deserialization\n",
    "- Serializarion process of converting python datatypes to json format\n",
    "- deserialization - converting json  format to python datatypes"
   ]
  },
  {
   "cell_type": "code",
   "execution_count": 71,
   "id": "dfdc0937-5732-4f79-b696-8a82b271f3e3",
   "metadata": {},
   "outputs": [],
   "source": [
    "# serialization using json module \n",
    "import  json \n",
    "L = [1,2,3,4]\n",
    "with open (\"demo.json\",\"w\") as f:\n",
    "    json.dump(L,f)"
   ]
  },
  {
   "cell_type": "code",
   "execution_count": 72,
   "id": "c1561fab-916e-445b-b93b-071936bae235",
   "metadata": {},
   "outputs": [
    {
     "name": "stdout",
     "output_type": "stream",
     "text": [
      "[1, 2, 3, 4]\n"
     ]
    }
   ],
   "source": [
    "with open(\"demo.json\",'r') as f:\n",
    "    d  = json.load(f)\n",
    "    print(d)"
   ]
  },
  {
   "cell_type": "code",
   "execution_count": 74,
   "id": "e3aad6ee-1f0c-454b-83fe-3510776a0e92",
   "metadata": {},
   "outputs": [],
   "source": [
    "# using dictionary \n",
    "d = {\n",
    "    \"name\":\"suraj\",\n",
    "    \"age\":33,\n",
    "    \"gender\":\"male\"\n",
    "}\n",
    "\n",
    "with open('demo.json','w') as f:\n",
    "    json.dump(d,f,indent=4)"
   ]
  },
  {
   "cell_type": "code",
   "execution_count": 76,
   "id": "b8e47f71-44e0-4bea-a546-c21536ee4ba8",
   "metadata": {},
   "outputs": [
    {
     "name": "stdout",
     "output_type": "stream",
     "text": [
      "{'name': 'suraj', 'age': 33, 'gender': 'male'}\n"
     ]
    }
   ],
   "source": [
    "with open('demo.json','r') as f:\n",
    "    print(json.load(f))"
   ]
  },
  {
   "cell_type": "markdown",
   "id": "4dfef1c4-06a8-4c59-98ab-9dcb216c8b8c",
   "metadata": {},
   "source": [
    "### Serializing and deserializing custom object  \n"
   ]
  },
  {
   "cell_type": "code",
   "execution_count": 2,
   "id": "e34de932-78d4-4b6a-b65c-b988b8501586",
   "metadata": {},
   "outputs": [
    {
     "name": "stdout",
     "output_type": "stream",
     "text": [
      "suraj kumar age -> 21 -> gender: male\n"
     ]
    }
   ],
   "source": [
    "import json\n",
    "\n",
    "class Person:\n",
    "    def __init__(self, fname, lname, age, gender):\n",
    "        self.fname = fname\n",
    "        self.lname = lname\n",
    "        self.age = age\n",
    "        self.gender = gender\n",
    "\n",
    "# Create object\n",
    "person = Person(\"suraj\", \"kumar\", 21, \"male\")\n",
    "\n",
    "# Function to display object details\n",
    "def show_object(person):\n",
    "    if isinstance(person, Person):\n",
    "        return \"{} {} age -> {} -> gender: {}\".format(\n",
    "            person.fname, person.lname, person.age, person\n",
    ".gender\n",
    "        )\n",
    "\n",
    "print(show_object(person))\n",
    "\n",
    "# Save object to JSON\n",
    "with open(\"demo.json\", 'w') as f:\n",
    "    json.dump(person.__dict__, f)  # Convert object to dictionary"
   ]
  },
  {
   "cell_type": "markdown",
   "id": "7889f369-7ee3-4dae-a221-a531d5cd6cc4",
   "metadata": {},
   "source": [
    "### Pickling\n",
    "- Pickling is the process of whereby a pyton string is converted into a byte stream, and 'unpickling' is the inverse operation, whereby a byte stream is converteed back into an object hirarchy"
   ]
  },
  {
   "cell_type": "code",
   "execution_count": 13,
   "id": "a6044e4c-a777-43a1-9489-2a24f00c9019",
   "metadata": {},
   "outputs": [],
   "source": [
    "class Person:\n",
    "\n",
    "    def __init__(self,name,age):\n",
    "        self.name = name \n",
    "        self.age = age\n",
    "\n",
    "    def display_info(self):\n",
    "        print(\"hii my name is \",self.name,\"and i am \",self.age,\"years old\")"
   ]
  },
  {
   "cell_type": "code",
   "execution_count": 14,
   "id": "515d4beb-68b5-45de-ba59-538bc400b985",
   "metadata": {},
   "outputs": [],
   "source": [
    "p = Person(\"nitish\",89)"
   ]
  },
  {
   "cell_type": "code",
   "execution_count": 15,
   "id": "dff8edfe-8c0b-4e1a-adaa-07e355677d7c",
   "metadata": {},
   "outputs": [
    {
     "name": "stdout",
     "output_type": "stream",
     "text": [
      "hii my name is  nitish and i am  89 years old\n"
     ]
    }
   ],
   "source": [
    "p.display_info()"
   ]
  },
  {
   "cell_type": "code",
   "execution_count": 16,
   "id": "7b9c988f-c3c5-406a-813f-b0797098696b",
   "metadata": {},
   "outputs": [],
   "source": [
    "import pickle\n",
    "\n",
    "with open(\"nitish.pkl\",'wb') as f:\n",
    "    pickle.dump(p,f)"
   ]
  },
  {
   "cell_type": "code",
   "execution_count": 17,
   "id": "e8f48a8c-80ee-48be-877c-7f372cadf6f5",
   "metadata": {},
   "outputs": [
    {
     "name": "stdout",
     "output_type": "stream",
     "text": [
      "<__main__.Person object at 0x7f33a0c53c50>\n"
     ]
    }
   ],
   "source": [
    "import pickle\n",
    "\n",
    "with open(\"nitish.pkl\",\"rb\") as f:\n",
    "    data = pickle.load(f)   # store the loaded object\n",
    "\n",
    "print(data)   # prints the actual Python object inside the pickle\n"
   ]
  },
  {
   "cell_type": "code",
   "execution_count": 18,
   "id": "b1142dbd-21b7-478a-90e1-34f5d8fc3390",
   "metadata": {},
   "outputs": [
    {
     "name": "stdout",
     "output_type": "stream",
     "text": [
      "Hi, my name is Nitish and I am 89 years old.\n",
      "Person(name=Nitish, age=89)\n",
      "Hi, my name is Nitish and I am 89 years old.\n"
     ]
    }
   ],
   "source": [
    "import pickle\n",
    "\n",
    "class Person:\n",
    "    def __init__(self, name, age):\n",
    "        self.name = name \n",
    "        self.age = age\n",
    "\n",
    "    def display_info(self):\n",
    "        print(f\"Hi, my name is {self.name} and I am {self.age} years old.\")\n",
    "\n",
    "    def __repr__(self):  # <-- this makes print(data) look nice\n",
    "        return f\"Person(name={self.name}, age={self.age})\"\n",
    "\n",
    "# Create a Person object\n",
    "p = Person(\"Nitish\", 89)\n",
    "p.display_info()\n",
    "\n",
    "# Save to pickle\n",
    "with open(\"nitish.pkl\", 'wb') as f:\n",
    "    pickle.dump(p, f)\n",
    "\n",
    "# Load from pickle\n",
    "with open(\"nitish.pkl\", \"rb\") as f:\n",
    "    data = pickle.load(f)\n",
    "\n",
    "# This will now show Person(name=Nitish, age=89)\n",
    "print(data)\n",
    "\n",
    "# You can still call its methods after loading\n",
    "data.display_info()\n"
   ]
  },
  {
   "cell_type": "markdown",
   "id": "fd4a83ee-d9da-4de2-a6ac-7693ec0e47b2",
   "metadata": {},
   "source": [
    "### Pickle vs Json\n",
    "- Pickle lets the user to store data in binary format. json lets the user store data in a human readable format"
   ]
  }
 ],
 "metadata": {
  "kernelspec": {
   "display_name": "Python 3 (ipykernel)",
   "language": "python",
   "name": "python3"
  },
  "language_info": {
   "codemirror_mode": {
    "name": "ipython",
    "version": 3
   },
   "file_extension": ".py",
   "mimetype": "text/x-python",
   "name": "python",
   "nbconvert_exporter": "python",
   "pygments_lexer": "ipython3",
   "version": "3.13.5"
  }
 },
 "nbformat": 4,
 "nbformat_minor": 5
}
