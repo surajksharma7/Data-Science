{
 "cells": [
  {
   "cell_type": "markdown",
   "id": "834ba743-5e50-4296-bd1b-e029a3de06bb",
   "metadata": {},
   "source": [
    "### Some Theory\n",
    "Types of Data used for IO\n",
    "- Text '12345' as a sequence of unicode character\n",
    "- Binary - 1234 as a sequence of bytes of its binary equivalent\n",
    "  \n",
    "Hence there are 2 files to deal with\n",
    "- Text files - All programs files are text file\n",
    "- Binary files - Image, music, videos, exe files\n",
    "\n",
    "### How file I/O is done in most programming language\n",
    "- Open a file\n",
    "- read/write a file\n",
    "- Close the file "
   ]
  },
  {
   "cell_type": "markdown",
   "id": "41161e70-4644-43f1-915e-01330cc04bd0",
   "metadata": {},
   "source": [
    "## Writing to a file"
   ]
  },
  {
   "cell_type": "code",
   "execution_count": 1,
   "id": "b7f9664f-c5c2-4abd-b11a-e2bb93789395",
   "metadata": {},
   "outputs": [
    {
     "data": {
      "text/plain": [
       "11"
      ]
     },
     "execution_count": 1,
     "metadata": {},
     "output_type": "execute_result"
    }
   ],
   "source": [
    "f = open('sample.txt','w')\n",
    "f.write(\"hello world\")"
   ]
  },
  {
   "cell_type": "code",
   "execution_count": null,
   "id": "5f111ca9-f14b-414f-b6c7-50645ef504da",
   "metadata": {},
   "outputs": [],
   "source": []
  }
 ],
 "metadata": {
  "kernelspec": {
   "display_name": "Python 3 (ipykernel)",
   "language": "python",
   "name": "python3"
  },
  "language_info": {
   "codemirror_mode": {
    "name": "ipython",
    "version": 3
   },
   "file_extension": ".py",
   "mimetype": "text/x-python",
   "name": "python",
   "nbconvert_exporter": "python",
   "pygments_lexer": "ipython3",
   "version": "3.13.5"
  }
 },
 "nbformat": 4,
 "nbformat_minor": 5
}
