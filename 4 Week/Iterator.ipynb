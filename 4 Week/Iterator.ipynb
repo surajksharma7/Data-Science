{
 "cells": [
  {
   "cell_type": "markdown",
   "id": "ab6c7bbb-2094-4ca7-8f65-d3540713ffdc",
   "metadata": {},
   "source": [
    "### What is an iteration\n",
    "\n",
    "Iteration is a general term for taking each items of something, one after another, any time you use a loop, explicit or implicit, to go over a group of items, this is iteration"
   ]
  },
  {
   "cell_type": "code",
   "execution_count": 1,
   "id": "dbb252f8-5033-469b-9f8f-4e3b28f35ec4",
   "metadata": {},
   "outputs": [
    {
     "name": "stdout",
     "output_type": "stream",
     "text": [
      "1\n",
      "2\n",
      "3\n"
     ]
    }
   ],
   "source": [
    "# example \n",
    "num = [1,2,3]\n",
    "for i in num:\n",
    "    print(i)"
   ]
  },
  {
   "cell_type": "markdown",
   "id": "1d2c9ffa-4383-4044-8538-f0e018812ea9",
   "metadata": {},
   "source": [
    "### what is iterator \n",
    "\n",
    "An iterator is an object that allows the programmer to traverse through a sequence of data withoud having to store the entire data in the memory"
   ]
  },
  {
   "cell_type": "code",
   "execution_count": 7,
   "id": "5939d69b-78b4-427d-b9ed-44a09f3a8aed",
   "metadata": {},
   "outputs": [
    {
     "data": {
      "text/plain": [
       "0.08123016357421875"
      ]
     },
     "execution_count": 7,
     "metadata": {},
     "output_type": "execute_result"
    }
   ],
   "source": [
    "L = [x for x in range(1, 10000)]\n",
    "# for i in L:\n",
    "#     print(i*2)\n",
    "\n",
    "import sys\n",
    "sys.getsizeof(L)/(1024 * 1024)\n"
   ]
  },
  {
   "cell_type": "markdown",
   "id": "a46e8cf4-d2f4-483d-9fc7-d4c86307c3eb",
   "metadata": {},
   "source": [
    "### What is an iterable\n",
    "\n",
    "Iterable is an object, which one can iterate over\n",
    "It generates an iterator when passed to iter() method"
   ]
  },
  {
   "cell_type": "code",
   "execution_count": 8,
   "id": "a2bcc681-a1e8-46db-9c1e-f81e67fd9d1c",
   "metadata": {},
   "outputs": [
    {
     "data": {
      "text/plain": [
       "list_iterator"
      ]
     },
     "execution_count": 8,
     "metadata": {},
     "output_type": "execute_result"
    }
   ],
   "source": [
    "L = [1,2,3]\n",
    "\n",
    "type(L)\n",
    "type(iter(L))"
   ]
  },
  {
   "cell_type": "markdown",
   "id": "2c165467-8541-46a2-9543-c590c4b99cd2",
   "metadata": {},
   "source": [
    "### Points to remember\n",
    "- Every iterator is also an iterable\n",
    "- Not all iterator are iterators"
   ]
  },
  {
   "cell_type": "code",
   "execution_count": 17,
   "id": "eac59465-540d-4aae-a13b-7f807b8c584d",
   "metadata": {},
   "outputs": [
    {
     "data": {
      "text/plain": [
       "3"
      ]
     },
     "execution_count": 17,
     "metadata": {},
     "output_type": "execute_result"
    }
   ],
   "source": [
    "nums = [1,2,3]\n",
    "\n",
    "# for i in nums:\n",
    "#     print(i)\n",
    "\n",
    "iter_num = iter(num)\n",
    "\n",
    "next(iter_num)\n",
    "next(iter_num)\n",
    "next(iter_num)"
   ]
  },
  {
   "cell_type": "code",
   "execution_count": 20,
   "id": "e7bc87cc-0cfc-4c60-b63c-d2dcf6ded168",
   "metadata": {},
   "outputs": [
    {
     "name": "stdout",
     "output_type": "stream",
     "text": [
      "1\n",
      "2\n",
      "3\n",
      "4\n"
     ]
    }
   ],
   "source": [
    "def forLoop(iterable):\n",
    "    iterator = iter(iterable)\n",
    "    while True:\n",
    "\n",
    "        try:\n",
    "            print(next(iterator))\n",
    "        except StopIteration:\n",
    "            break\n",
    "a = [1,2,3,4]\n",
    "forLoop(a)"
   ]
  },
  {
   "cell_type": "code",
   "execution_count": 21,
   "id": "12b7bf17-7c06-40a5-bd54-5c3f8fa024a8",
   "metadata": {},
   "outputs": [
    {
     "data": {
      "text/plain": [
       "['__add__',\n",
       " '__class__',\n",
       " '__class_getitem__',\n",
       " '__contains__',\n",
       " '__delattr__',\n",
       " '__delitem__',\n",
       " '__dir__',\n",
       " '__doc__',\n",
       " '__eq__',\n",
       " '__format__',\n",
       " '__ge__',\n",
       " '__getattribute__',\n",
       " '__getitem__',\n",
       " '__getstate__',\n",
       " '__gt__',\n",
       " '__hash__',\n",
       " '__iadd__',\n",
       " '__imul__',\n",
       " '__init__',\n",
       " '__init_subclass__',\n",
       " '__iter__',\n",
       " '__le__',\n",
       " '__len__',\n",
       " '__lt__',\n",
       " '__mul__',\n",
       " '__ne__',\n",
       " '__new__',\n",
       " '__reduce__',\n",
       " '__reduce_ex__',\n",
       " '__repr__',\n",
       " '__reversed__',\n",
       " '__rmul__',\n",
       " '__setattr__',\n",
       " '__setitem__',\n",
       " '__sizeof__',\n",
       " '__str__',\n",
       " '__subclasshook__',\n",
       " 'append',\n",
       " 'clear',\n",
       " 'copy',\n",
       " 'count',\n",
       " 'extend',\n",
       " 'index',\n",
       " 'insert',\n",
       " 'pop',\n",
       " 'remove',\n",
       " 'reverse',\n",
       " 'sort']"
      ]
     },
     "execution_count": 21,
     "metadata": {},
     "output_type": "execute_result"
    }
   ],
   "source": [
    "num = [1,2,3]\n",
    "\n",
    "dir(num)"
   ]
  },
  {
   "cell_type": "code",
   "execution_count": 23,
   "id": "f0bbdb70-5edf-496a-a7da-43aa92ad2b48",
   "metadata": {},
   "outputs": [],
   "source": [
    "\n",
    "class mera_range:\n",
    "    \n",
    "    def __init__(self,start,end):\n",
    "        self.start = start\n",
    "        self.end = end\n",
    "        \n",
    "    def __iter__(self):\n",
    "        return mera_range_iterator(self)"
   ]
  },
  {
   "cell_type": "code",
   "execution_count": 24,
   "id": "18181afa-992f-4026-8cf0-82142795338b",
   "metadata": {},
   "outputs": [],
   "source": [
    "class mera_range_iterator:\n",
    "    \n",
    "    def __init__(self,iterable_obj):\n",
    "        self.iterable = iterable_obj\n",
    "    \n",
    "    def __iter__(self):\n",
    "        return self\n",
    "    \n",
    "    def __next__(self):\n",
    "        \n",
    "        if self.iterable.start >= self.iterable.end:\n",
    "            raise StopIteration\n",
    "            \n",
    "        current = self.iterable.start\n",
    "        self.iterable.start+=1\n",
    "        return current"
   ]
  },
  {
   "cell_type": "code",
   "execution_count": 26,
   "id": "5c5d26fc-900b-44c4-9b94-d829881d8b94",
   "metadata": {},
   "outputs": [
    {
     "name": "stdout",
     "output_type": "stream",
     "text": [
      "1\n",
      "2\n",
      "3\n",
      "4\n",
      "5\n",
      "6\n",
      "7\n",
      "8\n",
      "9\n",
      "10\n"
     ]
    }
   ],
   "source": [
    "for i in mera_range(1,11):\n",
    "    print(i)"
   ]
  },
  {
   "cell_type": "code",
   "execution_count": 27,
   "id": "3f75fd34-1ff6-459b-b55d-dc3022e54f68",
   "metadata": {},
   "outputs": [],
   "source": [
    "# study this topic again this is used in machine learning when we have less memory"
   ]
  },
  {
   "cell_type": "code",
   "execution_count": null,
   "id": "1ff54fdd-8182-4e8c-a1ac-1bf13c36eb01",
   "metadata": {},
   "outputs": [],
   "source": []
  }
 ],
 "metadata": {
  "kernelspec": {
   "display_name": "Python 3 (ipykernel)",
   "language": "python",
   "name": "python3"
  },
  "language_info": {
   "codemirror_mode": {
    "name": "ipython",
    "version": 3
   },
   "file_extension": ".py",
   "mimetype": "text/x-python",
   "name": "python",
   "nbconvert_exporter": "python",
   "pygments_lexer": "ipython3",
   "version": "3.13.5"
  }
 },
 "nbformat": 4,
 "nbformat_minor": 5
}
