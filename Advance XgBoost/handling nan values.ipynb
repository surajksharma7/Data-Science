{
  "nbformat": 4,
  "nbformat_minor": 0,
  "metadata": {
    "colab": {
      "provenance": [],
      "gpuType": "T4"
    },
    "kernelspec": {
      "name": "python3",
      "display_name": "Python 3"
    },
    "language_info": {
      "name": "python"
    },
    "accelerator": "GPU"
  },
  "cells": [
    {
      "cell_type": "code",
      "execution_count": null,
      "metadata": {
        "colab": {
          "base_uri": "https://localhost:8080/"
        },
        "id": "m4AikTqJ4ICT",
        "outputId": "99ddf913-b857-4b90-aa5d-8eeec84b7b0c"
      },
      "outputs": [
        {
          "output_type": "execute_result",
          "data": {
            "text/plain": [
              "array([[0.5488135 , 0.71518937],\n",
              "       [0.60276338, 0.54488318],\n",
              "       [0.4236548 , 0.64589411],\n",
              "       [0.43758721, 0.891773  ],\n",
              "       [0.96366276, 0.38344152],\n",
              "       [0.79172504, 0.52889492],\n",
              "       [0.56804456, 0.92559664],\n",
              "       [0.07103606, 0.0871293 ],\n",
              "       [0.0202184 , 0.83261985],\n",
              "       [0.77815675, 0.87001215],\n",
              "       [0.97861834, 0.79915856],\n",
              "       [0.46147936, 0.78052918],\n",
              "       [0.11827443, 0.63992102],\n",
              "       [0.14335329, 0.94466892],\n",
              "       [0.52184832, 0.41466194],\n",
              "       [0.26455561, 0.77423369],\n",
              "       [0.45615033, 0.56843395],\n",
              "       [0.0187898 , 0.6176355 ],\n",
              "       [0.61209572, 0.616934  ],\n",
              "       [0.94374808, 0.6818203 ],\n",
              "       [       nan, 0.43703195],\n",
              "       [       nan, 0.06022547],\n",
              "       [       nan, 0.67063787],\n",
              "       [       nan, 0.1289263 ],\n",
              "       [       nan, 0.36371077],\n",
              "       [       nan, 0.43860151],\n",
              "       [       nan, 0.10204481],\n",
              "       [       nan, 0.16130952],\n",
              "       [       nan, 0.2532916 ],\n",
              "       [       nan, 0.24442559],\n",
              "       [       nan, 0.11037514],\n",
              "       [       nan, 0.13818295],\n",
              "       [       nan, 0.36872517],\n",
              "       [       nan, 0.09710128],\n",
              "       [       nan, 0.09609841],\n",
              "       [       nan, 0.4686512 ],\n",
              "       [       nan, 0.60484552],\n",
              "       [       nan, 0.03918779],\n",
              "       [       nan, 0.12019656],\n",
              "       [       nan, 0.11872772],\n",
              "       [0.31798318, 0.41426299],\n",
              "       [0.0641475 , 0.69247212],\n",
              "       [0.56660145, 0.26538949],\n",
              "       [0.52324805, 0.09394051],\n",
              "       [0.5759465 , 0.9292962 ],\n",
              "       [0.31856895, 0.66741038],\n",
              "       [0.13179786, 0.7163272 ],\n",
              "       [0.28940609, 0.18319136],\n",
              "       [0.58651293, 0.02010755],\n",
              "       [0.82894003, 0.00469548],\n",
              "       [0.67781654, 0.27000797],\n",
              "       [0.73519402, 0.96218855],\n",
              "       [0.24875314, 0.57615733],\n",
              "       [0.59204193, 0.57225191],\n",
              "       [0.22308163, 0.95274901],\n",
              "       [0.44712538, 0.84640867],\n",
              "       [0.69947928, 0.29743695],\n",
              "       [0.81379782, 0.39650574],\n",
              "       [0.8811032 , 0.58127287],\n",
              "       [0.88173536, 0.69253159],\n",
              "       [0.72525428, 0.50132438],\n",
              "       [0.95608363, 0.6439902 ],\n",
              "       [0.42385505, 0.60639321],\n",
              "       [0.0191932 , 0.30157482],\n",
              "       [0.66017354, 0.29007761],\n",
              "       [0.61801543, 0.4287687 ],\n",
              "       [0.13547406, 0.29828233],\n",
              "       [0.56996491, 0.59087276],\n",
              "       [0.57432525, 0.65320082],\n",
              "       [0.65210327, 0.43141844],\n",
              "       [0.8965466 , 0.36756187],\n",
              "       [0.43586493, 0.89192336],\n",
              "       [0.80619399, 0.70388858],\n",
              "       [0.10022689, 0.91948261],\n",
              "       [0.7142413 , 0.99884701],\n",
              "       [0.1494483 , 0.86812606],\n",
              "       [0.16249293, 0.61555956],\n",
              "       [0.12381998, 0.84800823],\n",
              "       [0.80731896, 0.56910074],\n",
              "       [0.4071833 , 0.069167  ],\n",
              "       [0.69742877, 0.45354268],\n",
              "       [0.7220556 , 0.86638233],\n",
              "       [0.97552151, 0.85580334],\n",
              "       [0.01171408, 0.35997806],\n",
              "       [0.72999056, 0.17162968],\n",
              "       [0.52103661, 0.05433799],\n",
              "       [0.19999652, 0.01852179],\n",
              "       [0.7936977 , 0.22392469],\n",
              "       [0.34535168, 0.92808129],\n",
              "       [0.7044144 , 0.03183893],\n",
              "       [0.16469416, 0.6214784 ],\n",
              "       [0.57722859, 0.23789282],\n",
              "       [0.934214  , 0.61396596],\n",
              "       [0.5356328 , 0.58990998],\n",
              "       [0.73012203, 0.311945  ],\n",
              "       [0.39822106, 0.20984375],\n",
              "       [0.18619301, 0.94437239],\n",
              "       [0.7395508 , 0.49045881],\n",
              "       [0.22741463, 0.25435648],\n",
              "       [0.05802916, 0.43441663]])"
            ]
          },
          "metadata": {},
          "execution_count": 1
        }
      ],
      "source": [
        "import numpy as np\n",
        "import pandas as pd\n",
        "from sklearn.model_selection import train_test_split\n",
        "from sklearn.linear_model import LinearRegression\n",
        "from sklearn.metrics import mean_squared_error\n",
        "from xgboost import XGBRegressor\n",
        "\n",
        "# Generating a toy dataset\n",
        "np.random.seed(0)\n",
        "X = np.random.rand(100, 2)\n",
        "y = X @ np.array([1.5, -2]) + np.random.normal(0, 0.1, 100)\n",
        "\n",
        "# Introducing missing values in the first feature\n",
        "X[20:40, 0] = np.nan\n",
        "\n",
        "X"
      ]
    },
    {
      "cell_type": "code",
      "source": [
        "# Splitting the dataset into train and test sets\n",
        "X_train, X_test, y_train, y_test = train_test_split(X, y, test_size=0.2, random_state=42)\n"
      ],
      "metadata": {
        "id": "4teLmEas4K06"
      },
      "execution_count": null,
      "outputs": []
    },
    {
      "cell_type": "code",
      "source": [
        "# Trying Linear Regression (this should fail due to missing values)\n",
        "lr = LinearRegression()\n",
        "try:\n",
        "    lr.fit(X_train, y_train)\n",
        "    y_pred = lr.predict(X_test)\n",
        "    print(f\"Linear Regression MSE: {mean_squared_error(y_test, y_pred)}\")\n",
        "except ValueError as e:\n",
        "    print(f\"Linear Regression Error: {e}\")"
      ],
      "metadata": {
        "colab": {
          "base_uri": "https://localhost:8080/"
        },
        "id": "IDNYQJbJ4NPl",
        "outputId": "6dc1162b-694c-4745-c0b2-b14b7a4da378"
      },
      "execution_count": null,
      "outputs": [
        {
          "output_type": "stream",
          "name": "stdout",
          "text": [
            "Linear Regression Error: Input X contains NaN.\n",
            "LinearRegression does not accept missing values encoded as NaN natively. For supervised learning, you might want to consider sklearn.ensemble.HistGradientBoostingClassifier and Regressor which accept missing values encoded as NaNs natively. Alternatively, it is possible to preprocess the data, for instance by using an imputer transformer in a pipeline or drop samples with missing values. See https://scikit-learn.org/stable/modules/impute.html You can find a list of all estimators that handle NaN values at the following page: https://scikit-learn.org/stable/modules/impute.html#estimators-that-handle-nan-values\n"
          ]
        }
      ]
    },
    {
      "cell_type": "code",
      "source": [
        "# Now, using XGBoost which can handle missing values\n",
        "xgb = XGBRegressor(max_depth=3)\n",
        "xgb.fit(X_train, y_train, eval_set=[(X_test, y_test)], verbose=False)\n",
        "y_pred_xgb = xgb.predict(X_test)\n",
        "print(f\"XGBoost MSE: {mean_squared_error(y_test, y_pred_xgb)}\")"
      ],
      "metadata": {
        "colab": {
          "base_uri": "https://localhost:8080/"
        },
        "id": "XRf9WsbU4Ppp",
        "outputId": "cb4096fa-9d2e-42bf-d63c-d45541bf9e26"
      },
      "execution_count": null,
      "outputs": [
        {
          "output_type": "stream",
          "name": "stdout",
          "text": [
            "XGBoost MSE: 0.23530803495794123\n"
          ]
        }
      ]
    },
    {
      "cell_type": "code",
      "source": [
        "from xgboost import XGBRegressor, plot_tree\n",
        "import matplotlib.pyplot as plt\n",
        "\n",
        "# Plotting the first tree\n",
        "plt.figure(figsize=(15, 11))\n",
        "plot_tree(xgb, num_trees=1, rankdir='LR')  # 'LR' is for left-to-right tree orientation\n",
        "plt.show()"
      ],
      "metadata": {
        "colab": {
          "base_uri": "https://localhost:8080/",
          "height": 226
        },
        "id": "XjbsUil24baT",
        "outputId": "0b99f663-2122-47cf-d37e-2ebf10d48d2e"
      },
      "execution_count": null,
      "outputs": [
        {
          "output_type": "display_data",
          "data": {
            "text/plain": [
              "<Figure size 1500x1100 with 0 Axes>"
            ]
          },
          "metadata": {}
        },
        {
          "output_type": "display_data",
          "data": {
            "text/plain": [
              "<Figure size 640x480 with 1 Axes>"
            ],
            "image/png": "[encoded data removed]"
          },
          "metadata": {}
        }
      ]
    },
    {
      "cell_type": "code",
      "source": [
        "from sklearn.model_selection import train_test_split\n",
        "from sklearn.datasets import make_classification\n",
        "\n",
        "# Generating a synthetic dataset\n",
        "X, y = make_classification(n_samples=1000000, n_features=50, random_state=42)\n",
        "X_train, X_test, y_train, y_test = train_test_split(X, y, test_size=0.2, random_state=42)\n"
      ],
      "metadata": {
        "id": "iHzUkpTo5GxV"
      },
      "execution_count": null,
      "outputs": []
    },
    {
      "cell_type": "code",
      "source": [
        "import xgboost as xgb\n",
        "import time\n",
        "\n",
        "# Configure parameters for CPU\n",
        "params_cpu = {\n",
        "    'objective': 'binary:logistic',\n",
        "    'tree_method': 'hist',  # Using histogram-based method on CPU\n",
        "    'eval_metric': 'logloss'\n",
        "}\n",
        "\n",
        "# Train on CPU\n",
        "cpu_start = time.time()\n",
        "model_cpu = xgb.XGBClassifier(**params_cpu)\n",
        "model_cpu.fit(X_train, y_train)\n",
        "cpu_end = time.time()\n",
        "\n",
        "print(f\"Training time with CPU: {cpu_end - cpu_start} seconds\")\n"
      ],
      "metadata": {
        "colab": {
          "base_uri": "https://localhost:8080/"
        },
        "id": "gfUut4gVVb-O",
        "outputId": "0ed49c61-70ed-48ad-9868-70e151fe0fdd"
      },
      "execution_count": null,
      "outputs": [
        {
          "output_type": "stream",
          "name": "stdout",
          "text": [
            "Training time with CPU: 21.21479058265686 seconds\n"
          ]
        }
      ]
    },
    {
      "cell_type": "code",
      "source": [
        "# Specify the parameters for XGBClassifier, setting device to 'cuda' for GPU usage\n",
        "params_gpu = {\n",
        "    'objective': 'binary:logistic',\n",
        "    'tree_method': 'hist',  # Use histogram-based method\n",
        "    'eval_metric': 'logloss',\n",
        "    'device': 'cuda'  # Use CUDA for GPU computation\n",
        "}\n",
        "\n",
        "# Train on GPU\n",
        "gpu_start = time.time()\n",
        "model_gpu = xgb.XGBClassifier(**params_gpu)\n",
        "model_gpu.fit(X_train, y_train)\n",
        "gpu_end = time.time()\n",
        "\n",
        "print(f\"Training time with GPU: {gpu_end - gpu_start} seconds\")"
      ],
      "metadata": {
        "colab": {
          "base_uri": "https://localhost:8080/"
        },
        "id": "GsE2ousJVf5d",
        "outputId": "e6047346-e4c9-4007-95b8-82d03f06725b"
      },
      "execution_count": null,
      "outputs": [
        {
          "output_type": "stream",
          "name": "stderr",
          "text": [
            "/usr/local/lib/python3.10/dist-packages/xgboost/core.py:160: UserWarning: [13:31:23] WARNING: /workspace/src/common/error_msg.cc:45: `gpu_id` is deprecated since2.0.0, use `device` instead. E.g. device=cpu/cuda/cuda:0\n",
            "  warnings.warn(smsg, UserWarning)\n",
            "/usr/local/lib/python3.10/dist-packages/xgboost/core.py:160: UserWarning: [13:31:23] WARNING: /workspace/src/common/error_msg.cc:27: The tree method `gpu_hist` is deprecated since 2.0.0. To use GPU training, set the `device` parameter to CUDA instead.\n",
            "\n",
            "    E.g. tree_method = \"hist\", device = \"cuda\"\n",
            "\n",
            "  warnings.warn(smsg, UserWarning)\n"
          ]
        },
        {
          "output_type": "stream",
          "name": "stdout",
          "text": [
            "Training time with GPU: 8.777964353561401 seconds\n"
          ]
        }
      ]
    },
    {
      "cell_type": "code",
      "source": [
        "import time\n",
        "from xgboost import XGBClassifier\n",
        "from sklearn.datasets import make_classification\n",
        "from sklearn.model_selection import train_test_split\n",
        "\n",
        "# Generating a synthetic dataset\n",
        "X, y = make_classification(n_samples=100000, n_features=20, n_informative=2, n_redundant=10, random_state=42)\n",
        "X_train, X_test, y_train, y_test = train_test_split(X, y, test_size=0.2, random_state=42)\n",
        "\n",
        "# Function to train and time XGBoost with a specified number of threads\n",
        "def train_xgboost(nthread):\n",
        "    model = XGBClassifier(nthread=nthread)\n",
        "    start_time = time.time()\n",
        "    model.fit(X_train, y_train)\n",
        "    end_time = time.time()\n",
        "    return end_time - start_time\n",
        "\n",
        "# Training using all available cores\n",
        "multi_core_duration = train_xgboost(nthread=-1)\n",
        "print(f\"Training time with all available cores: {multi_core_duration} seconds\")\n",
        "\n",
        "# Training using a single core\n",
        "single_core_duration = train_xgboost(nthread=1)\n",
        "print(f\"Training time with a single core: {single_core_duration} seconds\")\n"
      ],
      "metadata": {
        "colab": {
          "base_uri": "https://localhost:8080/"
        },
        "id": "I_Ti7mpCVp19",
        "outputId": "b6276560-59fb-460c-da6b-d8aade218412"
      },
      "execution_count": null,
      "outputs": [
        {
          "output_type": "stream",
          "name": "stdout",
          "text": [
            "Training time with all available cores: 4.027497291564941 seconds\n",
            "Training time with a single core: 1.4793806076049805 seconds\n"
          ]
        }
      ]
    },
    {
      "cell_type": "code",
      "source": [],
      "metadata": {
        "id": "_-FaZaFTcfuC"
      },
      "execution_count": null,
      "outputs": []
    }
  ]
}