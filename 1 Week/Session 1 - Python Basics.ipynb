{
 "cells": [
  {
   "cell_type": "markdown",
   "id": "3e41f97e-2f10-4a85-8f98-d00f220fe9c1",
   "metadata": {},
   "source": [
    "#### Why Python \n",
    "\n",
    "- Design philosophy\n",
    "- Easy to learn\n",
    "- Batteries included\n",
    "- General Purpose\n",
    "- Communities/Libraries"
   ]
  },
  {
   "cell_type": "markdown",
   "id": "da33d2a2-41c3-4051-8a93-8920530c10c1",
   "metadata": {},
   "source": [
    "#### Why Python for data Science\n",
    "- Easy to learn\n",
    "- Proximity with maths\n",
    "- Communitiy\n"
   ]
  },
  {
   "cell_type": "markdown",
   "id": "7849e969-bb50-4f9d-a9a1-e5c194ab7f8f",
   "metadata": {},
   "source": [
    "#### Python Output"
   ]
  },
  {
   "cell_type": "code",
   "execution_count": 2,
   "id": "38e24a7f-599d-4572-b484-ae3968eb82c6",
   "metadata": {},
   "outputs": [
    {
     "name": "stdout",
     "output_type": "stream",
     "text": [
      "hello world\n"
     ]
    }
   ],
   "source": [
    "print(\"hello world\") # python is a case sensitive langauge"
   ]
  },
  {
   "cell_type": "code",
   "execution_count": 3,
   "id": "8cdbf1e1-45f4-4fb3-b14f-7e8de29e4b88",
   "metadata": {},
   "outputs": [
    {
     "name": "stdout",
     "output_type": "stream",
     "text": [
      "salmaan khan\n"
     ]
    }
   ],
   "source": [
    "print(\"salmaan khan\")"
   ]
  },
  {
   "cell_type": "code",
   "execution_count": 4,
   "id": "939ee93c-9798-4d79-a8a7-a62011a7a5b4",
   "metadata": {},
   "outputs": [
    {
     "ename": "SyntaxError",
     "evalue": "invalid syntax. Perhaps you forgot a comma? (4215142655.py, line 1)",
     "output_type": "error",
     "traceback": [
      "\u001b[0;36m  Cell \u001b[0;32mIn[4], line 1\u001b[0;36m\u001b[0m\n\u001b[0;31m    print(salmaan khan) # this will throw error because this is string and should be written inside \"\"\u001b[0m\n\u001b[0m          ^\u001b[0m\n\u001b[0;31mSyntaxError\u001b[0m\u001b[0;31m:\u001b[0m invalid syntax. Perhaps you forgot a comma?\n"
     ]
    }
   ],
   "source": [
    "print(salmaan khan) # this will throw error because this is string and should be written inside \"\""
   ]
  },
  {
   "cell_type": "code",
   "execution_count": 5,
   "id": "bdb41ceb-d456-4b70-a8f6-91e5db52f4dd",
   "metadata": {},
   "outputs": [
    {
     "name": "stdout",
     "output_type": "stream",
     "text": [
      "7\n"
     ]
    }
   ],
   "source": [
    "print(7)"
   ]
  },
  {
   "cell_type": "code",
   "execution_count": 6,
   "id": "b218b8b4-7be6-4d2b-b148-e3c8e0b97a97",
   "metadata": {},
   "outputs": [
    {
     "name": "stdout",
     "output_type": "stream",
     "text": [
      "true\n"
     ]
    }
   ],
   "source": [
    "print('true')"
   ]
  },
  {
   "cell_type": "code",
   "execution_count": 7,
   "id": "4ab5c0b4-b85d-46dd-bc35-f44074fc9612",
   "metadata": {},
   "outputs": [
    {
     "name": "stdout",
     "output_type": "stream",
     "text": [
      "hello 5 True\n"
     ]
    }
   ],
   "source": [
    "print('hello',5,True)"
   ]
  },
  {
   "cell_type": "code",
   "execution_count": 8,
   "id": "2e30b07f-a6ca-4851-820c-c039178fc309",
   "metadata": {},
   "outputs": [
    {
     "name": "stdout",
     "output_type": "stream",
     "text": [
      "hello/5/True\n"
     ]
    }
   ],
   "source": [
    "print('hello',5,True,sep='/')"
   ]
  },
  {
   "cell_type": "code",
   "execution_count": 9,
   "id": "8ee916cc-74ae-4585-9f59-cc115dcc2ffd",
   "metadata": {},
   "outputs": [
    {
     "name": "stdout",
     "output_type": "stream",
     "text": [
      "hello\n",
      "world\n"
     ]
    }
   ],
   "source": [
    "print('hello')\n",
    "print('world')"
   ]
  },
  {
   "cell_type": "code",
   "execution_count": 12,
   "id": "723fae44-68a5-4cd1-92be-4659f4d4c730",
   "metadata": {},
   "outputs": [
    {
     "name": "stdout",
     "output_type": "stream",
     "text": [
      "hello world\n"
     ]
    }
   ],
   "source": [
    "print('hello',end=' ')\n",
    "print('world') # by default end line is new line"
   ]
  },
  {
   "cell_type": "markdown",
   "id": "b65a18af-b85e-4100-994f-d4e7410beda7",
   "metadata": {},
   "source": [
    "#### Data Types"
   ]
  },
  {
   "cell_type": "code",
   "execution_count": 1,
   "id": "642a682b-8bd7-41e8-84f1-1baf1d4ccf6d",
   "metadata": {},
   "outputs": [
    {
     "name": "stdout",
     "output_type": "stream",
     "text": [
      "8\n"
     ]
    }
   ],
   "source": [
    "#integer \n",
    "print(8)"
   ]
  },
  {
   "cell_type": "code",
   "execution_count": 10,
   "id": "2ebff0b1-5ef3-455e-9987-5fb3f0e48a85",
   "metadata": {},
   "outputs": [
    {
     "name": "stdout",
     "output_type": "stream",
     "text": [
      "5.5\n"
     ]
    }
   ],
   "source": [
    "# float \n",
    "print(5.5)"
   ]
  },
  {
   "cell_type": "code",
   "execution_count": 11,
   "id": "23673a18-f372-41e5-9f44-15ed52eec2f1",
   "metadata": {},
   "outputs": [
    {
     "name": "stdout",
     "output_type": "stream",
     "text": [
      "True\n"
     ]
    }
   ],
   "source": [
    "# bool\n",
    "print(True)"
   ]
  },
  {
   "cell_type": "code",
   "execution_count": 12,
   "id": "7488e57f-f843-4f09-be34-e0eb985f7b6a",
   "metadata": {},
   "outputs": [
    {
     "name": "stdout",
     "output_type": "stream",
     "text": [
      "Suraj\n"
     ]
    }
   ],
   "source": [
    "# string\n",
    "print(\"Suraj\")"
   ]
  },
  {
   "cell_type": "code",
   "execution_count": 13,
   "id": "12529083-2dbe-456d-b260-851caa2dd851",
   "metadata": {},
   "outputs": [
    {
     "name": "stdout",
     "output_type": "stream",
     "text": [
      "[1, 2, 3]\n"
     ]
    }
   ],
   "source": [
    "# list\n",
    "print([1,2,3])"
   ]
  },
  {
   "cell_type": "code",
   "execution_count": 14,
   "id": "25058604-14e9-4478-9992-c8d99f00f35b",
   "metadata": {},
   "outputs": [
    {
     "name": "stdout",
     "output_type": "stream",
     "text": [
      "(1, 2, 3)\n"
     ]
    }
   ],
   "source": [
    "# tuple\n",
    "print((1,2,3))"
   ]
  },
  {
   "cell_type": "code",
   "execution_count": 15,
   "id": "9a80c3b8-76f6-49ae-881a-5bdce20ebe1b",
   "metadata": {},
   "outputs": [
    {
     "name": "stdout",
     "output_type": "stream",
     "text": [
      "{1, 2, 3}\n"
     ]
    }
   ],
   "source": [
    "# set\n",
    "print({1,2,3,1})"
   ]
  },
  {
   "cell_type": "code",
   "execution_count": 16,
   "id": "98fdbe35-9ac0-45c3-a827-71922262a8f3",
   "metadata": {},
   "outputs": [
    {
     "name": "stdout",
     "output_type": "stream",
     "text": [
      "{'name': 'suraj'}\n"
     ]
    }
   ],
   "source": [
    "# dictionary\n",
    "print({\"name\":\"suraj\"})"
   ]
  },
  {
   "cell_type": "code",
   "execution_count": 17,
   "id": "a51955ff-abfb-4b3c-a850-9cacbe3a1936",
   "metadata": {},
   "outputs": [
    {
     "name": "stdout",
     "output_type": "stream",
     "text": [
      "None\n"
     ]
    }
   ],
   "source": [
    "# None\n",
    "print(None)"
   ]
  },
  {
   "cell_type": "code",
   "execution_count": 18,
   "id": "0b0e18eb-18e1-4623-a3ee-877cedd9bee3",
   "metadata": {},
   "outputs": [
    {
     "name": "stdout",
     "output_type": "stream",
     "text": [
      "(5+6j)\n"
     ]
    }
   ],
   "source": [
    "# complex number \n",
    "print(5+6j)"
   ]
  },
  {
   "cell_type": "code",
   "execution_count": 21,
   "id": "e7958c7f-d02c-402f-92d9-3886db220630",
   "metadata": {},
   "outputs": [
    {
     "data": {
      "text/plain": [
       "int"
      ]
     },
     "execution_count": 21,
     "metadata": {},
     "output_type": "execute_result"
    }
   ],
   "source": [
    "# type function\n",
    "type(5)"
   ]
  },
  {
   "cell_type": "markdown",
   "id": "b5581f2e-0849-4d77-8928-c6f0552ec594",
   "metadata": {},
   "source": [
    "#### Variables \n",
    "- Static vs dynamic binding\n",
    "- static vs dynamic typing\n",
    "- stylish declearation technique"
   ]
  },
  {
   "cell_type": "code",
   "execution_count": 22,
   "id": "e53129e5-0799-4996-8dd1-b56537712467",
   "metadata": {},
   "outputs": [],
   "source": [
    "a,b,c = 10,20,30\n",
    "a=b=c= 10"
   ]
  },
  {
   "cell_type": "code",
   "execution_count": 23,
   "id": "67b81bfc-99fe-4416-8522-bff472324098",
   "metadata": {},
   "outputs": [],
   "source": [
    "# this is comment in python which is used to higlight code which will not be executed"
   ]
  },
  {
   "cell_type": "markdown",
   "id": "edf577f7-6b41-4dbd-92f9-4c7a77360d39",
   "metadata": {},
   "source": [
    "#### Keywords and identifiers\n",
    "- Reserved word in python is called keywords\n",
    "- Rules to identify a variable is called identifiers"
   ]
  },
  {
   "cell_type": "markdown",
   "id": "97679c77-7b3e-40be-a59c-cf45cd665f4b",
   "metadata": {},
   "source": [
    "#### User Input in Python"
   ]
  },
  {
   "cell_type": "code",
   "execution_count": 1,
   "id": "198c90bd-627b-452e-94c4-8cb46852177a",
   "metadata": {},
   "outputs": [],
   "source": [
    "# static vs Dynamic"
   ]
  },
  {
   "cell_type": "code",
   "execution_count": 2,
   "id": "00d1dc49-517f-4c4d-b4f3-39444997956c",
   "metadata": {},
   "outputs": [
    {
     "name": "stdin",
     "output_type": "stream",
     "text": [
      " 5\n"
     ]
    },
    {
     "data": {
      "text/plain": [
       "'5'"
      ]
     },
     "execution_count": 2,
     "metadata": {},
     "output_type": "execute_result"
    }
   ],
   "source": [
    "input()"
   ]
  },
  {
   "cell_type": "code",
   "execution_count": 3,
   "id": "706f9be6-9643-404d-9f86-92f663bd289f",
   "metadata": {},
   "outputs": [
    {
     "name": "stdin",
     "output_type": "stream",
     "text": [
      "Enter your name  suraj\n"
     ]
    },
    {
     "data": {
      "text/plain": [
       "'suraj'"
      ]
     },
     "execution_count": 3,
     "metadata": {},
     "output_type": "execute_result"
    }
   ],
   "source": [
    "input(\"Enter your name \")"
   ]
  },
  {
   "cell_type": "code",
   "execution_count": 4,
   "id": "27047e15-e025-4857-aa10-93789eca1331",
   "metadata": {},
   "outputs": [
    {
     "name": "stdin",
     "output_type": "stream",
     "text": [
      "Enter first number  10\n",
      "Enter second number  10\n"
     ]
    },
    {
     "name": "stdout",
     "output_type": "stream",
     "text": [
      "1010\n"
     ]
    }
   ],
   "source": [
    "# take input from users store them\n",
    "num1 = input(\"Enter first number \")\n",
    "num2 = input(\"Enter second number \")\n",
    "\n",
    "# add them \n",
    "val = num1 + num2\n",
    "\n",
    "# print result\n",
    "print(val)"
   ]
  },
  {
   "cell_type": "code",
   "execution_count": 5,
   "id": "bcad872d-d52c-4752-8a83-a0feab88817d",
   "metadata": {},
   "outputs": [],
   "source": [
    "# by defalut input is string"
   ]
  },
  {
   "cell_type": "code",
   "execution_count": 6,
   "id": "10995101-c15f-41cb-80cf-619e38a71264",
   "metadata": {},
   "outputs": [
    {
     "name": "stdin",
     "output_type": "stream",
     "text": [
      "Enter first number  10\n",
      "Enter second number  10\n"
     ]
    },
    {
     "name": "stdout",
     "output_type": "stream",
     "text": [
      "20\n"
     ]
    }
   ],
   "source": [
    "# take input from users store them\n",
    "num1 = input(\"Enter first number \")\n",
    "num2 = input(\"Enter second number \")\n",
    "\n",
    "# add them \n",
    "val = int(num1) + int(num2)\n",
    "\n",
    "# print result\n",
    "print(val)"
   ]
  },
  {
   "cell_type": "code",
   "execution_count": 7,
   "id": "8583ec67-7b19-43b2-833d-1ac659298ea0",
   "metadata": {},
   "outputs": [
    {
     "name": "stdout",
     "output_type": "stream",
     "text": [
      "This is Python\n",
      "This is Python\n",
      "C\n",
      "This is a multiline string with more than one line code.\n",
      "😀😆🤣\n",
      "raw \\n string\n"
     ]
    }
   ],
   "source": [
    "string = 'This is Python'\n",
    "strings = \"This is Python\"\n",
    "char = \"C\"\n",
    "multiline_str = \"\"\"This is a multiline string with more than one line code.\"\"\"\n",
    "unicode = u\"\\U0001f600\\U0001F606\\U0001F923\"\n",
    "raw_str = r\"raw \\n string\"\n",
    "\n",
    "print(string)\n",
    "print(strings)\n",
    "print(char)\n",
    "print(multiline_str)\n",
    "print(unicode)\n",
    "print(raw_str)"
   ]
  },
  {
   "cell_type": "code",
   "execution_count": 8,
   "id": "cd9e9a1b-79c6-4f52-81b8-f8508fcd7a62",
   "metadata": {},
   "outputs": [
    {
     "name": "stdout",
     "output_type": "stream",
     "text": [
      "a: 5\n",
      "b: 10\n"
     ]
    }
   ],
   "source": [
    "a = True + 4\n",
    "b = False + 10\n",
    "\n",
    "print(\"a:\", a)\n",
    "print(\"b:\", b)"
   ]
  },
  {
   "cell_type": "code",
   "execution_count": 9,
   "id": "e703b2a9-288c-4ee5-9323-2fe0ee4ee60e",
   "metadata": {},
   "outputs": [
    {
     "name": "stdout",
     "output_type": "stream",
     "text": [
      "Program exe\n"
     ]
    }
   ],
   "source": [
    "k = None\n",
    "a = 5\n",
    "b = 6\n",
    "print('Program exe')"
   ]
  },
  {
   "cell_type": "code",
   "execution_count": 10,
   "id": "37a0f6dc-88ae-4183-90c6-4c4fe22430cb",
   "metadata": {},
   "outputs": [],
   "source": [
    "# variable ko jo value milta hai ussi ko literal bolte hai "
   ]
  },
  {
   "cell_type": "code",
   "execution_count": null,
   "id": "f87de0f7-2c47-4e61-9e53-d862d14e5169",
   "metadata": {},
   "outputs": [],
   "source": []
  }
 ],
 "metadata": {
  "kernelspec": {
   "display_name": "Python 3 (ipykernel)",
   "language": "python",
   "name": "python3"
  },
  "language_info": {
   "codemirror_mode": {
    "name": "ipython",
    "version": 3
   },
   "file_extension": ".py",
   "mimetype": "text/x-python",
   "name": "python",
   "nbconvert_exporter": "python",
   "pygments_lexer": "ipython3",
   "version": "3.11.7"
  }
 },
 "nbformat": 4,
 "nbformat_minor": 5
}
