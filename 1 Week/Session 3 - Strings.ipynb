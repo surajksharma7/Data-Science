{
 "cells": [
  {
   "cell_type": "markdown",
   "id": "d48efc07-553e-4844-af2b-36ef8dc16fbf",
   "metadata": {},
   "source": [
    "#### Loop Control Statement\n",
    "- break\n",
    "- continue\n",
    "- pass"
   ]
  },
  {
   "cell_type": "code",
   "execution_count": 1,
   "id": "d4be804b-1385-4143-a4dd-83b36bb03478",
   "metadata": {},
   "outputs": [
    {
     "name": "stdout",
     "output_type": "stream",
     "text": [
      "1\n",
      "2\n",
      "3\n",
      "4\n"
     ]
    }
   ],
   "source": [
    "for i in range(1,10):\n",
    "    if i == 5:\n",
    "        break\n",
    "    print(i)"
   ]
  },
  {
   "cell_type": "code",
   "execution_count": 2,
   "id": "a4912a08-970b-4234-b20b-012f9a860747",
   "metadata": {},
   "outputs": [
    {
     "name": "stdout",
     "output_type": "stream",
     "text": [
      "1\n",
      "2\n",
      "3\n",
      "4\n",
      "6\n",
      "7\n",
      "8\n",
      "9\n"
     ]
    }
   ],
   "source": [
    "for i in range(1,10):\n",
    "    if i == 5:\n",
    "        continue\n",
    "    print(i)"
   ]
  },
  {
   "cell_type": "markdown",
   "id": "7aabddb7-37c0-43e3-88da-5ed567bdd0c8",
   "metadata": {},
   "source": [
    "#### Strings are sequence of characters\n",
    "\n",
    "#### In python specifically, Strings are a sequence of unicode characters\n",
    "\n",
    "- creating strings\n",
    "- Accessing strings\n",
    "- Adding chars to strings\n",
    "- Editing strings\n",
    "- Deleting strings\n",
    "- operations on strings\n",
    "- Strings functions"
   ]
  },
  {
   "cell_type": "code",
   "execution_count": 4,
   "id": "9aafac61-36ea-49a9-a055-0be9ae28aac7",
   "metadata": {},
   "outputs": [],
   "source": [
    "# creating python strings \n",
    "\n",
    "s = 'hello'\n",
    "s = \"hello\"\n",
    "s = '''hello'''\n",
    "s = \"\"\"hello\"\"\"\n",
    "s = str('hello')"
   ]
  },
  {
   "cell_type": "markdown",
   "id": "9dce457b-be91-4e00-903d-bd5762a06535",
   "metadata": {},
   "source": [
    "#### Accessing substring from a string"
   ]
  },
  {
   "cell_type": "code",
   "execution_count": 5,
   "id": "885d18e1-7b1a-4620-92ef-23c0cfe8db56",
   "metadata": {},
   "outputs": [
    {
     "data": {
      "text/plain": [
       "'h'"
      ]
     },
     "execution_count": 5,
     "metadata": {},
     "output_type": "execute_result"
    }
   ],
   "source": [
    "# positive Indexing\n",
    "s = 'hello world'\n",
    "s[0]"
   ]
  },
  {
   "cell_type": "code",
   "execution_count": 6,
   "id": "bfe6a6f1-86cb-47af-80ec-e3ee3169a552",
   "metadata": {},
   "outputs": [
    {
     "data": {
      "text/plain": [
       "'d'"
      ]
     },
     "execution_count": 6,
     "metadata": {},
     "output_type": "execute_result"
    }
   ],
   "source": [
    "s[-1]"
   ]
  },
  {
   "cell_type": "code",
   "execution_count": 7,
   "id": "2027d652-3cde-48af-87a3-76afcdfaa61f",
   "metadata": {},
   "outputs": [
    {
     "data": {
      "text/plain": [
       "'hello'"
      ]
     },
     "execution_count": 7,
     "metadata": {},
     "output_type": "execute_result"
    }
   ],
   "source": [
    "# slicing \n",
    "s[0:5]"
   ]
  },
  {
   "cell_type": "code",
   "execution_count": 8,
   "id": "892cc8fa-4945-4677-9217-f817ceb7d6e0",
   "metadata": {},
   "outputs": [
    {
     "data": {
      "text/plain": [
       "'hlo'"
      ]
     },
     "execution_count": 8,
     "metadata": {},
     "output_type": "execute_result"
    }
   ],
   "source": [
    "s[0:6:2]"
   ]
  },
  {
   "cell_type": "code",
   "execution_count": 9,
   "id": "fb4a50d2-213e-439f-a7ec-e56d82b22de8",
   "metadata": {},
   "outputs": [
    {
     "data": {
      "text/plain": [
       "'dlrow olleh'"
      ]
     },
     "execution_count": 9,
     "metadata": {},
     "output_type": "execute_result"
    }
   ],
   "source": [
    "s[::-1]"
   ]
  },
  {
   "cell_type": "code",
   "execution_count": 14,
   "id": "584fffbd-0688-4f42-9ea7-156f00f60979",
   "metadata": {},
   "outputs": [
    {
     "data": {
      "text/plain": [
       "'world'"
      ]
     },
     "execution_count": 14,
     "metadata": {},
     "output_type": "execute_result"
    }
   ],
   "source": [
    "s[-5:]"
   ]
  },
  {
   "cell_type": "markdown",
   "id": "081cae6c-7190-43ea-8736-098a70fd0e61",
   "metadata": {},
   "source": [
    "#### Editing strings"
   ]
  },
  {
   "cell_type": "code",
   "execution_count": 16,
   "id": "5f1840b6-2a95-4051-8a97-7afd9110b6de",
   "metadata": {},
   "outputs": [
    {
     "ename": "TypeError",
     "evalue": "'str' object does not support item assignment",
     "output_type": "error",
     "traceback": [
      "\u001b[0;31m---------------------------------------------------------------------------\u001b[0m",
      "\u001b[0;31mTypeError\u001b[0m                                 Traceback (most recent call last)",
      "Cell \u001b[0;32mIn[16], line 3\u001b[0m\n\u001b[1;32m      1\u001b[0m \u001b[38;5;66;03m# strings in python is immutable \u001b[39;00m\n\u001b[1;32m      2\u001b[0m s \u001b[38;5;241m=\u001b[39m \u001b[38;5;124m'\u001b[39m\u001b[38;5;124msuraj\u001b[39m\u001b[38;5;124m'\u001b[39m\n\u001b[0;32m----> 3\u001b[0m s[\u001b[38;5;241m0\u001b[39m] \u001b[38;5;241m=\u001b[39m \u001b[38;5;124m'\u001b[39m\u001b[38;5;124mj\u001b[39m\u001b[38;5;124m'\u001b[39m\n",
      "\u001b[0;31mTypeError\u001b[0m: 'str' object does not support item assignment"
     ]
    }
   ],
   "source": [
    "# strings in python is immutable \n",
    "s = 'suraj'\n",
    "s[0] = 'j'"
   ]
  },
  {
   "cell_type": "code",
   "execution_count": 17,
   "id": "c0b51a37-5d42-4a37-a0a3-2ea2f30aca7e",
   "metadata": {},
   "outputs": [
    {
     "ename": "NameError",
     "evalue": "name 's' is not defined",
     "output_type": "error",
     "traceback": [
      "\u001b[0;31m---------------------------------------------------------------------------\u001b[0m",
      "\u001b[0;31mNameError\u001b[0m                                 Traceback (most recent call last)",
      "Cell \u001b[0;32mIn[17], line 3\u001b[0m\n\u001b[1;32m      1\u001b[0m s \u001b[38;5;241m=\u001b[39m \u001b[38;5;124m'\u001b[39m\u001b[38;5;124msuraj\u001b[39m\u001b[38;5;124m'\u001b[39m\n\u001b[1;32m      2\u001b[0m \u001b[38;5;28;01mdel\u001b[39;00m s \n\u001b[0;32m----> 3\u001b[0m \u001b[38;5;28mprint\u001b[39m(s)\n",
      "\u001b[0;31mNameError\u001b[0m: name 's' is not defined"
     ]
    }
   ],
   "source": [
    "s = 'suraj'\n",
    "del s \n",
    "print(s)"
   ]
  },
  {
   "cell_type": "markdown",
   "id": "059ed175-3ea7-4eb3-917d-85d3fe49a869",
   "metadata": {},
   "source": [
    "#### Operations in Strings\n",
    "\n",
    "- Artihmetic Operations\n",
    "- Relational Operations\n",
    "- logical Operations\n",
    "- Loops in Strings\n",
    "- Membership Operations\n",
    "  "
   ]
  },
  {
   "cell_type": "code",
   "execution_count": 19,
   "id": "2303ddac-cb2c-42c1-8e80-ea12fce40088",
   "metadata": {},
   "outputs": [
    {
     "name": "stdout",
     "output_type": "stream",
     "text": [
      "delhi mumbai\n"
     ]
    }
   ],
   "source": [
    "print(\"delhi \" + 'mumbai')"
   ]
  },
  {
   "cell_type": "code",
   "execution_count": 20,
   "id": "fe2e3e48-737f-4445-b81f-ceb47a1ddb7f",
   "metadata": {},
   "outputs": [
    {
     "name": "stdout",
     "output_type": "stream",
     "text": [
      "delhi delhi delhi delhi delhi delhi delhi delhi delhi delhi \n"
     ]
    }
   ],
   "source": [
    "print('delhi '*10)"
   ]
  },
  {
   "cell_type": "code",
   "execution_count": 21,
   "id": "d354351e-0043-49d5-ab93-116eeacfee34",
   "metadata": {},
   "outputs": [
    {
     "data": {
      "text/plain": [
       "False"
      ]
     },
     "execution_count": 21,
     "metadata": {},
     "output_type": "execute_result"
    }
   ],
   "source": [
    "'delhi' == 'mumbai'"
   ]
  },
  {
   "cell_type": "code",
   "execution_count": 22,
   "id": "f3a452f0-5598-433e-a769-4efb1278a070",
   "metadata": {},
   "outputs": [
    {
     "data": {
      "text/plain": [
       "False"
      ]
     },
     "execution_count": 22,
     "metadata": {},
     "output_type": "execute_result"
    }
   ],
   "source": [
    "'delhi' > 'mumbai'"
   ]
  },
  {
   "cell_type": "code",
   "execution_count": 23,
   "id": "00537715-4f9f-4040-9a5f-9255be5aeffb",
   "metadata": {},
   "outputs": [
    {
     "data": {
      "text/plain": [
       "'world'"
      ]
     },
     "execution_count": 23,
     "metadata": {},
     "output_type": "execute_result"
    }
   ],
   "source": [
    "'hello' and 'world'"
   ]
  },
  {
   "cell_type": "code",
   "execution_count": 24,
   "id": "eccf1443-aae7-43a6-9329-816a71c9f243",
   "metadata": {},
   "outputs": [
    {
     "data": {
      "text/plain": [
       "'hello'"
      ]
     },
     "execution_count": 24,
     "metadata": {},
     "output_type": "execute_result"
    }
   ],
   "source": [
    "'hello' or 'world'"
   ]
  },
  {
   "cell_type": "code",
   "execution_count": 25,
   "id": "fbdeb271-729a-4471-b31f-95ea53b5c0cd",
   "metadata": {},
   "outputs": [
    {
     "data": {
      "text/plain": [
       "''"
      ]
     },
     "execution_count": 25,
     "metadata": {},
     "output_type": "execute_result"
    }
   ],
   "source": [
    "'' and 'world'"
   ]
  },
  {
   "cell_type": "code",
   "execution_count": 26,
   "id": "f7eb4c56-7331-4ae8-a429-b30d3dba0557",
   "metadata": {},
   "outputs": [
    {
     "data": {
      "text/plain": [
       "True"
      ]
     },
     "execution_count": 26,
     "metadata": {},
     "output_type": "execute_result"
    }
   ],
   "source": [
    "not \"\""
   ]
  },
  {
   "cell_type": "markdown",
   "id": "3839eadd-440b-4ed1-87f5-86fb340ebc4b",
   "metadata": {},
   "source": [
    "#### Loops"
   ]
  },
  {
   "cell_type": "code",
   "execution_count": 27,
   "id": "63afbfd8-315f-4bca-bb0c-c37f0c1f1994",
   "metadata": {},
   "outputs": [
    {
     "name": "stdout",
     "output_type": "stream",
     "text": [
      "pune\n",
      "pune\n",
      "pune\n",
      "pune\n",
      "pune\n"
     ]
    }
   ],
   "source": [
    "for i in 'delhi':\n",
    "    print('pune')"
   ]
  },
  {
   "cell_type": "markdown",
   "id": "8aec0328-1d5f-4191-a60f-055e01c4cc07",
   "metadata": {},
   "source": [
    "#### Common functions\n",
    "- len\n",
    "- max\n",
    "- min\n",
    "- sorted"
   ]
  },
  {
   "cell_type": "code",
   "execution_count": 28,
   "id": "1883e5ef-9572-4352-81ef-ca660db42125",
   "metadata": {},
   "outputs": [],
   "source": [
    "s = 'hello'"
   ]
  },
  {
   "cell_type": "code",
   "execution_count": 30,
   "id": "6847d922-a03e-4b95-8d4e-5eced98b4e03",
   "metadata": {},
   "outputs": [
    {
     "data": {
      "text/plain": [
       "5"
      ]
     },
     "execution_count": 30,
     "metadata": {},
     "output_type": "execute_result"
    }
   ],
   "source": [
    "len(s)"
   ]
  },
  {
   "cell_type": "code",
   "execution_count": 31,
   "id": "3793d298-5d1e-4fec-9f8e-2510b2118abf",
   "metadata": {},
   "outputs": [
    {
     "data": {
      "text/plain": [
       "'o'"
      ]
     },
     "execution_count": 31,
     "metadata": {},
     "output_type": "execute_result"
    }
   ],
   "source": [
    "max(s)"
   ]
  },
  {
   "cell_type": "code",
   "execution_count": 32,
   "id": "acbe0f77-ea55-4218-b307-24f7a92ca895",
   "metadata": {},
   "outputs": [
    {
     "data": {
      "text/plain": [
       "'e'"
      ]
     },
     "execution_count": 32,
     "metadata": {},
     "output_type": "execute_result"
    }
   ],
   "source": [
    "min(s)"
   ]
  },
  {
   "cell_type": "code",
   "execution_count": 33,
   "id": "8b1b7c10-201a-4650-a06a-dd198c49e3ed",
   "metadata": {},
   "outputs": [
    {
     "data": {
      "text/plain": [
       "['e', 'h', 'l', 'l', 'o']"
      ]
     },
     "execution_count": 33,
     "metadata": {},
     "output_type": "execute_result"
    }
   ],
   "source": [
    "sorted(s)"
   ]
  },
  {
   "cell_type": "markdown",
   "id": "547b56f4-f0d0-4526-b94d-2b757fc86aeb",
   "metadata": {},
   "source": [
    "#### captialize / title / upper / lower / swapcase"
   ]
  },
  {
   "cell_type": "code",
   "execution_count": 35,
   "id": "49f8819b-e6b3-4a28-b875-76472266514b",
   "metadata": {},
   "outputs": [
    {
     "data": {
      "text/plain": [
       "'Hello'"
      ]
     },
     "execution_count": 35,
     "metadata": {},
     "output_type": "execute_result"
    }
   ],
   "source": [
    "s.capitalize()"
   ]
  },
  {
   "cell_type": "code",
   "execution_count": 36,
   "id": "85735805-3efb-4dd8-bd92-056b1c2db770",
   "metadata": {},
   "outputs": [
    {
     "data": {
      "text/plain": [
       "'Hello'"
      ]
     },
     "execution_count": 36,
     "metadata": {},
     "output_type": "execute_result"
    }
   ],
   "source": [
    "s.title()"
   ]
  },
  {
   "cell_type": "code",
   "execution_count": 37,
   "id": "1e67f494-3483-4435-a600-484cf4461cd3",
   "metadata": {},
   "outputs": [
    {
     "data": {
      "text/plain": [
       "'HELLO'"
      ]
     },
     "execution_count": 37,
     "metadata": {},
     "output_type": "execute_result"
    }
   ],
   "source": [
    "s.upper()"
   ]
  },
  {
   "cell_type": "code",
   "execution_count": 38,
   "id": "0457c344-6edc-4bfa-ac71-b1b273d0f57e",
   "metadata": {},
   "outputs": [
    {
     "data": {
      "text/plain": [
       "'HELLO'"
      ]
     },
     "execution_count": 38,
     "metadata": {},
     "output_type": "execute_result"
    }
   ],
   "source": [
    "s.swapcase()"
   ]
  },
  {
   "cell_type": "code",
   "execution_count": 39,
   "id": "b0976bec-71d5-43ed-ba55-277b48492489",
   "metadata": {},
   "outputs": [
    {
     "data": {
      "text/plain": [
       "'hello'"
      ]
     },
     "execution_count": 39,
     "metadata": {},
     "output_type": "execute_result"
    }
   ],
   "source": [
    "s.lower()"
   ]
  },
  {
   "cell_type": "markdown",
   "id": "d1db9296-743c-4a40-b545-e2879add5011",
   "metadata": {},
   "source": [
    "#### count - find - index"
   ]
  },
  {
   "cell_type": "code",
   "execution_count": 40,
   "id": "8a468232-ec91-4a7a-880b-227554d06f65",
   "metadata": {},
   "outputs": [
    {
     "data": {
      "text/plain": [
       "0"
      ]
     },
     "execution_count": 40,
     "metadata": {},
     "output_type": "execute_result"
    }
   ],
   "source": [
    "s.count('s')"
   ]
  },
  {
   "cell_type": "code",
   "execution_count": 41,
   "id": "f35061ab-13ff-4619-92c2-c70fbf19cf7d",
   "metadata": {},
   "outputs": [
    {
     "data": {
      "text/plain": [
       "-1"
      ]
     },
     "execution_count": 41,
     "metadata": {},
     "output_type": "execute_result"
    }
   ],
   "source": [
    "s.find('s')"
   ]
  },
  {
   "cell_type": "code",
   "execution_count": 42,
   "id": "076ac524-ff8b-4e4a-97b7-c785eac5c97b",
   "metadata": {},
   "outputs": [
    {
     "ename": "ValueError",
     "evalue": "substring not found",
     "output_type": "error",
     "traceback": [
      "\u001b[0;31m---------------------------------------------------------------------------\u001b[0m",
      "\u001b[0;31mValueError\u001b[0m                                Traceback (most recent call last)",
      "Cell \u001b[0;32mIn[42], line 1\u001b[0m\n\u001b[0;32m----> 1\u001b[0m s\u001b[38;5;241m.\u001b[39mindex(\u001b[38;5;124m'\u001b[39m\u001b[38;5;124ms\u001b[39m\u001b[38;5;124m'\u001b[39m)\n",
      "\u001b[0;31mValueError\u001b[0m: substring not found"
     ]
    }
   ],
   "source": [
    "s.index('s')"
   ]
  },
  {
   "cell_type": "markdown",
   "id": "290b4256-1fd7-462f-8bbb-0f09be8a708c",
   "metadata": {},
   "source": [
    "#### endswith - startswith\n",
    "\n"
   ]
  },
  {
   "cell_type": "code",
   "execution_count": 43,
   "id": "e54d918a-c363-4e7b-95bd-48c0134a0675",
   "metadata": {},
   "outputs": [
    {
     "data": {
      "text/plain": [
       "False"
      ]
     },
     "execution_count": 43,
     "metadata": {},
     "output_type": "execute_result"
    }
   ],
   "source": [
    "s.endswith('s')"
   ]
  },
  {
   "cell_type": "code",
   "execution_count": 44,
   "id": "8a962b4a-9b40-405d-a5e6-62c3debae467",
   "metadata": {},
   "outputs": [
    {
     "data": {
      "text/plain": [
       "True"
      ]
     },
     "execution_count": 44,
     "metadata": {},
     "output_type": "execute_result"
    }
   ],
   "source": [
    "s.startswith('h')"
   ]
  },
  {
   "cell_type": "markdown",
   "id": "b8b930e0-387e-404f-a384-418a2ac8e195",
   "metadata": {},
   "source": [
    "#### format"
   ]
  },
  {
   "cell_type": "code",
   "execution_count": 45,
   "id": "1e801542-7877-425d-9fc1-4874cbc64a9b",
   "metadata": {},
   "outputs": [
    {
     "data": {
      "text/plain": [
       "'my name is suraj and i am 21 years old'"
      ]
     },
     "execution_count": 45,
     "metadata": {},
     "output_type": "execute_result"
    }
   ],
   "source": [
    "name = 'suraj'\n",
    "age = '21'\n",
    "\"my name is {} and i am {} years old\".format(name,age)"
   ]
  },
  {
   "cell_type": "markdown",
   "id": "1c8df6d3-e78a-4a5c-a9b3-caa85d0143c4",
   "metadata": {},
   "source": [
    "#### isalnum - isalpha - isdigit - isidentifier"
   ]
  },
  {
   "cell_type": "code",
   "execution_count": 51,
   "id": "a4ae1a28-9aef-45b1-8ab1-0c9156a42198",
   "metadata": {},
   "outputs": [
    {
     "data": {
      "text/plain": [
       "True"
      ]
     },
     "execution_count": 51,
     "metadata": {},
     "output_type": "execute_result"
    }
   ],
   "source": [
    "s.isalpha()"
   ]
  },
  {
   "cell_type": "code",
   "execution_count": 52,
   "id": "0c34f782-a682-4fdf-a092-89246c3e3f19",
   "metadata": {},
   "outputs": [
    {
     "data": {
      "text/plain": [
       "False"
      ]
     },
     "execution_count": 52,
     "metadata": {},
     "output_type": "execute_result"
    }
   ],
   "source": [
    "s.isdigit()"
   ]
  },
  {
   "cell_type": "code",
   "execution_count": 53,
   "id": "a82b5156-e9fe-4138-b5b8-8b1ecfe0f951",
   "metadata": {},
   "outputs": [
    {
     "data": {
      "text/plain": [
       "True"
      ]
     },
     "execution_count": 53,
     "metadata": {},
     "output_type": "execute_result"
    }
   ],
   "source": [
    "s.isalnum()"
   ]
  },
  {
   "cell_type": "code",
   "execution_count": 54,
   "id": "5bc1d15c-f652-4e20-bafa-db4c63e9950c",
   "metadata": {},
   "outputs": [
    {
     "data": {
      "text/plain": [
       "True"
      ]
     },
     "execution_count": 54,
     "metadata": {},
     "output_type": "execute_result"
    }
   ],
   "source": [
    "s.isidentifier()"
   ]
  },
  {
   "cell_type": "markdown",
   "id": "01cef66c-2cce-4bb8-8dd1-c0a4ab788dbe",
   "metadata": {},
   "source": [
    "#### split - join"
   ]
  },
  {
   "cell_type": "code",
   "execution_count": 56,
   "id": "ad5d804f-6886-4600-b512-5caebdc80bc7",
   "metadata": {},
   "outputs": [],
   "source": [
    "s = 'hii this is lecture class'\n",
    "s = s.split()"
   ]
  },
  {
   "cell_type": "code",
   "execution_count": 57,
   "id": "9a2b4742-96d1-4989-bf28-6343ba0f665c",
   "metadata": {},
   "outputs": [
    {
     "name": "stdout",
     "output_type": "stream",
     "text": [
      "['hii', 'this', 'is', 'lecture', 'class']\n"
     ]
    }
   ],
   "source": [
    "print(s)"
   ]
  },
  {
   "cell_type": "code",
   "execution_count": 59,
   "id": "44252ba4-7cad-4cdd-8f62-e5076b283427",
   "metadata": {},
   "outputs": [
    {
     "data": {
      "text/plain": [
       "'hii this is lecture class'"
      ]
     },
     "execution_count": 59,
     "metadata": {},
     "output_type": "execute_result"
    }
   ],
   "source": [
    "\" \".join(s)"
   ]
  },
  {
   "cell_type": "markdown",
   "id": "cb6b4e8d-0cc4-4920-a803-60f750457f42",
   "metadata": {},
   "source": [
    "#### replace "
   ]
  },
  {
   "cell_type": "code",
   "execution_count": 60,
   "id": "bd83b149-b75d-46bb-81cc-f17302af80ea",
   "metadata": {},
   "outputs": [],
   "source": [
    "name = 'suraj'"
   ]
  },
  {
   "cell_type": "code",
   "execution_count": 61,
   "id": "293e4836-506c-4886-a370-416ff8402266",
   "metadata": {},
   "outputs": [
    {
     "data": {
      "text/plain": [
       "'hii this is suraj'"
      ]
     },
     "execution_count": 61,
     "metadata": {},
     "output_type": "execute_result"
    }
   ],
   "source": [
    "\"hii this is nitish\".replace('nitish', name)"
   ]
  },
  {
   "cell_type": "markdown",
   "id": "c25e0aeb-0cc0-4ef6-82ca-420b78ff21dd",
   "metadata": {},
   "source": [
    "#### strip"
   ]
  },
  {
   "cell_type": "code",
   "execution_count": 63,
   "id": "37bbbcaf-ab87-4f70-bc99-b73232d53621",
   "metadata": {},
   "outputs": [
    {
     "data": {
      "text/plain": [
       "'Suraj'"
      ]
     },
     "execution_count": 63,
     "metadata": {},
     "output_type": "execute_result"
    }
   ],
   "source": [
    "name = 'Suraj                                                                          '\n",
    "name.strip()"
   ]
  },
  {
   "cell_type": "code",
   "execution_count": null,
   "id": "5fa859a5-677b-4748-8fdc-7ed5aa044de9",
   "metadata": {},
   "outputs": [],
   "source": []
  },
  {
   "cell_type": "code",
   "execution_count": null,
   "id": "2229f8ed-6daf-4dd1-87e8-8b3e2e77909e",
   "metadata": {},
   "outputs": [],
   "source": []
  }
 ],
 "metadata": {
  "kernelspec": {
   "display_name": "Python 3 (ipykernel)",
   "language": "python",
   "name": "python3"
  },
  "language_info": {
   "codemirror_mode": {
    "name": "ipython",
    "version": 3
   },
   "file_extension": ".py",
   "mimetype": "text/x-python",
   "name": "python",
   "nbconvert_exporter": "python",
   "pygments_lexer": "ipython3",
   "version": "3.11.7"
  }
 },
 "nbformat": 4,
 "nbformat_minor": 5
}
