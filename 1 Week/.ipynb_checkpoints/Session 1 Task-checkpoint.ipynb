{
 "cells": [
  {
   "cell_type": "markdown",
   "metadata": {
    "id": "A05OG15VqOPF"
   },
   "source": [
    "# Task : Session 1\n",
    "Solve these questions own your own and try to test yourself what you have learned in the session.\n",
    "\n",
    "Happy Learning!"
   ]
  },
  {
   "cell_type": "markdown",
   "metadata": {
    "id": "2doIXf8bqe9_"
   },
   "source": [
    "### Q1 :- Print the given strings as per stated format.\n",
    "\n",
    "**Given strings**:\n",
    "```\n",
    "\"Data\" \"Science\" \"Mentorship\" \"Program\"\n",
    "\"By\" \"CampusX\"\n",
    "```\n",
    "**Output**:\n",
    "```\n",
    "Data-Science-Mentorship-Program-started-By-CampusX\n",
    "```\n",
    "\n",
    "Concept- [Seperator and End]"
   ]
  },
  {
   "cell_type": "code",
   "execution_count": 2,
   "metadata": {
    "id": "-em6d3KErDtp"
   },
   "outputs": [
    {
     "name": "stdout",
     "output_type": "stream",
     "text": [
      "Data-Science-Mentorship-Program-By-CampusX\n"
     ]
    }
   ],
   "source": [
    "# Write your code here\n",
    "print(\"Data\",\"Science\",\"Mentorship\",\"Program\",\"By\",\"CampusX\",sep='-')"
   ]
  },
  {
   "cell_type": "markdown",
   "metadata": {
    "id": "1KUpN7ZTrC3_"
   },
   "source": [
    "### Q2:- Write a program that will convert celsius value to fahrenheit."
   ]
  },
  {
   "cell_type": "code",
   "execution_count": 5,
   "metadata": {
    "id": "yxKYhYQiqWfj"
   },
   "outputs": [
    {
     "name": "stdin",
     "output_type": "stream",
     "text": [
      "Enter temp in fahrenheit 32\n"
     ]
    },
    {
     "name": "stdout",
     "output_type": "stream",
     "text": [
      "The temprature is  0.0\n"
     ]
    }
   ],
   "source": [
    "# Write your code here\n",
    "F = int(input(\"Enter temp in fahrenheit\"))\n",
    "c = ((F- 32)) * 5/9\n",
    "print(\"The temprature is \",c)"
   ]
  },
  {
   "cell_type": "markdown",
   "metadata": {
    "id": "RLrOBBJurLB2"
   },
   "source": [
    "### Q3:- Take 2 numbers as input from the user.Write a program to swap the numbers without using any special python syntax."
   ]
  },
  {
   "cell_type": "code",
   "execution_count": 7,
   "metadata": {
    "id": "yPn7if0TrJ4F"
   },
   "outputs": [
    {
     "name": "stdin",
     "output_type": "stream",
     "text": [
      "Enter two numbers 10 20\n"
     ]
    },
    {
     "name": "stdout",
     "output_type": "stream",
     "text": [
      "After swap the numbers are num1 = 20 and num 2 is 10\n"
     ]
    }
   ],
   "source": [
    "# Write your code here\n",
    "num1, num2 = map(int,input(\"Enter two numbers\").split())\n",
    "temp = num1\n",
    "num1 = num2\n",
    "num2 = temp\n",
    "print(f\"After swap the numbers are num1 is {num1} and num 2 is {num2}\")"
   ]
  },
  {
   "cell_type": "markdown",
   "metadata": {
    "id": "waLCP1bjr7ML"
   },
   "source": [
    "### Q4:- Write a program to find the euclidean distance between two coordinates.Take both the coordinates from the user as input."
   ]
  },
  {
   "cell_type": "code",
   "execution_count": 9,
   "metadata": {
    "id": "Pl1Sv-xnrxnH"
   },
   "outputs": [
    {
     "name": "stdin",
     "output_type": "stream",
     "text": [
      "Enter first cordinate 10 50 \n",
      "Enter second cordinate 4 5\n"
     ]
    },
    {
     "name": "stdout",
     "output_type": "stream",
     "text": [
      "The distance is  45.39823785126467\n"
     ]
    }
   ],
   "source": [
    "# Write your code here\n",
    "x1,y1 = map(int, input(\"Enter first cordinate\").split())\n",
    "x2,y2 = map(int, input(\"Enter second cordinate\").split())\n",
    "\n",
    "distance = ((x2 - x1)**2 + (y2 - y1)**2)**0.5\n",
    "\n",
    "print(\"The distance is \", distance)\n"
   ]
  },
  {
   "cell_type": "markdown",
   "metadata": {
    "id": "VLrhg-FRsHjR"
   },
   "source": [
    "### Q5:- Write a program to find the simple interest when the value of principle,rate of interest and time period is provided by the user.\n"
   ]
  },
  {
   "cell_type": "code",
   "execution_count": 17,
   "metadata": {
    "id": "s40DlReZsTmY"
   },
   "outputs": [
    {
     "name": "stdin",
     "output_type": "stream",
     "text": [
      "Enter principle 100\n",
      "Enter rate amount 2\n",
      "Enter time period 3\n"
     ]
    },
    {
     "name": "stdout",
     "output_type": "stream",
     "text": [
      "the si of this amount is  6.0\n"
     ]
    }
   ],
   "source": [
    "# Write your code here\n",
    "p = int(input(\"Enter principle\"))\n",
    "r = int(input(\"Enter rate amount\"))\n",
    "t = int(input(\"Enter time period\"))\n",
    "\n",
    "si = (p*r*t)/100\n",
    "\n",
    "print(\"the si of this amount is \", si)"
   ]
  },
  {
   "cell_type": "markdown",
   "metadata": {
    "id": "LMy0BTUktYKa"
   },
   "source": [
    "### Q6:- Write a program that will tell the number of dogs and chicken are there when the user will provide the value of total heads and legs.\n",
    "\n",
    "For example:\n",
    "Input:\n",
    "heads -> 4\n",
    "legs -> 12\n",
    "<br>\n",
    "Output:\n",
    "dogs -> 2\n",
    "chicken -> 2\n",
    "\n",
    "\n",
    "\n"
   ]
  },
  {
   "cell_type": "code",
   "execution_count": 20,
   "metadata": {
    "id": "XSBvJoA4tXaG"
   },
   "outputs": [
    {
     "name": "stdin",
     "output_type": "stream",
     "text": [
      "Enter total number of heads:  4 \n",
      "Enter total number of legs:  12\n"
     ]
    },
    {
     "name": "stdout",
     "output_type": "stream",
     "text": [
      "Dogs: 2\n",
      "Chickens: 2\n"
     ]
    }
   ],
   "source": [
    "# Write your code here\n",
    "\n",
    "heads = int(input(\"Enter total number of heads: \"))\n",
    "legs = int(input(\"Enter total number of legs: \"))\n",
    "\n",
    "dogs = (legs - 2 * heads) // 2\n",
    "chickens = heads - dogs\n",
    "\n",
    "\n",
    "if dogs < 0 or chickens < 0 or (legs - 2 * heads) % 2 != 0:\n",
    "    print(\"No valid solution. Please check the input values.\")\n",
    "else:\n",
    "    print(f\"Dogs: {dogs}\")\n",
    "    print(f\"Chickens: {chickens}\")\n"
   ]
  },
  {
   "cell_type": "markdown",
   "metadata": {
    "id": "gJ7C5kZYt4BP"
   },
   "source": [
    "### Q7:- Write a program to find the sum of squares of first n natural numbers where n will be provided by the user."
   ]
  },
  {
   "cell_type": "code",
   "execution_count": 12,
   "metadata": {
    "id": "_tHsmEHzt2nX"
   },
   "outputs": [
    {
     "name": "stdin",
     "output_type": "stream",
     "text": [
      "Enter the nth value of the series 10\n"
     ]
    },
    {
     "name": "stdout",
     "output_type": "stream",
     "text": [
      "The sum of nth number is  385.0\n"
     ]
    }
   ],
   "source": [
    "# Write your code here\n",
    "\n",
    "n = int(input(\"Enter the nth value of the series\"))\n",
    "\n",
    "add = (n*(n+1)*(2*n+1))/6\n",
    "print(\"The sum of nth number is \", add)"
   ]
  },
  {
   "cell_type": "markdown",
   "metadata": {
    "id": "FHrMM7g-yG1h"
   },
   "source": [
    "### Q8:- Given the first 2 terms of an Arithmetic Series.Find the Nth term of the series. Assume all inputs are provided by the user."
   ]
  },
  {
   "cell_type": "code",
   "execution_count": 21,
   "metadata": {
    "id": "go4_kmZmyVSx"
   },
   "outputs": [
    {
     "name": "stdin",
     "output_type": "stream",
     "text": [
      "Enter the first term (a1):  4\n",
      "Enter the second term (a2):  8\n",
      "Enter the term number to find (n):  10\n"
     ]
    },
    {
     "name": "stdout",
     "output_type": "stream",
     "text": [
      "The 10th term of the arithmetic series is: 40\n"
     ]
    }
   ],
   "source": [
    "# Write your code here\n",
    "\n",
    "a1 = int(input(\"Enter the first term (a1): \"))\n",
    "a2 = int(input(\"Enter the second term (a2): \"))\n",
    "n = int(input(\"Enter the term number to find (n): \"))\n",
    "d = a2 - a1\n",
    "\n",
    "an = a1 + (n - 1) * d\n",
    "print(f\"The {n}th term of the arithmetic series is: {an}\")"
   ]
  },
  {
   "cell_type": "markdown",
   "metadata": {
    "id": "QgyRX_es1oum"
   },
   "source": [
    "### Q9:- Given 2 fractions, find the sum of those 2 fractions.Take the numerator and denominator values of the fractions from the user."
   ]
  },
  {
   "cell_type": "code",
   "execution_count": 15,
   "metadata": {
    "id": "X05xqFS1yW16"
   },
   "outputs": [
    {
     "name": "stdin",
     "output_type": "stream",
     "text": [
      "Enter the first fraction value 5 5 \n",
      "Enter the second fraction value 5 5 \n"
     ]
    },
    {
     "name": "stdout",
     "output_type": "stream",
     "text": [
      "The value of addd is 50/25\n"
     ]
    }
   ],
   "source": [
    "# Write your code here\n",
    "x1,y1 = map(int, input(\"Enter the first fraction value\").split())\n",
    "x2,y2 = map(int, input(\"Enter the second fraction value\").split())\n",
    "\n",
    "num = ((x1* y2) + (x2*y1))\n",
    "den =  (y1* y2)\n",
    "print(f\"The value of addd is {num}/{den}\")"
   ]
  },
  {
   "cell_type": "markdown",
   "metadata": {
    "id": "eaql38ln13u7"
   },
   "source": [
    "### Q10:- Given the height, width and breadth of a milk tank, you have to find out how many glasses of milk can be obtained? Assume all the inputs are provided by the user.\n",
    "\n",
    "\n",
    "\n",
    "Input:<br>\n",
    "Dimensions of the milk tank<br>\n",
    "H = 20cm, L = 20cm, B = 20cm\n",
    "<br><br>\n",
    "Dimensions of the glass<br>\n",
    "h = 3cm, r = 1cm"
   ]
  },
  {
   "cell_type": "code",
   "execution_count": 19,
   "metadata": {
    "id": "FePZqno74eWv"
   },
   "outputs": [
    {
     "name": "stdin",
     "output_type": "stream",
     "text": [
      "Enter height width and breadth of milk tank 20 20 20\n",
      "enter dimension height and radius 3 1\n"
     ]
    },
    {
     "name": "stdout",
     "output_type": "stream",
     "text": [
      "the total glass is  848.4848484848485\n"
     ]
    }
   ],
   "source": [
    "# Write your code here\n",
    "\n",
    "# milk tank dimension \n",
    "height, width, breadth = map(int, input(\"Enter height width and breadth of milk tank\").split())\n",
    "volumeOfTank = height*width*breadth\n",
    "\n",
    "# glass water \n",
    "height, radius = map(int, input(\"enter dimension height and radius\").split())\n",
    "volumeOfGlass = ((22/7) * (radius * radius) * height)\n",
    "\n",
    "totalGlass = volumeOfTank/volumeOfGlass\n",
    "\n",
    "print(\"the total glass is \", totalGlass)"
   ]
  },
  {
   "cell_type": "code",
   "execution_count": null,
   "metadata": {},
   "outputs": [],
   "source": []
  }
 ],
 "metadata": {
  "colab": {
   "provenance": []
  },
  "kernelspec": {
   "display_name": "Python 3 (ipykernel)",
   "language": "python",
   "name": "python3"
  },
  "language_info": {
   "codemirror_mode": {
    "name": "ipython",
    "version": 3
   },
   "file_extension": ".py",
   "mimetype": "text/x-python",
   "name": "python",
   "nbconvert_exporter": "python",
   "pygments_lexer": "ipython3",
   "version": "3.13.5"
  }
 },
 "nbformat": 4,
 "nbformat_minor": 4
}
