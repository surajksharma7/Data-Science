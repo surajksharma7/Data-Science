{
 "cells": [
  {
   "cell_type": "code",
   "execution_count": 1,
   "id": "10c75835-1353-439b-96d4-4d206b95b316",
   "metadata": {},
   "outputs": [
    {
     "ename": "AttributeError",
     "evalue": "'list' object has no attribute 'upper'",
     "output_type": "error",
     "traceback": [
      "\u001b[1;31m---------------------------------------------------------------------------\u001b[0m",
      "\u001b[1;31mAttributeError\u001b[0m                            Traceback (most recent call last)",
      "Cell \u001b[1;32mIn[1], line 3\u001b[0m\n\u001b[0;32m      1\u001b[0m L \u001b[38;5;241m=\u001b[39m [\u001b[38;5;241m1\u001b[39m,\u001b[38;5;241m2\u001b[39m,\u001b[38;5;241m3\u001b[39m]\n\u001b[1;32m----> 3\u001b[0m L\u001b[38;5;241m.\u001b[39mupper()\n",
      "\u001b[1;31mAttributeError\u001b[0m: 'list' object has no attribute 'upper'"
     ]
    }
   ],
   "source": [
    "L = [1,2,3]\n",
    "\n",
    "L.upper()"
   ]
  },
  {
   "cell_type": "code",
   "execution_count": 2,
   "id": "823a32c1-2eb4-4b98-bc8e-07d92d7957d3",
   "metadata": {},
   "outputs": [
    {
     "ename": "AttributeError",
     "evalue": "'str' object has no attribute 'append'",
     "output_type": "error",
     "traceback": [
      "\u001b[1;31m---------------------------------------------------------------------------\u001b[0m",
      "\u001b[1;31mAttributeError\u001b[0m                            Traceback (most recent call last)",
      "Cell \u001b[1;32mIn[2], line 2\u001b[0m\n\u001b[0;32m      1\u001b[0m s \u001b[38;5;241m=\u001b[39m \u001b[38;5;124m'\u001b[39m\u001b[38;5;124mhello\u001b[39m\u001b[38;5;124m'\u001b[39m\n\u001b[1;32m----> 2\u001b[0m s\u001b[38;5;241m.\u001b[39mappend(\u001b[38;5;124m'\u001b[39m\u001b[38;5;124mx\u001b[39m\u001b[38;5;124m'\u001b[39m)\n",
      "\u001b[1;31mAttributeError\u001b[0m: 'str' object has no attribute 'append'"
     ]
    }
   ],
   "source": [
    "s = 'hello'\n",
    "s.append('x')"
   ]
  },
  {
   "cell_type": "markdown",
   "id": "c2861cac-e286-4e59-a810-814e44327e66",
   "metadata": {},
   "source": [
    "### In python everything is a object\n",
    "\n",
    "#### OOps consists of several key elements\n",
    "- Object\n",
    "- Class\n",
    "- Polymorphism\n",
    "- Encapsulation\n",
    "- Inheritance\n",
    "- Abstraction"
   ]
  },
  {
   "cell_type": "markdown",
   "id": "9c99e190-aafb-44b2-be8f-935effa1cb3e",
   "metadata": {},
   "source": [
    "### Class\n",
    "It is a blueprint\n",
    "\n",
    "class have \n",
    "- Data or property\n",
    "- Function or behavior\n",
    "\n",
    "### Object is an instance of class\n",
    "\n",
    "objectName = ClassName()"
   ]
  },
  {
   "cell_type": "code",
   "execution_count": 5,
   "id": "cad39ea8-fd4f-4447-852a-cc83d6da7176",
   "metadata": {},
   "outputs": [
    {
     "name": "stdout",
     "output_type": "stream",
     "text": [
      "<class 'list'>\n"
     ]
    }
   ],
   "source": [
    "L = [1,2,3]\n",
    "print(type(L))"
   ]
  },
  {
   "cell_type": "code",
   "execution_count": 11,
   "id": "d07506bc-db8a-4d56-a203-1d528436f8ec",
   "metadata": {},
   "outputs": [],
   "source": [
    "class Atm:\n",
    "\n",
    "    def __init__(self):\n",
    "        self.pin = ''\n",
    "        self.balance = 0\n",
    "        self.menu()\n",
    "\n",
    "    def menu(self):\n",
    "        userInput = input(\"\"\"\n",
    "        hii how can i help you?\n",
    "        1. press 1 to create pin\n",
    "        2. press 2 to change pin\n",
    "        3. press 3 to check balance\n",
    "        4. press 4 to withdraw\n",
    "        5. Anything else to exit\n",
    "        \"\"\")\n",
    "\n",
    "        if userInput == '1':\n",
    "            self.createPin()\n",
    "        elif userInput == '2':\n",
    "            self.changePin()\n",
    "        elif userInput == '3':\n",
    "            self.checkBalance()\n",
    "        elif userInput == '4':\n",
    "            self.withdraw()\n",
    "        else:\n",
    "            exit()\n",
    "\n",
    "    def createPin(self):\n",
    "        userPin = input(\"Enter your pin\")\n",
    "        self.pin = userPin\n",
    "\n",
    "        userBalance = input(\"Enter balance\")\n",
    "        self.balance = userBalance\n",
    "        print(\"pin created sucessfully\")\n",
    "        self.menu()\n",
    "\n",
    "    def changePin(self):\n",
    "        userInput = input(\"Enter current pin\")\n",
    "        if(userInput == self.pin):\n",
    "            newPin = input(\"Enter new pin\")\n",
    "            self.pin = newPin\n",
    "            self.menu()\n",
    "        else:\n",
    "            print(\"sorry your pin is wrong\")\n",
    "            self.menu()\n",
    "            \n",
    "    def checkBalance(self):\n",
    "        userPin = input(\"enter your pin\")\n",
    "        if userPin == self.pin:\n",
    "            print(\"your balance is \", self.balance)\n",
    "            self.menu()\n",
    "        else:\n",
    "            print(\"chal nikal yaha se\")\n",
    "            self.menu()\n",
    "\n",
    "    def withdraw(self):\n",
    "        userInput = input(\"Enter your pin\")\n",
    "        if userInput == self.pin:\n",
    "            amount = int(input(\"Enter your amount\"))\n",
    "            if amount <= int(self.balance):\n",
    "                self.balance -= amount\n",
    "                print(\"money debited sucessfully\")\n",
    "                self.menu()\n",
    "            else:\n",
    "                print('saale garib')\n",
    "                self.menu()\n",
    "                self.menu()\n",
    "        else:\n",
    "            print(\"sale chor\")\n",
    "            self.menu()"
   ]
  },
  {
   "cell_type": "code",
   "execution_count": 12,
   "id": "81ff1711-e549-4a5c-bdf1-9f7788f95bbf",
   "metadata": {},
   "outputs": [
    {
     "name": "stdin",
     "output_type": "stream",
     "text": [
      "\n",
      "        hii how can i help you?\n",
      "        1. press 1 to create pin\n",
      "        2. press 2 to change pin\n",
      "        3. press 3 to check balance\n",
      "        4. press 4 to withdraw\n",
      "        5. Anything else to exit\n",
      "         1\n",
      "Enter your pin 1234\n",
      "Enter balance 1000\n"
     ]
    },
    {
     "name": "stdout",
     "output_type": "stream",
     "text": [
      "pin created sucessfully\n"
     ]
    },
    {
     "name": "stdin",
     "output_type": "stream",
     "text": [
      "\n",
      "        hii how can i help you?\n",
      "        1. press 1 to create pin\n",
      "        2. press 2 to change pin\n",
      "        3. press 3 to check balance\n",
      "        4. press 4 to withdraw\n",
      "        5. Anything else to exit\n",
      "         4\n",
      "Enter your pin 1234\n",
      "Enter your amount 1999\n"
     ]
    },
    {
     "name": "stdout",
     "output_type": "stream",
     "text": [
      "saale garib\n"
     ]
    },
    {
     "name": "stdin",
     "output_type": "stream",
     "text": [
      "\n",
      "        hii how can i help you?\n",
      "        1. press 1 to create pin\n",
      "        2. press 2 to change pin\n",
      "        3. press 3 to check balance\n",
      "        4. press 4 to withdraw\n",
      "        5. Anything else to exit\n",
      "         5\n",
      "\n",
      "        hii how can i help you?\n",
      "        1. press 1 to create pin\n",
      "        2. press 2 to change pin\n",
      "        3. press 3 to check balance\n",
      "        4. press 4 to withdraw\n",
      "        5. Anything else to exit\n",
      "         6\n"
     ]
    }
   ],
   "source": [
    "obj = Atm()"
   ]
  },
  {
   "cell_type": "code",
   "execution_count": 9,
   "id": "3cd0e84f-a20c-4694-b03f-e64966912410",
   "metadata": {},
   "outputs": [
    {
     "name": "stdout",
     "output_type": "stream",
     "text": [
      "<class '__main__.Atm'>\n"
     ]
    }
   ],
   "source": [
    "print(type(obj))"
   ]
  },
  {
   "cell_type": "code",
   "execution_count": 10,
   "id": "624187a0-2821-4a2f-9846-28ae5b8a28d4",
   "metadata": {},
   "outputs": [
    {
     "data": {
      "text/plain": [
       "0"
      ]
     },
     "execution_count": 10,
     "metadata": {},
     "output_type": "execute_result"
    }
   ],
   "source": [
    "obj.balance"
   ]
  },
  {
   "cell_type": "markdown",
   "id": "eefc3446-21ef-494c-9d64-b7b1831305a7",
   "metadata": {},
   "source": [
    "### Methods vs function ? \n",
    "- When a function is created inside the class it is called methods and when it is created outside class this is called function"
   ]
  },
  {
   "cell_type": "code",
   "execution_count": 31,
   "id": "477d0836-73a6-4e44-8362-f0c14207d472",
   "metadata": {},
   "outputs": [],
   "source": [
    "class Fraction:\n",
    "\n",
    "    def __init__(self,x,y):\n",
    "        self.num = x\n",
    "        self.den = y  \n",
    "        \n",
    "    def __str__(self):\n",
    "        return '{}/{}'.format(self.num,self.den)\n",
    "\n",
    "    def __add__(self,other):\n",
    "        num = ((fr1.num * other.den ) + (other.num * fr1.den))\n",
    "        den = (fr1.den * other.den)\n",
    "\n",
    "        return \"{}/{}\".format(num,den)"
   ]
  },
  {
   "cell_type": "code",
   "execution_count": 32,
   "id": "2e640602-d7d9-450a-8fa5-b6808833e2ca",
   "metadata": {},
   "outputs": [],
   "source": [
    "fr1 = Fraction(3,5)"
   ]
  },
  {
   "cell_type": "code",
   "execution_count": 33,
   "id": "6cc7013a-b5f8-48f1-83ba-45e1b5530666",
   "metadata": {},
   "outputs": [
    {
     "name": "stdout",
     "output_type": "stream",
     "text": [
      "3/5\n"
     ]
    }
   ],
   "source": [
    "print(fr1)"
   ]
  },
  {
   "cell_type": "code",
   "execution_count": 34,
   "id": "61086ea2-71c8-460b-8d02-1bc36eeb92f5",
   "metadata": {},
   "outputs": [],
   "source": [
    "fr2 = Fraction(4,5)"
   ]
  },
  {
   "cell_type": "code",
   "execution_count": 35,
   "id": "2392b424-a7a0-450a-87e3-5768eb172d69",
   "metadata": {},
   "outputs": [
    {
     "data": {
      "text/plain": [
       "'35/25'"
      ]
     },
     "execution_count": 35,
     "metadata": {},
     "output_type": "execute_result"
    }
   ],
   "source": [
    "fr1 + fr2"
   ]
  }
 ],
 "metadata": {
  "kernelspec": {
   "display_name": "Python 3 (ipykernel)",
   "language": "python",
   "name": "python3"
  },
  "language_info": {
   "codemirror_mode": {
    "name": "ipython",
    "version": 3
   },
   "file_extension": ".py",
   "mimetype": "text/x-python",
   "name": "python",
   "nbconvert_exporter": "python",
   "pygments_lexer": "ipython3",
   "version": "3.13.5"
  }
 },
 "nbformat": 4,
 "nbformat_minor": 5
}
