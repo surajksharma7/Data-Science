{
 "cells": [
  {
   "cell_type": "markdown",
   "id": "ab1de0e2",
   "metadata": {},
   "source": [
    "# Why Python\n",
    "\n",
    "- Design philosophy\n",
    "\n",
    "- General Purpose \n",
    "\n",
    "- Batteries included\n",
    "\n",
    "- Libraries / Community \n",
    "\n",
    "\n",
    "# Why python for data science\n",
    "\n",
    "- Easy to learn\n",
    "\n",
    "- Proximity with maths \n",
    "\n",
    "- Community"
   ]
  },
  {
   "cell_type": "markdown",
   "id": "2e8f8353",
   "metadata": {},
   "source": [
    "## Python Output"
   ]
  },
  {
   "cell_type": "code",
   "execution_count": 1,
   "id": "02d3b53c",
   "metadata": {},
   "outputs": [
    {
     "name": "stdout",
     "output_type": "stream",
     "text": [
      "hello world\n"
     ]
    }
   ],
   "source": [
    "# python is a case sensitive langauge\n",
    "\n",
    "print(\"hello world\")"
   ]
  },
  {
   "cell_type": "code",
   "execution_count": 2,
   "id": "7804aa39",
   "metadata": {},
   "outputs": [
    {
     "name": "stdout",
     "output_type": "stream",
     "text": [
      "salmaan khan\n"
     ]
    }
   ],
   "source": [
    "print(\"salmaan khan\")"
   ]
  },
  {
   "cell_type": "code",
   "execution_count": 3,
   "id": "f9ca064a",
   "metadata": {},
   "outputs": [
    {
     "ename": "SyntaxError",
     "evalue": "invalid syntax. Perhaps you forgot a comma? (1115953987.py, line 1)",
     "output_type": "error",
     "traceback": [
      "\u001b[0;36m  Cell \u001b[0;32mIn[3], line 1\u001b[0;36m\u001b[0m\n\u001b[0;31m    print(salman khan)\u001b[0m\n\u001b[0m          ^\u001b[0m\n\u001b[0;31mSyntaxError\u001b[0m\u001b[0;31m:\u001b[0m invalid syntax. Perhaps you forgot a comma?\n"
     ]
    }
   ],
   "source": [
    "print(salman khan)"
   ]
  },
  {
   "cell_type": "code",
   "execution_count": 4,
   "id": "1978201b",
   "metadata": {},
   "outputs": [
    {
     "name": "stdout",
     "output_type": "stream",
     "text": [
      "7\n"
     ]
    }
   ],
   "source": [
    "print(7)"
   ]
  },
  {
   "cell_type": "code",
   "execution_count": 5,
   "id": "9696912d",
   "metadata": {},
   "outputs": [
    {
     "name": "stdout",
     "output_type": "stream",
     "text": [
      "True\n"
     ]
    }
   ],
   "source": [
    "print(True)"
   ]
  },
  {
   "cell_type": "code",
   "execution_count": 6,
   "id": "9756df7e",
   "metadata": {},
   "outputs": [
    {
     "name": "stdout",
     "output_type": "stream",
     "text": [
      "1 2.5 Hello world\n"
     ]
    }
   ],
   "source": [
    "print(1,2.5, \"Hello world\")"
   ]
  },
  {
   "cell_type": "code",
   "execution_count": 7,
   "id": "f5730cc5",
   "metadata": {},
   "outputs": [
    {
     "name": "stdout",
     "output_type": "stream",
     "text": [
      "1/2.5/Hello world\n"
     ]
    }
   ],
   "source": [
    "# sep -> seperator in python \n",
    "print(1,2.5, \"Hello world\",sep='/')"
   ]
  },
  {
   "cell_type": "code",
   "execution_count": 8,
   "id": "03c9d56d",
   "metadata": {},
   "outputs": [
    {
     "name": "stdout",
     "output_type": "stream",
     "text": [
      "hello\n",
      "world\n"
     ]
    }
   ],
   "source": [
    "# end in python \n",
    "print(\"hello\")\n",
    "print(\"world\")"
   ]
  },
  {
   "cell_type": "code",
   "execution_count": 9,
   "id": "eec4a47f",
   "metadata": {},
   "outputs": [
    {
     "name": "stdout",
     "output_type": "stream",
     "text": [
      "hello world\n"
     ]
    }
   ],
   "source": [
    "print(\"hello\",end=' ')\n",
    "print(\"world\")"
   ]
  },
  {
   "cell_type": "markdown",
   "id": "5e634d91",
   "metadata": {},
   "source": [
    "## Data Types"
   ]
  },
  {
   "cell_type": "code",
   "execution_count": 13,
   "id": "c9121d2a",
   "metadata": {},
   "outputs": [
    {
     "name": "stdout",
     "output_type": "stream",
     "text": [
      "8\n",
      "1e+308\n"
     ]
    }
   ],
   "source": [
    "# integers\n",
    "print(8)\n",
    "print(1e308)"
   ]
  },
  {
   "cell_type": "code",
   "execution_count": 15,
   "id": "99e72603",
   "metadata": {},
   "outputs": [
    {
     "name": "stdout",
     "output_type": "stream",
     "text": [
      "8.5\n",
      "1.5e+308\n"
     ]
    }
   ],
   "source": [
    "# Decimal / float\n",
    "print(8.5)\n",
    "print(1.5e308)"
   ]
  },
  {
   "cell_type": "code",
   "execution_count": 16,
   "id": "d7719a41",
   "metadata": {},
   "outputs": [
    {
     "name": "stdout",
     "output_type": "stream",
     "text": [
      "True\n",
      "False\n"
     ]
    }
   ],
   "source": [
    "# Boolean \n",
    "print(True)\n",
    "print(False)"
   ]
  },
  {
   "cell_type": "code",
   "execution_count": 17,
   "id": "a4b98c0a",
   "metadata": {},
   "outputs": [
    {
     "name": "stdout",
     "output_type": "stream",
     "text": [
      "hello world\n"
     ]
    }
   ],
   "source": [
    "# text/String \n",
    "print(\"hello world\")"
   ]
  },
  {
   "cell_type": "code",
   "execution_count": 18,
   "id": "11c897de",
   "metadata": {},
   "outputs": [
    {
     "name": "stdout",
     "output_type": "stream",
     "text": [
      "(5+7j)\n"
     ]
    }
   ],
   "source": [
    "# complex number\n",
    "print(5+7j)"
   ]
  },
  {
   "cell_type": "code",
   "execution_count": 1,
   "id": "3a6eaabb",
   "metadata": {},
   "outputs": [
    {
     "name": "stdout",
     "output_type": "stream",
     "text": [
      "[1, 2, 4, 5, 6]\n"
     ]
    }
   ],
   "source": [
    "# List in python \n",
    "print([1,2,4,5,6])"
   ]
  },
  {
   "cell_type": "code",
   "execution_count": 2,
   "id": "f577654e",
   "metadata": {},
   "outputs": [
    {
     "name": "stdout",
     "output_type": "stream",
     "text": [
      "(1, 2, 3, 4, 5, 6)\n"
     ]
    }
   ],
   "source": [
    "# tuple \n",
    "print((1,2,3,4,5,6))"
   ]
  },
  {
   "cell_type": "code",
   "execution_count": 3,
   "id": "b547b215",
   "metadata": {},
   "outputs": [
    {
     "name": "stdout",
     "output_type": "stream",
     "text": [
      "{1, 2, 3, 4, 5, 6}\n"
     ]
    }
   ],
   "source": [
    "# sets \n",
    "print({1,2,3,4,5,6})"
   ]
  },
  {
   "cell_type": "code",
   "execution_count": 9,
   "id": "101a3af8",
   "metadata": {},
   "outputs": [
    {
     "name": "stdout",
     "output_type": "stream",
     "text": [
      "{'name': 'suraj', 'gender': 'male', 'weight': 70}\n"
     ]
    }
   ],
   "source": [
    "# dictionary \n",
    "print({\n",
    "    \"name\":\"suraj\",\n",
    "    \"gender\":\"male\",\n",
    "    \"weight\":70\n",
    "})"
   ]
  },
  {
   "cell_type": "code",
   "execution_count": 10,
   "id": "7194bb0b",
   "metadata": {},
   "outputs": [
    {
     "name": "stdout",
     "output_type": "stream",
     "text": [
      "None\n"
     ]
    }
   ],
   "source": [
    "# None Datatype\n",
    "print(None)"
   ]
  },
  {
   "cell_type": "code",
   "execution_count": 11,
   "id": "ae3c3ab0",
   "metadata": {},
   "outputs": [
    {
     "data": {
      "text/plain": [
       "int"
      ]
     },
     "execution_count": 11,
     "metadata": {},
     "output_type": "execute_result"
    }
   ],
   "source": [
    "# to check the type of a variable we use type function \n",
    "type(7)"
   ]
  },
  {
   "cell_type": "markdown",
   "id": "e7779176",
   "metadata": {},
   "source": [
    "## Variable"
   ]
  },
  {
   "cell_type": "code",
   "execution_count": 12,
   "id": "d683c376",
   "metadata": {},
   "outputs": [],
   "source": [
    "# static vs dynamic typeing \n",
    "# static vs dynamic binding\n",
    "# stylish declaration techniques"
   ]
  },
  {
   "cell_type": "code",
   "execution_count": 13,
   "id": "09b33033",
   "metadata": {},
   "outputs": [],
   "source": [
    "# in c/c++ we used to declare variable like -> int string = \"nitish \""
   ]
  },
  {
   "cell_type": "code",
   "execution_count": 15,
   "id": "b32e8771",
   "metadata": {},
   "outputs": [
    {
     "name": "stdout",
     "output_type": "stream",
     "text": [
      "nitish\n"
     ]
    }
   ],
   "source": [
    "# but in python we can direct write without declaring it \n",
    "name = \"nitish\"\n",
    "print(name)"
   ]
  },
  {
   "cell_type": "code",
   "execution_count": 16,
   "id": "c5ae62bc",
   "metadata": {},
   "outputs": [
    {
     "name": "stdout",
     "output_type": "stream",
     "text": [
      "11\n"
     ]
    }
   ],
   "source": [
    "a = 5\n",
    "b = 6\n",
    "print(a+b)"
   ]
  },
  {
   "cell_type": "code",
   "execution_count": 18,
   "id": "7cce8352",
   "metadata": {},
   "outputs": [
    {
     "name": "stdout",
     "output_type": "stream",
     "text": [
      "5\n",
      "nitish\n"
     ]
    }
   ],
   "source": [
    "print(a)\n",
    "a = \"nitish\"\n",
    "print(a)"
   ]
  },
  {
   "cell_type": "code",
   "execution_count": 19,
   "id": "a3559c15",
   "metadata": {},
   "outputs": [],
   "source": [
    "a = 1\n",
    "b = 2\n",
    "c = 3\n",
    "# this can also be written like this \n",
    "a,b,c = 1,2,3"
   ]
  },
  {
   "cell_type": "code",
   "execution_count": 21,
   "id": "027115b3",
   "metadata": {},
   "outputs": [
    {
     "name": "stdout",
     "output_type": "stream",
     "text": [
      "10 10 10\n"
     ]
    }
   ],
   "source": [
    "# with same value \n",
    "a=b=c=10"
   ]
  },
  {
   "cell_type": "markdown",
   "id": "0d94a9ee",
   "metadata": {},
   "source": [
    "### Comments"
   ]
  },
  {
   "cell_type": "code",
   "execution_count": 2,
   "id": "9b0b0da3",
   "metadata": {},
   "outputs": [],
   "source": [
    "# this is a comment "
   ]
  },
  {
   "cell_type": "markdown",
   "id": "3388a9a5",
   "metadata": {},
   "source": [
    "### keywords and identifiers"
   ]
  },
  {
   "cell_type": "code",
   "execution_count": 4,
   "id": "781b52d4",
   "metadata": {},
   "outputs": [],
   "source": [
    "# keywords -> reserved words in python or anyother langauges are called keywords"
   ]
  },
  {
   "cell_type": "code",
   "execution_count": 5,
   "id": "71f7c42b",
   "metadata": {},
   "outputs": [],
   "source": [
    "# identifiers -> names given to a variable is called identifiers \n",
    "# you cant start with integer\n",
    "# you can you special char = _\n",
    "# identifiers cannot be keywords"
   ]
  },
  {
   "cell_type": "markdown",
   "id": "1c7f475b",
   "metadata": {},
   "source": [
    "### take user input "
   ]
  },
  {
   "cell_type": "code",
   "execution_count": 6,
   "id": "823346d9",
   "metadata": {},
   "outputs": [
    {
     "name": "stdout",
     "output_type": "stream",
     "text": [
      "suraj\n"
     ]
    },
    {
     "data": {
      "text/plain": [
       "'suraj'"
      ]
     },
     "execution_count": 6,
     "metadata": {},
     "output_type": "execute_result"
    }
   ],
   "source": [
    "input()"
   ]
  },
  {
   "cell_type": "code",
   "execution_count": 7,
   "id": "73de7fbb",
   "metadata": {},
   "outputs": [
    {
     "name": "stdout",
     "output_type": "stream",
     "text": [
      "suraj\n"
     ]
    }
   ],
   "source": [
    "# storing input in a variable\n",
    "\n",
    "name = input()"
   ]
  },
  {
   "cell_type": "code",
   "execution_count": 9,
   "id": "cabb6f94",
   "metadata": {},
   "outputs": [],
   "source": [
    "# yaha pe to kuch pata hi nhi chala ki kya karna hai to user input ke time pe message ke liye input ke  \n",
    "# andar string bhejte hai "
   ]
  },
  {
   "cell_type": "code",
   "execution_count": 11,
   "id": "b4fd85e1",
   "metadata": {},
   "outputs": [
    {
     "name": "stdout",
     "output_type": "stream",
     "text": [
      "Enter first number 10\n",
      "Enter second number 10\n",
      "20\n"
     ]
    }
   ],
   "source": [
    "# take input form user and store them in a variable \n",
    "num1 = input(\"Enter first number \")\n",
    "num2 = input(\"Enter second number \")\n",
    "# add the two variable\n",
    "add = int(num1) + int(num2)\n",
    "\n",
    "# print the result\n",
    "print(add)"
   ]
  },
  {
   "cell_type": "markdown",
   "id": "1325fafe",
   "metadata": {},
   "source": [
    "### Literals"
   ]
  },
  {
   "cell_type": "code",
   "execution_count": 13,
   "id": "feb31402",
   "metadata": {},
   "outputs": [
    {
     "name": "stdout",
     "output_type": "stream",
     "text": [
      "10 100 200 300\n",
      "10.5 150.0 0.0015\n",
      "3.14j 3.14 0.0\n"
     ]
    }
   ],
   "source": [
    "a = 0b1010 #Binary Literals\n",
    "b = 100 #Decimal Literal \n",
    "c = 0o310 #Octal Literal\n",
    "d = 0x12c #Hexadecimal Literal\n",
    "\n",
    "#Float Literal\n",
    "float_1 = 10.5 \n",
    "float_2 = 1.5e2 # 1.5 * 10^2\n",
    "float_3 = 1.5e-3 # 1.5 * 10^-3\n",
    "\n",
    "#Complex Literal \n",
    "x = 3.14j\n",
    "\n",
    "print(a, b, c, d)\n",
    "print(float_1, float_2,float_3)\n",
    "print(x, x.imag, x.real)"
   ]
  },
  {
   "cell_type": "code",
   "execution_count": 14,
   "id": "9419683a",
   "metadata": {},
   "outputs": [
    {
     "name": "stdout",
     "output_type": "stream",
     "text": [
      "This is Python\n",
      "This is Python\n",
      "C\n",
      "This is a multiline string with more than one line code.\n",
      "😀😆🤣\n",
      "raw \\n string\n"
     ]
    }
   ],
   "source": [
    "string = 'This is Python'\n",
    "strings = \"This is Python\"\n",
    "char = \"C\"\n",
    "multiline_str = \"\"\"This is a multiline string with more than one line code.\"\"\"\n",
    "unicode = u\"\\U0001f600\\U0001F606\\U0001F923\"\n",
    "raw_str = r\"raw \\n string\"\n",
    "\n",
    "print(string)\n",
    "print(strings)\n",
    "print(char)\n",
    "print(multiline_str)\n",
    "print(unicode)\n",
    "print(raw_str)"
   ]
  },
  {
   "cell_type": "code",
   "execution_count": null,
   "id": "4059f2bb",
   "metadata": {},
   "outputs": [],
   "source": []
  }
 ],
 "metadata": {
  "kernelspec": {
   "display_name": "Python 3 (ipykernel)",
   "language": "python",
   "name": "python3"
  },
  "language_info": {
   "codemirror_mode": {
    "name": "ipython",
    "version": 3
   },
   "file_extension": ".py",
   "mimetype": "text/x-python",
   "name": "python",
   "nbconvert_exporter": "python",
   "pygments_lexer": "ipython3",
   "version": "3.11.3"
  }
 },
 "nbformat": 4,
 "nbformat_minor": 5
}
