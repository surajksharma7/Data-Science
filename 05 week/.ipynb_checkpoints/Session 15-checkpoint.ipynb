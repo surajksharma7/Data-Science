{
 "cells": [
  {
   "cell_type": "code",
   "execution_count": 1,
   "id": "eff05c2b-0c51-4b2d-a88e-ac61a88530f5",
   "metadata": {},
   "outputs": [],
   "source": [
    "import numpy as np"
   ]
  },
  {
   "cell_type": "markdown",
   "id": "f0e37970-1e02-4034-a1a9-d633925a97f2",
   "metadata": {},
   "source": [
    "### np.sort \n",
    "return a sorted copy of an array"
   ]
  },
  {
   "cell_type": "code",
   "execution_count": 3,
   "id": "800aad22-c2cf-449a-a0c0-ff91f07f9254",
   "metadata": {},
   "outputs": [
    {
     "data": {
      "text/plain": [
       "array([89,  7, 43, 15, 22, 32, 44, 41, 30,  4,  4, 97, 16, 14, 99])"
      ]
     },
     "execution_count": 3,
     "metadata": {},
     "output_type": "execute_result"
    }
   ],
   "source": [
    "a = np.random.randint(1,100,15)\n",
    "a"
   ]
  },
  {
   "cell_type": "code",
   "execution_count": 5,
   "id": "f496f2c1-da0a-4fde-a19a-e00b43bface1",
   "metadata": {},
   "outputs": [
    {
     "data": {
      "text/plain": [
       "array([ 4,  4,  7, 14, 15, 16, 22, 30, 32, 41, 43, 44, 89, 97, 99])"
      ]
     },
     "execution_count": 5,
     "metadata": {},
     "output_type": "execute_result"
    }
   ],
   "source": [
    "np.sort(a)"
   ]
  },
  {
   "cell_type": "code",
   "execution_count": 7,
   "id": "5681c40e-6ae1-4a9c-99d3-0b0b835d55bf",
   "metadata": {},
   "outputs": [
    {
     "data": {
      "text/plain": [
       "array([[76, 60, 71, 95, 86, 47],\n",
       "       [96,  6,  8,  3, 60, 28],\n",
       "       [ 4, 89, 34, 89, 50, 11],\n",
       "       [30, 26, 53, 36,  2, 38]])"
      ]
     },
     "execution_count": 7,
     "metadata": {},
     "output_type": "execute_result"
    }
   ],
   "source": [
    "b = np.random.randint(1,100,24).reshape(4,6)\n",
    "b"
   ]
  },
  {
   "cell_type": "code",
   "execution_count": 8,
   "id": "2b0118d3-1d65-4484-86f5-d1d820de0f7a",
   "metadata": {},
   "outputs": [
    {
     "data": {
      "text/plain": [
       "array([[ 4,  6,  8,  3,  2, 11],\n",
       "       [30, 26, 34, 36, 50, 28],\n",
       "       [76, 60, 53, 89, 60, 38],\n",
       "       [96, 89, 71, 95, 86, 47]])"
      ]
     },
     "execution_count": 8,
     "metadata": {},
     "output_type": "execute_result"
    }
   ],
   "source": [
    "np.sort(b,axis=0) # column wise "
   ]
  },
  {
   "cell_type": "code",
   "execution_count": 12,
   "id": "6707a93c-b7cc-492c-967e-80fca0acec5d",
   "metadata": {},
   "outputs": [
    {
     "data": {
      "text/plain": [
       "array([[47, 60, 71, 76, 86, 95],\n",
       "       [ 3,  6,  8, 28, 60, 96],\n",
       "       [ 4, 11, 34, 50, 89, 89],\n",
       "       [ 2, 26, 30, 36, 38, 53]])"
      ]
     },
     "execution_count": 12,
     "metadata": {},
     "output_type": "execute_result"
    }
   ],
   "source": [
    "np.sort(b,axis=1) # row wise"
   ]
  },
  {
   "cell_type": "markdown",
   "id": "0a2e78dd-8ec0-4f10-b271-450cc6f55a63",
   "metadata": {},
   "source": [
    "### np.append\n",
    "\n",
    "The numpy.append() appends value along the mentioned axis at the end of the array"
   ]
  },
  {
   "cell_type": "code",
   "execution_count": 13,
   "id": "7ff26f97-23ec-445c-8b44-571848607205",
   "metadata": {},
   "outputs": [
    {
     "data": {
      "text/plain": [
       "array([ 89,   7,  43,  15,  22,  32,  44,  41,  30,   4,   4,  97,  16,\n",
       "        14,  99, 200])"
      ]
     },
     "execution_count": 13,
     "metadata": {},
     "output_type": "execute_result"
    }
   ],
   "source": [
    "np.append(a,200)"
   ]
  },
  {
   "cell_type": "code",
   "execution_count": 27,
   "id": "231cf056-ac66-4740-98d7-23081268c479",
   "metadata": {},
   "outputs": [
    {
     "data": {
      "text/plain": [
       "array([[76, 60, 71, 95, 86, 47,  0],\n",
       "       [96,  6,  8,  3, 60, 28,  0],\n",
       "       [ 4, 89, 34, 89, 50, 11,  0],\n",
       "       [30, 26, 53, 36,  2, 38,  0]])"
      ]
     },
     "execution_count": 27,
     "metadata": {},
     "output_type": "execute_result"
    }
   ],
   "source": [
    "np.append(b, np.zeros((b.shape[0],1), dtype=int), axis=1)"
   ]
  },
  {
   "cell_type": "markdown",
   "id": "8f165c94-0913-45bc-b49d-1115662a69c5",
   "metadata": {},
   "source": [
    "### np.concatenate\n",
    "numpy.concatenate() function concatenate a sequence of arrays along an existing axis"
   ]
  },
  {
   "cell_type": "code",
   "execution_count": 29,
   "id": "93b68baf-7a83-4c2d-9500-af348972e763",
   "metadata": {},
   "outputs": [],
   "source": [
    "c = np.arange(6).reshape(2,3)\n",
    "d = np.arange(6,12).reshape(2,3)"
   ]
  },
  {
   "cell_type": "code",
   "execution_count": 30,
   "id": "e7f0f828-46ae-4fbc-a0e3-f130eb6cd3ff",
   "metadata": {},
   "outputs": [
    {
     "data": {
      "text/plain": [
       "array([[ 0,  1,  2],\n",
       "       [ 3,  4,  5],\n",
       "       [ 6,  7,  8],\n",
       "       [ 9, 10, 11]])"
      ]
     },
     "execution_count": 30,
     "metadata": {},
     "output_type": "execute_result"
    }
   ],
   "source": [
    "np.concatenate((c,d),axis=0)"
   ]
  },
  {
   "cell_type": "code",
   "execution_count": 31,
   "id": "97372a87-2bc0-47d2-a6f1-af16bfd00aa4",
   "metadata": {},
   "outputs": [
    {
     "data": {
      "text/plain": [
       "array([[ 0,  1,  2,  6,  7,  8],\n",
       "       [ 3,  4,  5,  9, 10, 11]])"
      ]
     },
     "execution_count": 31,
     "metadata": {},
     "output_type": "execute_result"
    }
   ],
   "source": [
    "np.concatenate((c,d),axis=1)"
   ]
  },
  {
   "cell_type": "markdown",
   "id": "59460ed4-52ae-4c00-869b-a69a8a15b8fb",
   "metadata": {},
   "source": [
    "### np.unique\n",
    "With the help of np.unique() method we can get the unique values from an array given as a parameter in np.unique() method"
   ]
  },
  {
   "cell_type": "code",
   "execution_count": 33,
   "id": "f4b420a5-3782-424c-96fb-e1b0ea642ef2",
   "metadata": {},
   "outputs": [
    {
     "data": {
      "text/plain": [
       "array([2, 2, 6, 9, 5, 6, 5, 7, 3, 8, 1, 8, 3, 7, 6])"
      ]
     },
     "execution_count": 33,
     "metadata": {},
     "output_type": "execute_result"
    }
   ],
   "source": [
    "a = np.random.randint(1,10,15)\n",
    "a"
   ]
  },
  {
   "cell_type": "code",
   "execution_count": 34,
   "id": "a8fcca2a-e1b9-4087-84e6-00a7ebe02bae",
   "metadata": {},
   "outputs": [
    {
     "data": {
      "text/plain": [
       "array([1, 2, 3, 5, 6, 7, 8, 9])"
      ]
     },
     "execution_count": 34,
     "metadata": {},
     "output_type": "execute_result"
    }
   ],
   "source": [
    "np.unique(a)"
   ]
  },
  {
   "cell_type": "markdown",
   "id": "40a75a4d-7bcf-4754-944c-fb06744d1150",
   "metadata": {},
   "source": [
    "### np.expand_dims\n",
    "\n",
    "With the help of numpy.expand_dims() method we can expand dimension of an array\n"
   ]
  },
  {
   "cell_type": "code",
   "execution_count": 35,
   "id": "2fbef348-d30e-44fa-a284-469cd122b18a",
   "metadata": {},
   "outputs": [
    {
     "data": {
      "text/plain": [
       "array([2, 2, 6, 9, 5, 6, 5, 7, 3, 8, 1, 8, 3, 7, 6])"
      ]
     },
     "execution_count": 35,
     "metadata": {},
     "output_type": "execute_result"
    }
   ],
   "source": [
    "a"
   ]
  },
  {
   "cell_type": "code",
   "execution_count": 37,
   "id": "705fc868-0b53-4037-a505-5ff1d27581be",
   "metadata": {},
   "outputs": [
    {
     "data": {
      "text/plain": [
       "array([[2],\n",
       "       [2],\n",
       "       [6],\n",
       "       [9],\n",
       "       [5],\n",
       "       [6],\n",
       "       [5],\n",
       "       [7],\n",
       "       [3],\n",
       "       [8],\n",
       "       [1],\n",
       "       [8],\n",
       "       [3],\n",
       "       [7],\n",
       "       [6]])"
      ]
     },
     "execution_count": 37,
     "metadata": {},
     "output_type": "execute_result"
    }
   ],
   "source": [
    "np.expand_dims(a,axis=1)"
   ]
  },
  {
   "cell_type": "markdown",
   "id": "845254f4-6c73-4907-b1ca-9101307b81a0",
   "metadata": {},
   "source": [
    "### np.where\n",
    "\n",
    "The numpy.where() function returns the indeces of element in an input array where the given condition is satisfied "
   ]
  },
  {
   "cell_type": "code",
   "execution_count": 38,
   "id": "420ad3de-0c01-490a-bd62-6a521327df07",
   "metadata": {},
   "outputs": [
    {
     "data": {
      "text/plain": [
       "array([2, 2, 6, 9, 5, 6, 5, 7, 3, 8, 1, 8, 3, 7, 6])"
      ]
     },
     "execution_count": 38,
     "metadata": {},
     "output_type": "execute_result"
    }
   ],
   "source": [
    "a "
   ]
  },
  {
   "cell_type": "code",
   "execution_count": 41,
   "id": "464dcf9e-d0c2-475d-a030-ac9f20a262d4",
   "metadata": {},
   "outputs": [
    {
     "data": {
      "text/plain": [
       "(array([ 2,  3,  5,  7,  9, 11, 13, 14]),)"
      ]
     },
     "execution_count": 41,
     "metadata": {},
     "output_type": "execute_result"
    }
   ],
   "source": [
    "np.where(a>5)"
   ]
  },
  {
   "cell_type": "code",
   "execution_count": 42,
   "id": "a74989a9-5757-44bf-a2f5-bd29bf3d0e11",
   "metadata": {},
   "outputs": [
    {
     "data": {
      "text/plain": [
       "array([2, 2, 0, 0, 5, 0, 5, 0, 3, 0, 1, 0, 3, 0, 0])"
      ]
     },
     "execution_count": 42,
     "metadata": {},
     "output_type": "execute_result"
    }
   ],
   "source": [
    "# replace all values greter than 5 with 0\n",
    "\n",
    "np.where(a>5,0,a)"
   ]
  },
  {
   "cell_type": "markdown",
   "id": "301a61d2-d6d4-4c37-8de4-bc04ead4ee88",
   "metadata": {},
   "source": [
    "### np.argmax\n",
    "\n",
    "The np.argmax() function returns indeces of the max element of the array in a particular axis"
   ]
  },
  {
   "cell_type": "code",
   "execution_count": 43,
   "id": "f30c4d04-3b1d-4dbf-980e-e7453cb8c62d",
   "metadata": {},
   "outputs": [
    {
     "data": {
      "text/plain": [
       "array([2, 2, 6, 9, 5, 6, 5, 7, 3, 8, 1, 8, 3, 7, 6])"
      ]
     },
     "execution_count": 43,
     "metadata": {},
     "output_type": "execute_result"
    }
   ],
   "source": [
    "a "
   ]
  },
  {
   "cell_type": "code",
   "execution_count": 44,
   "id": "ec7945a1-401b-4951-9030-7d52fd3c3e9f",
   "metadata": {},
   "outputs": [
    {
     "data": {
      "text/plain": [
       "np.int64(3)"
      ]
     },
     "execution_count": 44,
     "metadata": {},
     "output_type": "execute_result"
    }
   ],
   "source": [
    "np.argmax(a)"
   ]
  },
  {
   "cell_type": "markdown",
   "id": "12942a6b-26c3-4b8d-9197-7807b2e8fe3b",
   "metadata": {},
   "source": [
    "### np.argmax\n",
    "\n",
    "The np.argmin() function returns indeces of the min element of the array in a particular axis"
   ]
  },
  {
   "cell_type": "code",
   "execution_count": 45,
   "id": "1f12866d-16ba-479c-96ff-bb5b6dbaa712",
   "metadata": {},
   "outputs": [
    {
     "data": {
      "text/plain": [
       "array([2, 2, 6, 9, 5, 6, 5, 7, 3, 8, 1, 8, 3, 7, 6])"
      ]
     },
     "execution_count": 45,
     "metadata": {},
     "output_type": "execute_result"
    }
   ],
   "source": [
    "a"
   ]
  },
  {
   "cell_type": "code",
   "execution_count": 46,
   "id": "2b2db9ec-6e3e-4e2b-b7e4-7ebe2e8d0c29",
   "metadata": {},
   "outputs": [
    {
     "data": {
      "text/plain": [
       "np.int64(10)"
      ]
     },
     "execution_count": 46,
     "metadata": {},
     "output_type": "execute_result"
    }
   ],
   "source": [
    "np.argmin(a)"
   ]
  },
  {
   "cell_type": "markdown",
   "id": "ee3f8137-fa37-4027-a1c1-b1235c2971fd",
   "metadata": {},
   "source": [
    "### np.cumsum()\n",
    "\n",
    "np.cumsum() fuction is used when we want to computer the cumulative sum of an array over the given axis\n"
   ]
  },
  {
   "cell_type": "code",
   "execution_count": 47,
   "id": "c2d4d028-a092-4b7b-aaaf-82d48d55022e",
   "metadata": {},
   "outputs": [
    {
     "data": {
      "text/plain": [
       "array([2, 2, 6, 9, 5, 6, 5, 7, 3, 8, 1, 8, 3, 7, 6])"
      ]
     },
     "execution_count": 47,
     "metadata": {},
     "output_type": "execute_result"
    }
   ],
   "source": [
    "a "
   ]
  },
  {
   "cell_type": "code",
   "execution_count": 50,
   "id": "bc96b791-5e50-4382-84a5-67c10e4fcbc2",
   "metadata": {},
   "outputs": [
    {
     "data": {
      "text/plain": [
       "array([ 2,  4, 10, 19, 24, 30, 35, 42, 45, 53, 54, 62, 65, 72, 78])"
      ]
     },
     "execution_count": 50,
     "metadata": {},
     "output_type": "execute_result"
    }
   ],
   "source": [
    "np.cumsum(a)"
   ]
  },
  {
   "cell_type": "markdown",
   "id": "b751c6a0-92dc-44d2-b094-3c14262196d7",
   "metadata": {},
   "source": [
    "### np.percentile\n",
    "\n",
    "np.percentile() function used to computer the nth percentile of the data along the specified axis"
   ]
  },
  {
   "cell_type": "code",
   "execution_count": 53,
   "id": "d0751e08-2a13-4cef-9e60-0ce4e9b31fae",
   "metadata": {},
   "outputs": [
    {
     "data": {
      "text/plain": [
       "array([2, 2, 6, 9, 5, 6, 5, 7, 3, 8, 1, 8, 3, 7, 6])"
      ]
     },
     "execution_count": 53,
     "metadata": {},
     "output_type": "execute_result"
    }
   ],
   "source": [
    "a"
   ]
  },
  {
   "cell_type": "code",
   "execution_count": 54,
   "id": "635a1fc6-cef4-42a9-89a5-3487d1d82a60",
   "metadata": {},
   "outputs": [
    {
     "data": {
      "text/plain": [
       "np.float64(9.0)"
      ]
     },
     "execution_count": 54,
     "metadata": {},
     "output_type": "execute_result"
    }
   ],
   "source": [
    "np.percentile(a,100)"
   ]
  },
  {
   "cell_type": "markdown",
   "id": "f995abb7-bc87-45a0-8736-e8aa452a6f41",
   "metadata": {},
   "source": [
    "### np.histogram\n",
    "Numpy has a built in numpy histogram function which represent the frequence of data distribution in graphical form "
   ]
  },
  {
   "cell_type": "code",
   "execution_count": 56,
   "id": "d6d72728-d4c6-41cb-abf5-46e844e3a0f4",
   "metadata": {},
   "outputs": [
    {
     "data": {
      "text/plain": [
       "(array([1, 2, 2, 0, 0, 2, 3, 2, 2, 1]),\n",
       " array([1. , 1.8, 2.6, 3.4, 4.2, 5. , 5.8, 6.6, 7.4, 8.2, 9. ]))"
      ]
     },
     "execution_count": 56,
     "metadata": {},
     "output_type": "execute_result"
    }
   ],
   "source": [
    "np.histogram(a)"
   ]
  },
  {
   "cell_type": "markdown",
   "id": "ec418e64-9a51-4ff1-abe5-6eae41026cf7",
   "metadata": {},
   "source": [
    "### np.corrcoef\n",
    "\n",
    "Returns Person product moment correlation coefficients"
   ]
  },
  {
   "cell_type": "code",
   "execution_count": 57,
   "id": "ab6dd961-cf38-40bf-b5eb-d1af0df16631",
   "metadata": {},
   "outputs": [
    {
     "data": {
      "text/plain": [
       "array([[1.        , 0.97862901],\n",
       "       [0.97862901, 1.        ]])"
      ]
     },
     "execution_count": 57,
     "metadata": {},
     "output_type": "execute_result"
    }
   ],
   "source": [
    "salary = np.array([20000, 40000, 25000, 60000])\n",
    "experience = np.array([1,2,1.5,4])\n",
    "\n",
    "np.corrcoef((salary,experience))"
   ]
  },
  {
   "cell_type": "markdown",
   "id": "0dcd948d-55bf-411f-b506-ed88f2f01a49",
   "metadata": {},
   "source": [
    "### np.isin\n",
    "\n",
    "with the help of numpy.isin() function, we can see that one array having values are checked in a different numpy array having different element with different sizes"
   ]
  },
  {
   "cell_type": "code",
   "execution_count": 58,
   "id": "6ef2069e-cf78-4e18-80d7-e4c7f8c2e218",
   "metadata": {},
   "outputs": [
    {
     "data": {
      "text/plain": [
       "array([2, 2, 6, 9, 5, 6, 5, 7, 3, 8, 1, 8, 3, 7, 6])"
      ]
     },
     "execution_count": 58,
     "metadata": {},
     "output_type": "execute_result"
    }
   ],
   "source": [
    "a"
   ]
  },
  {
   "cell_type": "code",
   "execution_count": 60,
   "id": "86202477-7af5-4cb2-9d18-ddde0f7dfa4e",
   "metadata": {},
   "outputs": [
    {
     "data": {
      "text/plain": [
       "array(True)"
      ]
     },
     "execution_count": 60,
     "metadata": {},
     "output_type": "execute_result"
    }
   ],
   "source": [
    "np.isin(5,a)"
   ]
  },
  {
   "cell_type": "markdown",
   "id": "202a9a6a-f99d-4b1c-94d4-c617cb37f38b",
   "metadata": {},
   "source": [
    "### np.flip\n",
    "\n",
    "The numpy.filp() function reverse the order of array element along the specified axis preserving the shape of the array. "
   ]
  },
  {
   "cell_type": "code",
   "execution_count": 61,
   "id": "b9cec6b4-ad48-4bce-88dc-61e499d9b698",
   "metadata": {},
   "outputs": [
    {
     "data": {
      "text/plain": [
       "array([2, 2, 6, 9, 5, 6, 5, 7, 3, 8, 1, 8, 3, 7, 6])"
      ]
     },
     "execution_count": 61,
     "metadata": {},
     "output_type": "execute_result"
    }
   ],
   "source": [
    "a"
   ]
  },
  {
   "cell_type": "code",
   "execution_count": 62,
   "id": "4b14bf36-4dc2-41d4-bbf8-e14845a39bf0",
   "metadata": {},
   "outputs": [
    {
     "data": {
      "text/plain": [
       "array([6, 7, 3, 8, 1, 8, 3, 7, 5, 6, 5, 9, 6, 2, 2])"
      ]
     },
     "execution_count": 62,
     "metadata": {},
     "output_type": "execute_result"
    }
   ],
   "source": [
    "np.flip(a)"
   ]
  },
  {
   "cell_type": "markdown",
   "id": "5c0bfcc5-9e1e-4aef-8251-3c14be134715",
   "metadata": {},
   "source": [
    "### np.put\n",
    "The np.put() function replaces specific element of an array given values of p_array. Array index works on flattended array."
   ]
  },
  {
   "cell_type": "code",
   "execution_count": 63,
   "id": "109aa6fc-e868-435d-8230-9bdcf56caa9c",
   "metadata": {},
   "outputs": [
    {
     "data": {
      "text/plain": [
       "array([2, 2, 6, 9, 5, 6, 5, 7, 3, 8, 1, 8, 3, 7, 6])"
      ]
     },
     "execution_count": 63,
     "metadata": {},
     "output_type": "execute_result"
    }
   ],
   "source": [
    "a"
   ]
  },
  {
   "cell_type": "code",
   "execution_count": 68,
   "id": "50996eba-0b43-4550-9ad2-645203c471e6",
   "metadata": {},
   "outputs": [],
   "source": [
    "np.put(a,0,100) # we can change multiple items using list np.put(a,[old values],[new values])"
   ]
  },
  {
   "cell_type": "code",
   "execution_count": 69,
   "id": "c03ecfe2-44ed-461c-918d-acdafa0076e7",
   "metadata": {},
   "outputs": [
    {
     "data": {
      "text/plain": [
       "array([100,   2,   6,   9,   5,   6,   5,   7,   3,   8,   1,   8,   3,\n",
       "         7,   6])"
      ]
     },
     "execution_count": 69,
     "metadata": {},
     "output_type": "execute_result"
    }
   ],
   "source": [
    "a"
   ]
  },
  {
   "cell_type": "markdown",
   "id": "fa9dd1dc-59b2-4019-a524-7e568f22a8b6",
   "metadata": {},
   "source": [
    "### np.delete\n",
    "The numpy.delete() functions returns a new array wit the deletion of sub arays along  wuth the mentioned axis\n"
   ]
  },
  {
   "cell_type": "code",
   "execution_count": 70,
   "id": "f65a6c9f-d265-41c9-9d80-6040623cb242",
   "metadata": {},
   "outputs": [
    {
     "data": {
      "text/plain": [
       "array([100,   2,   6,   9,   5,   6,   5,   7,   3,   8,   1,   8,   3,\n",
       "         7,   6])"
      ]
     },
     "execution_count": 70,
     "metadata": {},
     "output_type": "execute_result"
    }
   ],
   "source": [
    "a"
   ]
  },
  {
   "cell_type": "code",
   "execution_count": 71,
   "id": "b776aee2-a8aa-4104-9263-c85c651d7b8c",
   "metadata": {},
   "outputs": [
    {
     "data": {
      "text/plain": [
       "array([2, 6, 9, 5, 6, 5, 7, 3, 8, 1, 8, 3, 7, 6])"
      ]
     },
     "execution_count": 71,
     "metadata": {},
     "output_type": "execute_result"
    }
   ],
   "source": [
    "np.delete(a,0)"
   ]
  },
  {
   "cell_type": "markdown",
   "id": "259135d6-515d-4aed-9f92-d45a4e532f26",
   "metadata": {},
   "source": [
    "### Set functions\n",
    "- np.union1d\n",
    "- np.intersection1d\n",
    "- np.setdiff1\n",
    "- np.setxor1d\n",
    "- np.isin"
   ]
  },
  {
   "cell_type": "code",
   "execution_count": 73,
   "id": "41b759c5-4b27-4a9a-94bb-7a7f3e9f4f70",
   "metadata": {},
   "outputs": [
    {
     "data": {
      "text/plain": [
       "array([1, 2, 3, 4, 5, 6, 7])"
      ]
     },
     "execution_count": 73,
     "metadata": {},
     "output_type": "execute_result"
    }
   ],
   "source": [
    "m = np.array([1,2,3,4,5])\n",
    "n = np.array([3,4,5,6,7])\n",
    "\n",
    "np.union1d(m,n)"
   ]
  },
  {
   "cell_type": "code",
   "execution_count": 74,
   "id": "0ce9c952-b5e9-4857-868e-f40e93b473d2",
   "metadata": {},
   "outputs": [
    {
     "data": {
      "text/plain": [
       "array([3, 4, 5])"
      ]
     },
     "execution_count": 74,
     "metadata": {},
     "output_type": "execute_result"
    }
   ],
   "source": [
    "np.intersect1d(m,n)"
   ]
  },
  {
   "cell_type": "code",
   "execution_count": 75,
   "id": "f7174389-83be-4317-aa00-fe763e7d9e67",
   "metadata": {},
   "outputs": [
    {
     "data": {
      "text/plain": [
       "array([1, 2])"
      ]
     },
     "execution_count": 75,
     "metadata": {},
     "output_type": "execute_result"
    }
   ],
   "source": [
    "np.setdiff1d(m,n)"
   ]
  },
  {
   "cell_type": "code",
   "execution_count": 76,
   "id": "6d08ac3c-2d9b-434d-8b0b-2c084c4dbff5",
   "metadata": {},
   "outputs": [
    {
     "data": {
      "text/plain": [
       "array([1, 2, 6, 7])"
      ]
     },
     "execution_count": 76,
     "metadata": {},
     "output_type": "execute_result"
    }
   ],
   "source": [
    "np.setxor1d(m,n)"
   ]
  },
  {
   "cell_type": "code",
   "execution_count": 79,
   "id": "9c4dc3d2-900c-4bfb-bd85-3f7a66cda3f4",
   "metadata": {},
   "outputs": [
    {
     "data": {
      "text/plain": [
       "array([False, False,  True,  True,  True])"
      ]
     },
     "execution_count": 79,
     "metadata": {},
     "output_type": "execute_result"
    }
   ],
   "source": [
    "np.isin(m,n)"
   ]
  },
  {
   "cell_type": "markdown",
   "id": "4ff3cc9c-6ab2-4ac1-8971-5198f32fd7a6",
   "metadata": {},
   "source": [
    "### np.clip\n",
    "numpy.clip() fuction is used to clip the values in an array "
   ]
  },
  {
   "cell_type": "code",
   "execution_count": 81,
   "id": "d8d7444c-d513-48b1-8308-722ea771c10d",
   "metadata": {},
   "outputs": [
    {
     "data": {
      "text/plain": [
       "array([10,  2,  6,  9,  5,  6,  5,  7,  3,  8,  1,  8,  3,  7,  6])"
      ]
     },
     "execution_count": 81,
     "metadata": {},
     "output_type": "execute_result"
    }
   ],
   "source": [
    "np.clip(a,1,10)"
   ]
  }
 ],
 "metadata": {
  "kernelspec": {
   "display_name": "Python 3 (ipykernel)",
   "language": "python",
   "name": "python3"
  },
  "language_info": {
   "codemirror_mode": {
    "name": "ipython",
    "version": 3
   },
   "file_extension": ".py",
   "mimetype": "text/x-python",
   "name": "python",
   "nbconvert_exporter": "python",
   "pygments_lexer": "ipython3",
   "version": "3.13.5"
  }
 },
 "nbformat": 4,
 "nbformat_minor": 5
}
