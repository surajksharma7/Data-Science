{
 "cells": [
  {
   "cell_type": "code",
   "execution_count": null,
   "id": "df3e6c0a-f44f-43b6-a67c-65d731858a70",
   "metadata": {},
   "outputs": [],
   "source": []
  }
 ],
 "metadata": {
  "kernelspec": {
   "display_name": "",
   "name": ""
  },
  "language_info": {
   "name": ""
  }
 },
 "nbformat": 4,
 "nbformat_minor": 5
}
