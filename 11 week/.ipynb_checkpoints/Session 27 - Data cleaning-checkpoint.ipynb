{
 "cells": [
  {
   "cell_type": "markdown",
   "id": "0a2e5f28-6741-4a41-8382-459619fb83f7",
   "metadata": {},
   "source": [
    "# What is Data Analysis\n",
    "- Data analysis is the ptocess of inspecting, cleansing, transforming and modelling data with the goal of discovering useful information, informing conclusions and supporting descision making"
   ]
  },
  {
   "cell_type": "markdown",
   "id": "4abf5d9c-f699-4354-8835-1a42bfbe0bfa",
   "metadata": {},
   "source": [
    "# Data Analysis Process \n",
    "- Asking Questions \n",
    "- Data Wrangling \n",
    "- Exploratory Data Analysis \n",
    "- Drawing conclusion \n",
    "- Communicating results"
   ]
  },
  {
   "cell_type": "markdown",
   "id": "33ef38b0-8a1a-47a5-b9f7-e008aeebef17",
   "metadata": {},
   "source": [
    "## Step 1: Asking Questions\n",
    "- What features will contribute to my analysis ?\n",
    "- What features are not important in my analysis ?\n",
    "- Which of the features have a strong conclusion ?\n",
    "- Do i need data preprocessing ?\n",
    "- What kind of features manipulation / engineering is required ?\n",
    "\n",
    "### how to ask better question\n",
    "- System matter expert\n",
    "- Experience"
   ]
  },
  {
   "cell_type": "markdown",
   "id": "4b7440b6-106a-4ace-9394-cd883f0a4882",
   "metadata": {},
   "source": [
    "## Step 2: Data Wrangling\n",
    "\n",
    "Data Wrangling, Sometimes reffered to as data munging, is the process of transforming and mapping data from one \"raw\" data form into another format with the intent of making it more appropriae and valuable for a variety of downstream purpose such as analytics.\n",
    "\n",
    "- Gathering data\n",
    "    - Csv files\n",
    "    - API\n",
    "    - Web scrapping\n",
    "    - Database\n",
    "\n",
    "- Assessing Data\n",
    "    - Finding the number of rows/ columns(Shape)\n",
    "    - Datatypes of various columns(info())\n",
    "    - Checking for missing values(info())\n",
    "    - check for duplicate data (is_unique())\n",
    "    - memory occupied by the dataset(info)\n",
    "    - High level mathematical overview of the data(describe)\n",
    "\n",
    "- Cleaning Data\n",
    "    - Missing Data (eg. mean)\n",
    "    - Remove duplicate data (drop_duplicates)\n",
    "    - Incorrect data type(astype)"
   ]
  },
  {
   "cell_type": "markdown",
   "id": "cc9080c8-4a43-43b6-9204-7e5429fd04ef",
   "metadata": {},
   "source": [
    "## Step 3: Exploratory Data Analysis\n",
    "\n",
    "- Explore\n",
    "  - Finding correlation and covariance\n",
    "  - Doing univariate and mulitvariate analysis\n",
    "  - plotting graphs \n",
    "- Augment\n",
    "  - Removing outliers\n",
    "  - Merging DataFrames\n",
    "  - Adding new columns\n",
    "\n",
    "These Operations are collectively called as feature engineering"
   ]
  },
  {
   "cell_type": "markdown",
   "id": "cf12c12c-b886-4baf-86ae-cb2911620593",
   "metadata": {},
   "source": [
    "## Step 4: Drawing conclusion\n",
    "- Machine learning\n",
    "- Inferential statics\n",
    "- Descriptive Statics\n",
    "\n",
    "### Some example conclusion based on Descriptive Statics \n",
    "- Is rohit sharma a better batsman in 2nd innings\n",
    "- Does being a female increases your chance of survival\n",
    "- Is Delhi the most costly place for eating out "
   ]
  },
  {
   "cell_type": "markdown",
   "id": "b3e97915-30b2-4be6-8735-efdd5b71e819",
   "metadata": {},
   "source": [
    "## Step 5: Communicating result / Data Stroy telling\n",
    "- In person\n",
    "- Reports\n",
    "- Blog Post\n",
    "- PPts/Slide decks"
   ]
  },
  {
   "cell_type": "markdown",
   "id": "34a969c2-bf0d-4931-b495-ff32f8e24943",
   "metadata": {},
   "source": [
    "### This process are not linear and not necessary "
   ]
  },
  {
   "cell_type": "code",
   "execution_count": null,
   "id": "e5d960ea-817d-459d-94a3-a97dff6cedc7",
   "metadata": {},
   "outputs": [],
   "source": []
  },
  {
   "cell_type": "code",
   "execution_count": null,
   "id": "b00a2dd1-0433-4750-97f4-fcb218c7ce22",
   "metadata": {},
   "outputs": [],
   "source": []
  }
 ],
 "metadata": {
  "kernelspec": {
   "display_name": "Python 3 (ipykernel)",
   "language": "python",
   "name": "python3"
  },
  "language_info": {
   "codemirror_mode": {
    "name": "ipython",
    "version": 3
   },
   "file_extension": ".py",
   "mimetype": "text/x-python",
   "name": "python",
   "nbconvert_exporter": "python",
   "pygments_lexer": "ipython3",
   "version": "3.13.5"
  }
 },
 "nbformat": 4,
 "nbformat_minor": 5
}
