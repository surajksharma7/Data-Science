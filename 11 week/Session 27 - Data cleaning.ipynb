{
 "cells": [
  {
   "cell_type": "markdown",
   "id": "4abf5d9c-f699-4354-8835-1a42bfbe0bfa",
   "metadata": {},
   "source": [
    "# Data Analysis Process \n",
    "- Asking Questions \n",
    "- Data Wrangling \n",
    "- Exploratory Data Analysis \n",
    "- Drawing conclusion \n",
    "- Communicating results"
   ]
  },
  {
   "cell_type": "markdown",
   "id": "33ef38b0-8a1a-47a5-b9f7-e008aeebef17",
   "metadata": {},
   "source": [
    "## Step 1: Asking Questions\n",
    "- What features will contribute to my analysis ?\n",
    "- What features are not important in my analysis ?\n",
    "- Which of the features have a strong conclusion ?\n",
    "- Do i need data preprocessing ?\n",
    "- What kind of features manipulation / engineering is required ?"
   ]
  },
  {
   "cell_type": "code",
   "execution_count": null,
   "id": "7fff10b3-8b69-47b2-ad4b-c4381f08df4b",
   "metadata": {},
   "outputs": [],
   "source": []
  }
 ],
 "metadata": {
  "kernelspec": {
   "display_name": "Python 3 (ipykernel)",
   "language": "python",
   "name": "python3"
  },
  "language_info": {
   "codemirror_mode": {
    "name": "ipython",
    "version": 3
   },
   "file_extension": ".py",
   "mimetype": "text/x-python",
   "name": "python",
   "nbconvert_exporter": "python",
   "pygments_lexer": "ipython3",
   "version": "3.13.5"
  }
 },
 "nbformat": 4,
 "nbformat_minor": 5
}
