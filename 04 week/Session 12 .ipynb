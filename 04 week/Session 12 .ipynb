{
 "cells": [
  {
   "cell_type": "markdown",
   "id": "c1fbd7de-1b34-428f-84f6-a031d59aad69",
   "metadata": {},
   "source": [
    "### Namespaces \n",
    "\n",
    "- A namespaces is a space that holds name(identifiers). Programatically speaking, namespaces are dictionary of identifiers and their objects\n",
    "\n",
    "There are 4 Types of namespaces:\n",
    "\n",
    "- Builtin Namespace\n",
    "- Golbal Namespace\n",
    "- Enclosing Namespaces\n",
    "- Local Namespace\n",
    "\n",
    "\n",
    "### Scope and LEGB rule\n",
    "- A scope is a textual region of a python program where a namespace is directly accessible. The interpreter searches for a name from the inside out, looking in the local, enclosing, global, and finally the bulit-in scope. if the interpreter doesnot find the name in any of these locations, then python raises a NameError exception"
   ]
  },
  {
   "cell_type": "code",
   "execution_count": 2,
   "id": "f2423279-ab88-4d0f-aa8e-9dd716d27b9a",
   "metadata": {},
   "outputs": [
    {
     "name": "stdout",
     "output_type": "stream",
     "text": [
      "3\n",
      "2\n"
     ]
    }
   ],
   "source": [
    "# local and global -> same name\n",
    "a = 2\n",
    "def temp():\n",
    "    a = 3\n",
    "    print(a)\n",
    "temp()\n",
    "print(a)"
   ]
  },
  {
   "cell_type": "code",
   "execution_count": 4,
   "id": "7ffd4178-6eba-46c6-bb81-b46f0875ddec",
   "metadata": {},
   "outputs": [
    {
     "name": "stdout",
     "output_type": "stream",
     "text": [
      "2\n",
      "2\n"
     ]
    }
   ],
   "source": [
    "a = 2 \n",
    "def temp():\n",
    "    print(a)\n",
    "temp()\n",
    "print(a)"
   ]
  },
  {
   "cell_type": "code",
   "execution_count": 6,
   "id": "37071e8e-5cc8-474b-80e7-1fb2bf95f191",
   "metadata": {},
   "outputs": [
    {
     "ename": "UnboundLocalError",
     "evalue": "cannot access local variable 'a' where it is not associated with a value",
     "output_type": "error",
     "traceback": [
      "\u001b[0;31m---------------------------------------------------------------------------\u001b[0m",
      "\u001b[0;31mUnboundLocalError\u001b[0m                         Traceback (most recent call last)",
      "Cell \u001b[0;32mIn[6], line 7\u001b[0m\n\u001b[1;32m      5\u001b[0m     a\u001b[38;5;241m+\u001b[39m\u001b[38;5;241m=\u001b[39m \u001b[38;5;241m1\u001b[39m\n\u001b[1;32m      6\u001b[0m     \u001b[38;5;28mprint\u001b[39m(a)\n\u001b[0;32m----> 7\u001b[0m temp()\n\u001b[1;32m      8\u001b[0m \u001b[38;5;28mprint\u001b[39m(a)\n",
      "Cell \u001b[0;32mIn[6], line 5\u001b[0m, in \u001b[0;36mtemp\u001b[0;34m()\u001b[0m\n\u001b[1;32m      4\u001b[0m \u001b[38;5;28;01mdef\u001b[39;00m\u001b[38;5;250m \u001b[39m\u001b[38;5;21mtemp\u001b[39m():\n\u001b[0;32m----> 5\u001b[0m     a\u001b[38;5;241m+\u001b[39m\u001b[38;5;241m=\u001b[39m \u001b[38;5;241m1\u001b[39m\n\u001b[1;32m      6\u001b[0m     \u001b[38;5;28mprint\u001b[39m(a)\n",
      "\u001b[0;31mUnboundLocalError\u001b[0m: cannot access local variable 'a' where it is not associated with a value"
     ]
    }
   ],
   "source": [
    "# local and global -> editing variable \n",
    "a = 2\n",
    "\n",
    "def temp():\n",
    "    a+= 1\n",
    "    print(a)\n",
    "temp()\n",
    "print(a) # python does not allow editing in global variable normally"
   ]
  },
  {
   "cell_type": "code",
   "execution_count": 7,
   "id": "3ede6803-849e-43cd-8ae6-ac30d0b95539",
   "metadata": {},
   "outputs": [
    {
     "name": "stdout",
     "output_type": "stream",
     "text": [
      "3\n",
      "3\n"
     ]
    }
   ],
   "source": [
    "# local and global -> editing variable \n",
    "a = 2\n",
    "\n",
    "def temp():\n",
    "    global a\n",
    "    a+= 1\n",
    "    print(a)\n",
    "temp()\n",
    "print(a) "
   ]
  },
  {
   "cell_type": "code",
   "execution_count": 9,
   "id": "f7ceda96-6cf8-4a00-af61-4b3f4385c8e6",
   "metadata": {},
   "outputs": [
    {
     "name": "stdout",
     "output_type": "stream",
     "text": [
      "1\n",
      "1\n"
     ]
    }
   ],
   "source": [
    "a = 2\n",
    "\n",
    "def temp():\n",
    "    global a \n",
    "    a =1\n",
    "    print(a)\n",
    "temp()\n",
    "print(a) "
   ]
  },
  {
   "cell_type": "code",
   "execution_count": 11,
   "id": "d8dd918d-a4b8-4810-b3a2-fce33ab02bdd",
   "metadata": {},
   "outputs": [
    {
     "name": "stdout",
     "output_type": "stream",
     "text": [
      "5\n",
      "5\n"
     ]
    }
   ],
   "source": [
    "# local and global  -> function parameter is local\n",
    "\n",
    "def temp(z):\n",
    "    print(z)\n",
    "\n",
    "a = 5\n",
    "temp(a)\n",
    "print(a)"
   ]
  },
  {
   "cell_type": "code",
   "execution_count": 1,
   "id": "d2cb0cb6-0577-4fb3-ab05-30b8bdcb7b98",
   "metadata": {},
   "outputs": [
    {
     "name": "stdout",
     "output_type": "stream",
     "text": [
      "hello\n"
     ]
    }
   ],
   "source": [
    "# built in scope\n",
    "print(\"hello\") # all the function which is available for in general use"
   ]
  },
  {
   "cell_type": "code",
   "execution_count": 4,
   "id": "bd486a56-38d6-4700-969b-934ea504f0f5",
   "metadata": {},
   "outputs": [
    {
     "name": "stdout",
     "output_type": "stream",
     "text": [
      "['ArithmeticError', 'AssertionError', 'AttributeError', 'BaseException', 'BaseExceptionGroup', 'BlockingIOError', 'BrokenPipeError', 'BufferError', 'BytesWarning', 'ChildProcessError', 'ConnectionAbortedError', 'ConnectionError', 'ConnectionRefusedError', 'ConnectionResetError', 'DeprecationWarning', 'EOFError', 'Ellipsis', 'EncodingWarning', 'EnvironmentError', 'Exception', 'ExceptionGroup', 'False', 'FileExistsError', 'FileNotFoundError', 'FloatingPointError', 'FutureWarning', 'GeneratorExit', 'IOError', 'ImportError', 'ImportWarning', 'IndentationError', 'IndexError', 'InterruptedError', 'IsADirectoryError', 'KeyError', 'KeyboardInterrupt', 'LookupError', 'MemoryError', 'ModuleNotFoundError', 'NameError', 'None', 'NotADirectoryError', 'NotImplemented', 'NotImplementedError', 'OSError', 'OverflowError', 'PendingDeprecationWarning', 'PermissionError', 'ProcessLookupError', 'PythonFinalizationError', 'RecursionError', 'ReferenceError', 'ResourceWarning', 'RuntimeError', 'RuntimeWarning', 'StopAsyncIteration', 'StopIteration', 'SyntaxError', 'SyntaxWarning', 'SystemError', 'SystemExit', 'TabError', 'TimeoutError', 'True', 'TypeError', 'UnboundLocalError', 'UnicodeDecodeError', 'UnicodeEncodeError', 'UnicodeError', 'UnicodeTranslateError', 'UnicodeWarning', 'UserWarning', 'ValueError', 'Warning', 'ZeroDivisionError', '_IncompleteInputError', '__IPYTHON__', '__build_class__', '__debug__', '__doc__', '__import__', '__loader__', '__name__', '__package__', '__spec__', 'abs', 'aiter', 'all', 'anext', 'any', 'ascii', 'bin', 'bool', 'breakpoint', 'bytearray', 'bytes', 'callable', 'chr', 'classmethod', 'compile', 'complex', 'copyright', 'credits', 'delattr', 'dict', 'dir', 'display', 'divmod', 'enumerate', 'eval', 'exec', 'execfile', 'filter', 'float', 'format', 'frozenset', 'get_ipython', 'getattr', 'globals', 'hasattr', 'hash', 'help', 'hex', 'id', 'input', 'int', 'isinstance', 'issubclass', 'iter', 'len', 'license', 'list', 'locals', 'map', 'max', 'memoryview', 'min', 'next', 'object', 'oct', 'open', 'ord', 'pow', 'print', 'property', 'range', 'repr', 'reversed', 'round', 'runfile', 'set', 'setattr', 'slice', 'sorted', 'staticmethod', 'str', 'sum', 'super', 'tuple', 'type', 'vars', 'zip']\n"
     ]
    }
   ],
   "source": [
    "import builtins\n",
    "print(dir(builtins))"
   ]
  },
  {
   "cell_type": "code",
   "execution_count": 9,
   "id": "4cd4e368-dc8f-454c-b986-a0197ebc8f4a",
   "metadata": {},
   "outputs": [
    {
     "name": "stdout",
     "output_type": "stream",
     "text": [
      "hello\n"
     ]
    }
   ],
   "source": [
    "# renaming the builtins\n",
    "L = [1,2,3]\n",
    "\n",
    "def max():\n",
    "    print(\"hello\")\n",
    "max()"
   ]
  },
  {
   "cell_type": "code",
   "execution_count": 10,
   "id": "7c6c7a48-3dbc-46e8-8e9c-59afcc415f7a",
   "metadata": {},
   "outputs": [
    {
     "name": "stdout",
     "output_type": "stream",
     "text": [
      "inner function\n",
      "outer function\n",
      "main program\n"
     ]
    }
   ],
   "source": [
    "# enclosing scope\n",
    "\n",
    "def outer():\n",
    "    def inner():\n",
    "        print(\"inner function\")\n",
    "    inner()\n",
    "    print(\"outer function\")\n",
    "outer()\n",
    "print(\"main program\")"
   ]
  },
  {
   "cell_type": "markdown",
   "id": "caae56e7-e48f-4d31-89c1-2e0748729c91",
   "metadata": {},
   "source": [
    "### Decorators\n",
    "A Decorators in python is a function that recieves another function as inputs and adds some functionality decoration to and it and returns it\n",
    "\n",
    "This can happen only because python function are first class citizens \n",
    "\n",
    "There are 2 types of decorators available in python \n",
    "\n",
    "- Built in decorators like @staticmethod, @classmethod, @abstractmethod and @property etc\n",
    "- user defined decorators that we programmers can create according to our needs"
   ]
  },
  {
   "cell_type": "code",
   "execution_count": 14,
   "id": "213bb3c2-6308-4a75-b8a6-d03004e850f9",
   "metadata": {},
   "outputs": [
    {
     "name": "stdout",
     "output_type": "stream",
     "text": [
      "hello\n"
     ]
    }
   ],
   "source": [
    "def func():\n",
    "    print(\"hello\")\n",
    "a = func\n",
    "a()"
   ]
  },
  {
   "cell_type": "code",
   "execution_count": 15,
   "id": "24997e80-fc96-4f91-9bee-bab3729d1b04",
   "metadata": {},
   "outputs": [
    {
     "data": {
      "text/plain": [
       "4"
      ]
     },
     "execution_count": 15,
     "metadata": {},
     "output_type": "execute_result"
    }
   ],
   "source": [
    "def modify(func, num):\n",
    "    return func(num)\n",
    "\n",
    "def square(num):\n",
    "    return num**2\n",
    "\n",
    "modify(square,2)"
   ]
  },
  {
   "cell_type": "code",
   "execution_count": 20,
   "id": "5a463c16-723f-48e6-8bd5-babc119f99d6",
   "metadata": {},
   "outputs": [
    {
     "name": "stdout",
     "output_type": "stream",
     "text": [
      "----------------------\n",
      "hello\n",
      "----------------------\n",
      "----------------------\n",
      "hello suraj\n",
      "----------------------\n"
     ]
    }
   ],
   "source": [
    "# simple example\n",
    "\n",
    "def myDec(func):\n",
    "    def wrapper():\n",
    "        print(\"----------------------\")\n",
    "        func()\n",
    "        print(\"----------------------\")\n",
    "    return wrapper\n",
    "\n",
    "def hello():\n",
    "    print('hello')\n",
    "\n",
    "def display():\n",
    "    print(\"hello suraj\")\n",
    "a = myDec(hello)\n",
    "a()\n",
    "\n",
    "b = myDec(display)\n",
    "b()"
   ]
  },
  {
   "cell_type": "code",
   "execution_count": 22,
   "id": "7705df14-ed1d-4317-9f50-7dd1c1b01239",
   "metadata": {},
   "outputs": [
    {
     "name": "stdout",
     "output_type": "stream",
     "text": [
      "----------------------\n",
      "hello\n",
      "----------------------\n"
     ]
    }
   ],
   "source": [
    "def myDec(func):\n",
    "    def wrapper():\n",
    "        print(\"----------------------\")\n",
    "        func()\n",
    "        print(\"----------------------\")\n",
    "    return wrapper\n",
    "\n",
    "@myDec\n",
    "def hello():\n",
    "    print(\"hello\")\n",
    "    \n",
    "hello()"
   ]
  },
  {
   "cell_type": "code",
   "execution_count": 34,
   "id": "8b1c463b-f6fc-4ed1-9d2f-fb7420c8f47b",
   "metadata": {},
   "outputs": [
    {
     "name": "stdout",
     "output_type": "stream",
     "text": [
      "hello world\n",
      "2\n",
      "time taken by  hello 2.0005102157592773 secs\n"
     ]
    }
   ],
   "source": [
    "# anything meaningful \n",
    "import time\n",
    "def timer(func):\n",
    "    def wrapper(*args):\n",
    "        start = time.time()\n",
    "        func(*args)\n",
    "        print('time taken by ',func.__name__,time.time()-start,'secs')\n",
    "    return wrapper\n",
    "\n",
    "@timer\n",
    "def hello(num):\n",
    "    print('hello world')\n",
    "    time.sleep(2)\n",
    "    print(num)\n",
    "    \n",
    "\n",
    "hello(2)"
   ]
  },
  {
   "cell_type": "code",
   "execution_count": 41,
   "id": "0ece4e9c-be40-484c-ba1c-4dd134637b0a",
   "metadata": {},
   "outputs": [
    {
     "name": "stdout",
     "output_type": "stream",
     "text": [
      "4\n",
      "hello suraj\n"
     ]
    }
   ],
   "source": [
    "def sanity_check(data_type):\n",
    "  def outer_wrapper(func):\n",
    "    def inner_wrapper(*args):\n",
    "      if type(*args) == data_type:\n",
    "        func(*args)\n",
    "      else:\n",
    "        raise TypeError('Ye datatype nai chalega')\n",
    "    return inner_wrapper\n",
    "  return outer_wrapper\n",
    "\n",
    "@sanity_check(int)\n",
    "def square(num):\n",
    "  print(num**2)\n",
    "\n",
    "@sanity_check(str)\n",
    "def greet(name):\n",
    "  print('hello',name)\n",
    "\n",
    "square(2)\n",
    "greet('suraj')"
   ]
  }
 ],
 "metadata": {
  "kernelspec": {
   "display_name": "Python 3 (ipykernel)",
   "language": "python",
   "name": "python3"
  },
  "language_info": {
   "codemirror_mode": {
    "name": "ipython",
    "version": 3
   },
   "file_extension": ".py",
   "mimetype": "text/x-python",
   "name": "python",
   "nbconvert_exporter": "python",
   "pygments_lexer": "ipython3",
   "version": "3.13.5"
  }
 },
 "nbformat": 4,
 "nbformat_minor": 5
}
