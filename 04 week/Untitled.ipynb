{
 "cells": [
  {
   "cell_type": "code",
   "execution_count": 1,
   "id": "100dd065-6e88-4d5d-a803-2ce231aea193",
   "metadata": {},
   "outputs": [],
   "source": [
    "# what do you mean by __name__ == '__main__'"
   ]
  },
  {
   "cell_type": "markdown",
   "id": "116267c1-c5b8-4599-a291-d8b49b9e54c7",
   "metadata": {},
   "source": [
    "### What is module ?\n",
    "\n",
    "Whenever we execute a program its module name is __main__ and this name is stored in __name__ variable"
   ]
  },
  {
   "cell_type": "code",
   "execution_count": 2,
   "id": "e440bad3-2a0a-4e3f-814e-2714d32ff5bb",
   "metadata": {},
   "outputs": [
    {
     "name": "stdout",
     "output_type": "stream",
     "text": [
      "hello\n",
      "__main__\n"
     ]
    }
   ],
   "source": [
    "def display():\n",
    "    print(\"hello\")\n",
    "display()\n",
    "print(__name__)"
   ]
  },
  {
   "cell_type": "markdown",
   "id": "836043e8-090b-4dae-b161-790b03f50995",
   "metadata": {},
   "source": [
    "### Importing a module\n",
    "- But what is the need to import a module\n",
    "- How to import a module"
   ]
  },
  {
   "cell_type": "code",
   "execution_count": 8,
   "id": "56401cee-e9ee-4037-bd36-cae355e22d94",
   "metadata": {},
   "outputs": [],
   "source": [
    "import math"
   ]
  },
  {
   "cell_type": "markdown",
   "id": "ff245dc9-aaf6-444f-b248-52ae97961f7f",
   "metadata": {},
   "source": [
    "### What are packages in python\n",
    "\n",
    "A package in python is a dictionary contaning similar sub packages and modules.\n",
    "\n",
    "- A particular directory is treated as package if it has __init__.py file in it\n",
    "- A __init__.py file may be empty or contain some initilization code releated to packages"
   ]
  },
  {
   "cell_type": "code",
   "execution_count": null,
   "id": "3308c7eb-1a4a-4c9e-950a-3211251e7c0e",
   "metadata": {},
   "outputs": [],
   "source": []
  }
 ],
 "metadata": {
  "kernelspec": {
   "display_name": "Python 3 (ipykernel)",
   "language": "python",
   "name": "python3"
  },
  "language_info": {
   "codemirror_mode": {
    "name": "ipython",
    "version": 3
   },
   "file_extension": ".py",
   "mimetype": "text/x-python",
   "name": "python",
   "nbconvert_exporter": "python",
   "pygments_lexer": "ipython3",
   "version": "3.13.5"
  }
 },
 "nbformat": 4,
 "nbformat_minor": 5
}
