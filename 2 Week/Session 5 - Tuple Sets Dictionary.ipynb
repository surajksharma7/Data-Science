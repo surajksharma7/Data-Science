{
 "cells": [
  {
   "cell_type": "markdown",
   "id": "ebd5ad4a-2b6b-4940-803e-dca894de3dff",
   "metadata": {
    "jp-MarkdownHeadingCollapsed": true
   },
   "source": [
    "### Tuple\n",
    "\n",
    "A tuple in python is similar to a list. the difference between the two is that we cannot change the elements of a tuple once it is assigned whereas we can change the elements of a list\n",
    "\n",
    "In short, a tuple is an immutable list. A tuple can not be changed in any way once it is created \n",
    "\n",
    "#### characteristic\n",
    "- ordered\n",
    "- Unchangable\n",
    "- Allow duplicates\n",
    "\n",
    "#### Plan of attack \n",
    "- creating a tuples\n",
    "- Assessing items\n",
    "- Editing items\n",
    "- Adding items\n",
    "- Deleting items\n",
    "- operations on tuples\n",
    "- Tuple function"
   ]
  },
  {
   "cell_type": "markdown",
   "id": "e7c259df-05cb-4627-ad4c-55dd6785a555",
   "metadata": {},
   "source": [
    "### Creating a tuple"
   ]
  },
  {
   "cell_type": "code",
   "execution_count": 4,
   "id": "92f540b5-a0e7-4103-a6ac-6b2ef3b769bb",
   "metadata": {},
   "outputs": [],
   "source": [
    "# empty tuple\n",
    "t1 = ()\n",
    "\n",
    "# tuple with single item \n",
    "t2 = (2,)\n",
    "\n",
    "# homogenous tuples\n",
    "t3 = (1,2,4,5,6)\n",
    "\n",
    "# hetrogenous tuple \n",
    "t4 = (1,2,3,4,True,[1,2,3])\n",
    "\n",
    "# tuple inside tuple \n",
    "t5 = (1,2,3,(1,2,3,))\n",
    "\n",
    "# type conversion \n",
    "t6 = tuple(\"hello\")"
   ]
  },
  {
   "cell_type": "markdown",
   "id": "aa0ddf28-afdd-4c8e-81e1-8b0beb2a9126",
   "metadata": {},
   "source": [
    "### Access items\n",
    "- Indexing\n",
    "- slicing"
   ]
  },
  {
   "cell_type": "code",
   "execution_count": 5,
   "id": "51d3d96b-ae08-4fa3-ba5f-e22b67080c5c",
   "metadata": {},
   "outputs": [
    {
     "name": "stdout",
     "output_type": "stream",
     "text": [
      "(1, 2, 4, 5, 6)\n"
     ]
    }
   ],
   "source": [
    "print(t3)"
   ]
  },
  {
   "cell_type": "code",
   "execution_count": 6,
   "id": "2d790fb9-0952-4997-ac1d-c3dea534f055",
   "metadata": {},
   "outputs": [
    {
     "name": "stdout",
     "output_type": "stream",
     "text": [
      "1\n"
     ]
    }
   ],
   "source": [
    "print(t3[0])"
   ]
  },
  {
   "cell_type": "code",
   "execution_count": 7,
   "id": "47bbd8c4-d8de-45aa-beac-d3ab55c7f7bc",
   "metadata": {},
   "outputs": [
    {
     "ename": "IndexError",
     "evalue": "tuple index out of range",
     "output_type": "error",
     "traceback": [
      "\u001b[0;31m---------------------------------------------------------------------------\u001b[0m",
      "\u001b[0;31mIndexError\u001b[0m                                Traceback (most recent call last)",
      "Cell \u001b[0;32mIn[7], line 1\u001b[0m\n\u001b[0;32m----> 1\u001b[0m \u001b[38;5;28mprint\u001b[39m(t3[\u001b[38;5;241m10\u001b[39m])\n",
      "\u001b[0;31mIndexError\u001b[0m: tuple index out of range"
     ]
    }
   ],
   "source": [
    "print(t3[10])"
   ]
  },
  {
   "cell_type": "code",
   "execution_count": 8,
   "id": "232d01c1-cfe6-457f-81d7-5d8d10aa5988",
   "metadata": {},
   "outputs": [
    {
     "name": "stdout",
     "output_type": "stream",
     "text": [
      "(1, 2, 4, 5)\n"
     ]
    }
   ],
   "source": [
    "print(t3[:4])"
   ]
  },
  {
   "cell_type": "code",
   "execution_count": 9,
   "id": "5444a3f0-ef33-4626-82b5-3595b0252203",
   "metadata": {},
   "outputs": [
    {
     "name": "stdout",
     "output_type": "stream",
     "text": [
      "(1, 4, 6)\n"
     ]
    }
   ],
   "source": [
    "print(t3[::2])"
   ]
  },
  {
   "cell_type": "markdown",
   "id": "6a0903ca-2a65-474f-8cda-ba4557d73f2f",
   "metadata": {},
   "source": [
    "### Editing items \n",
    "- A tuple cant be editied once it is created because it is immutable so we cant add or delete tuple"
   ]
  },
  {
   "cell_type": "markdown",
   "id": "a390b663-167b-4ac7-8813-d9c6b1eaf8eb",
   "metadata": {},
   "source": [
    "### Delete tuple\n",
    "- we can delete whole tuple but not a single part of it "
   ]
  },
  {
   "cell_type": "code",
   "execution_count": 10,
   "id": "74ae4fc6-e9e6-45ea-b58f-ddedcb35f5d8",
   "metadata": {},
   "outputs": [],
   "source": [
    "t1 = (1,2,3)\n",
    "del t1"
   ]
  },
  {
   "cell_type": "markdown",
   "id": "199946a1-08af-47b1-82c2-a3addcd36c80",
   "metadata": {},
   "source": [
    "### Operations on tuples"
   ]
  },
  {
   "cell_type": "code",
   "execution_count": 11,
   "id": "e2962d75-fd7c-46ee-8f5c-8b668e245807",
   "metadata": {},
   "outputs": [
    {
     "name": "stdout",
     "output_type": "stream",
     "text": [
      "(1, 2, 3, 4, 5, 6, 7, 8)\n"
     ]
    }
   ],
   "source": [
    "# addition operation\n",
    "\n",
    "t1 = (1,2,3,4)\n",
    "t2 = (5,6,7,8)\n",
    "\n",
    "print(t1 + t2)"
   ]
  },
  {
   "cell_type": "code",
   "execution_count": 12,
   "id": "f5ce74a6-8327-4e13-ba9c-60f4c183227f",
   "metadata": {},
   "outputs": [
    {
     "name": "stdout",
     "output_type": "stream",
     "text": [
      "(1, 2, 3, 4, 1, 2, 3, 4, 1, 2, 3, 4)\n"
     ]
    }
   ],
   "source": [
    "# multiplication \n",
    "print(t1 * 3)"
   ]
  },
  {
   "cell_type": "code",
   "execution_count": 13,
   "id": "79dfd81e-c761-457a-a781-a5f4a9b39e5e",
   "metadata": {},
   "outputs": [
    {
     "data": {
      "text/plain": [
       "True"
      ]
     },
     "execution_count": 13,
     "metadata": {},
     "output_type": "execute_result"
    }
   ],
   "source": [
    "# membership operation \n",
    "1 in t1"
   ]
  },
  {
   "cell_type": "code",
   "execution_count": 17,
   "id": "fb34b10f-10d5-492b-8b51-6eba2567d929",
   "metadata": {},
   "outputs": [
    {
     "name": "stdout",
     "output_type": "stream",
     "text": [
      "1\n",
      "2\n",
      "3\n",
      "4\n"
     ]
    }
   ],
   "source": [
    "# loops \n",
    "for i in t1:\n",
    "    print(t1[i-1])"
   ]
  },
  {
   "cell_type": "markdown",
   "id": "4f756a36-d53d-46fb-9718-0e189ffa315d",
   "metadata": {},
   "source": [
    "### Tuple function "
   ]
  },
  {
   "cell_type": "code",
   "execution_count": 19,
   "id": "974f0efc-b213-4d46-8b4f-81156010cb8c",
   "metadata": {},
   "outputs": [
    {
     "data": {
      "text/plain": [
       "4"
      ]
     },
     "execution_count": 19,
     "metadata": {},
     "output_type": "execute_result"
    }
   ],
   "source": [
    "t = (1,2,3,4)\n",
    "\n",
    "# len function \n",
    "len(t)"
   ]
  },
  {
   "cell_type": "code",
   "execution_count": 20,
   "id": "c77b0b32-6699-4384-94e9-ef1ed95f1663",
   "metadata": {},
   "outputs": [
    {
     "data": {
      "text/plain": [
       "10"
      ]
     },
     "execution_count": 20,
     "metadata": {},
     "output_type": "execute_result"
    }
   ],
   "source": [
    "# sum \n",
    "sum(t)"
   ]
  },
  {
   "cell_type": "code",
   "execution_count": 21,
   "id": "51c3b21e-25c8-4bc9-94d2-c6b1e7b2f6b3",
   "metadata": {},
   "outputs": [
    {
     "data": {
      "text/plain": [
       "1"
      ]
     },
     "execution_count": 21,
     "metadata": {},
     "output_type": "execute_result"
    }
   ],
   "source": [
    "# min \n",
    "min(t)"
   ]
  },
  {
   "cell_type": "code",
   "execution_count": 22,
   "id": "7361aab6-d1cb-4b3c-8010-4b9a273e899b",
   "metadata": {},
   "outputs": [
    {
     "data": {
      "text/plain": [
       "4"
      ]
     },
     "execution_count": 22,
     "metadata": {},
     "output_type": "execute_result"
    }
   ],
   "source": [
    "# max \n",
    "max(t)"
   ]
  },
  {
   "cell_type": "code",
   "execution_count": 23,
   "id": "96a2e919-5c2a-4506-b0ac-c3c88dbad1a1",
   "metadata": {},
   "outputs": [
    {
     "data": {
      "text/plain": [
       "[1, 2, 3, 4]"
      ]
     },
     "execution_count": 23,
     "metadata": {},
     "output_type": "execute_result"
    }
   ],
   "source": [
    "# sorted(tuple, reverse=true/false)\n",
    "sorted(t)"
   ]
  },
  {
   "cell_type": "code",
   "execution_count": 24,
   "id": "fecd8bbd-d091-492d-9e26-9f0d6198af1d",
   "metadata": {},
   "outputs": [
    {
     "data": {
      "text/plain": [
       "0"
      ]
     },
     "execution_count": 24,
     "metadata": {},
     "output_type": "execute_result"
    }
   ],
   "source": [
    "# count\n",
    "t.count(5)"
   ]
  },
  {
   "cell_type": "code",
   "execution_count": 27,
   "id": "303be211-ff90-41f6-a5cd-d7cc9a02e46b",
   "metadata": {},
   "outputs": [
    {
     "data": {
      "text/plain": [
       "0"
      ]
     },
     "execution_count": 27,
     "metadata": {},
     "output_type": "execute_result"
    }
   ],
   "source": [
    "# index\n",
    "t.index(1)"
   ]
  },
  {
   "cell_type": "markdown",
   "id": "1fc768ce-76fb-47ce-9bb0-7bf270e1e0f3",
   "metadata": {},
   "source": [
    "### Difference between tuples and Lists\n",
    "- Syntax\n",
    "- Mutability\n",
    "- speed\n",
    "- Memory\n",
    "- Built-in functionality\n",
    "- Error prone\n",
    "- Usability"
   ]
  },
  {
   "cell_type": "code",
   "execution_count": null,
   "id": "d3a14fcc-5d1a-436e-b266-99c559500359",
   "metadata": {},
   "outputs": [],
   "source": []
  },
  {
   "cell_type": "markdown",
   "id": "5539c0ba-d4d6-4e35-b308-8ff1e3bd8ace",
   "metadata": {},
   "source": [
    "### Specia syntax"
   ]
  },
  {
   "cell_type": "code",
   "execution_count": 28,
   "id": "03dc3b9a-a9e0-40fc-b72f-ff496496bd0a",
   "metadata": {},
   "outputs": [
    {
     "name": "stdout",
     "output_type": "stream",
     "text": [
      "1 2 3\n"
     ]
    }
   ],
   "source": [
    "# tuple unpacking\n",
    "a,b,c = (1,2,3)\n",
    "print(a,b,c)"
   ]
  },
  {
   "cell_type": "code",
   "execution_count": 29,
   "id": "1be06f88-4793-445a-8ac6-1360f2db4f8f",
   "metadata": {},
   "outputs": [
    {
     "data": {
      "text/plain": [
       "1"
      ]
     },
     "execution_count": 29,
     "metadata": {},
     "output_type": "execute_result"
    }
   ],
   "source": [
    "a,b,*iota = (1,2,3,4)\n",
    "a"
   ]
  },
  {
   "cell_type": "code",
   "execution_count": 30,
   "id": "59d59942-10d0-4fbf-a311-ef0a4cdc5f4b",
   "metadata": {},
   "outputs": [
    {
     "data": {
      "text/plain": [
       "((1, 5), (2, 6), (3, 7), (4, 8))"
      ]
     },
     "execution_count": 30,
     "metadata": {},
     "output_type": "execute_result"
    }
   ],
   "source": [
    "# zipping \n",
    "t1 = (1,2,3,4)\n",
    "t2 = (5,6,7,8)\n",
    "\n",
    "tuple(zip(t1,t2))"
   ]
  },
  {
   "cell_type": "markdown",
   "id": "72d7007a-3111-47e7-bf8a-8b3b2f7c0239",
   "metadata": {},
   "source": [
    "### Sets\n",
    "\n",
    "A set is an unordered collection of items. Every set element is unique contains no duplicates and must be immutable cannot be changed. However, a set itself is immutable. We can add or remeove items from it \n",
    "\n",
    "sets can also be used to perform mathematical set operation like Union, Intersection, Symmetric difference, etc. \n",
    "\n",
    "characteristics: \n",
    "\n",
    "- unordered \n",
    "- mutable\n",
    "- No Duplicates\n",
    "- Cant contains mutable datatypes\n"
   ]
  },
  {
   "cell_type": "markdown",
   "id": "f197d98b-4e13-4a6d-af40-4aba94a0df49",
   "metadata": {},
   "source": [
    "### Creating sets "
   ]
  },
  {
   "cell_type": "code",
   "execution_count": 2,
   "id": "11a9bc11-fcca-4e0f-859f-e4d19f1d03d6",
   "metadata": {},
   "outputs": [],
   "source": [
    "# empty set \n",
    "s = set()\n",
    "\n",
    "# 1-dim set -> we cannot create 2dim sets in the set\n",
    "s = {1,2,3}"
   ]
  },
  {
   "cell_type": "code",
   "execution_count": 3,
   "id": "b80869b1-bee6-4a61-9b6a-c5a3ef088406",
   "metadata": {},
   "outputs": [
    {
     "data": {
      "text/plain": [
       "True"
      ]
     },
     "execution_count": 3,
     "metadata": {},
     "output_type": "execute_result"
    }
   ],
   "source": [
    "s = {1,2,3}\n",
    "s2 = {3,2,1}\n",
    "\n",
    "s == s2"
   ]
  },
  {
   "cell_type": "markdown",
   "id": "7a770a54-1265-46fc-93f5-b9c1a981ba11",
   "metadata": {},
   "source": [
    "### Adding items"
   ]
  },
  {
   "cell_type": "code",
   "execution_count": 6,
   "id": "8522848a-886e-42d2-aaa1-56eadc56f075",
   "metadata": {},
   "outputs": [
    {
     "name": "stdout",
     "output_type": "stream",
     "text": [
      "{1, 2, 3, 4, 5}\n",
      "{1, 2, 3, 4, 5, 6, 7, 8}\n"
     ]
    }
   ],
   "source": [
    "s = {1,2,3,4}\n",
    "\n",
    "# add \n",
    "s.add(5)\n",
    "print(s)\n",
    "\n",
    "# update \n",
    "s.update([6,7,8])\n",
    "print(s)"
   ]
  },
  {
   "cell_type": "markdown",
   "id": "914af150-ac16-41cf-bed5-f8c070ed898b",
   "metadata": {},
   "source": [
    "### Deleting items \n"
   ]
  },
  {
   "cell_type": "code",
   "execution_count": 5,
   "id": "9898bc00-6791-40d6-9a98-6926ef157828",
   "metadata": {},
   "outputs": [],
   "source": [
    "# del\n",
    "\n",
    "del s "
   ]
  },
  {
   "cell_type": "code",
   "execution_count": 7,
   "id": "c55a396e-69bb-4079-914a-194174f6a317",
   "metadata": {},
   "outputs": [],
   "source": [
    "# discard \n",
    "\n",
    "s.discard(5)"
   ]
  },
  {
   "cell_type": "code",
   "execution_count": 11,
   "id": "5f977d2d-5784-4c7b-92bf-01fa7b42ed3c",
   "metadata": {},
   "outputs": [],
   "source": [
    "# remove\n",
    "\n",
    "s.remove(6)"
   ]
  },
  {
   "cell_type": "code",
   "execution_count": 13,
   "id": "7c1f6b7b-8a0d-4cdf-a291-40e195bd7321",
   "metadata": {},
   "outputs": [
    {
     "data": {
      "text/plain": [
       "2"
      ]
     },
     "execution_count": 13,
     "metadata": {},
     "output_type": "execute_result"
    }
   ],
   "source": [
    "# pop\n",
    "\n",
    "s.pop()"
   ]
  },
  {
   "cell_type": "code",
   "execution_count": 14,
   "id": "352d4acf-d316-4dd1-bbdf-e5a353034eb0",
   "metadata": {},
   "outputs": [],
   "source": [
    "# clear\n",
    "\n",
    "s.clear()"
   ]
  },
  {
   "cell_type": "markdown",
   "id": "e92f0451-0a8f-4d5e-878d-6ec99ecbb25d",
   "metadata": {},
   "source": [
    "### Set operations"
   ]
  },
  {
   "cell_type": "code",
   "execution_count": 40,
   "id": "da1cc3a3-7e0f-46ff-9a85-a2258e62ee55",
   "metadata": {},
   "outputs": [],
   "source": [
    "s1 = {1,2,3,4,5}\n",
    "s2 = {4,5,6,7,8}"
   ]
  },
  {
   "cell_type": "code",
   "execution_count": 41,
   "id": "119e1a39-717e-4248-af46-864a14cb8a28",
   "metadata": {},
   "outputs": [
    {
     "data": {
      "text/plain": [
       "{1, 2, 3, 4, 5, 6, 7, 8}"
      ]
     },
     "execution_count": 41,
     "metadata": {},
     "output_type": "execute_result"
    }
   ],
   "source": [
    "# union operations -> will print unique element of both sets \n",
    "s1 | s2"
   ]
  },
  {
   "cell_type": "code",
   "execution_count": 42,
   "id": "42286a35-1b71-4486-9aa2-51944e43035c",
   "metadata": {},
   "outputs": [
    {
     "data": {
      "text/plain": [
       "{4, 5}"
      ]
     },
     "execution_count": 42,
     "metadata": {},
     "output_type": "execute_result"
    }
   ],
   "source": [
    "# intersection operation -> will print unique element of both sets \n",
    "s1 & s2"
   ]
  },
  {
   "cell_type": "code",
   "execution_count": 43,
   "id": "5dc63720-85b4-4851-8309-0ba4753da6c1",
   "metadata": {},
   "outputs": [
    {
     "data": {
      "text/plain": [
       "{1, 2, 3}"
      ]
     },
     "execution_count": 43,
     "metadata": {},
     "output_type": "execute_result"
    }
   ],
   "source": [
    "# Difference -> s1 ke wo element jo s2 mein nhi hai \n",
    "s1 - s2"
   ]
  },
  {
   "cell_type": "code",
   "execution_count": 44,
   "id": "1259d9a5-c2df-46f1-ba10-493a8089dd4d",
   "metadata": {},
   "outputs": [
    {
     "data": {
      "text/plain": [
       "{1, 2, 3, 6, 7, 8}"
      ]
     },
     "execution_count": 44,
     "metadata": {},
     "output_type": "execute_result"
    }
   ],
   "source": [
    "# symmetric difference \n",
    "s1 ^ s2"
   ]
  },
  {
   "cell_type": "code",
   "execution_count": 45,
   "id": "db3abb42-4cc3-4f13-b3e4-57fbd0f00baf",
   "metadata": {},
   "outputs": [
    {
     "data": {
      "text/plain": [
       "False"
      ]
     },
     "execution_count": 45,
     "metadata": {},
     "output_type": "execute_result"
    }
   ],
   "source": [
    "# membership test \n",
    "1 in s2"
   ]
  },
  {
   "cell_type": "code",
   "execution_count": 46,
   "id": "b5481e87-8206-4b4b-84de-1c7913a65c63",
   "metadata": {},
   "outputs": [
    {
     "name": "stdout",
     "output_type": "stream",
     "text": [
      "1\n",
      "2\n",
      "3\n",
      "4\n",
      "5\n"
     ]
    }
   ],
   "source": [
    "# loops \n",
    "for i in s1:\n",
    "    print(i)"
   ]
  },
  {
   "cell_type": "markdown",
   "id": "cbf8bdc7-799d-44f9-804a-f40e1e6cfed3",
   "metadata": {},
   "source": [
    "### Sets functions "
   ]
  },
  {
   "cell_type": "code",
   "execution_count": 47,
   "id": "e334f059-e3db-4829-be5e-d31755313140",
   "metadata": {},
   "outputs": [
    {
     "name": "stdout",
     "output_type": "stream",
     "text": [
      "5\n",
      "1\n",
      "5\n",
      "[5, 4, 3, 2, 1]\n",
      "15\n"
     ]
    }
   ],
   "source": [
    "# len/ min/ max/ sorted / sum \n",
    "print(len(s1))\n",
    "\n",
    "print(min(s1))\n",
    "\n",
    "print(max(s1))\n",
    "\n",
    "print(sorted(s1,reverse=True))\n",
    "\n",
    "print(sum(s1))"
   ]
  },
  {
   "cell_type": "code",
   "execution_count": 48,
   "id": "2634c156-6ddf-42bc-8cd5-360e691e693c",
   "metadata": {},
   "outputs": [
    {
     "data": {
      "text/plain": [
       "{1, 2, 3, 4, 5, 6, 7, 8}"
      ]
     },
     "execution_count": 48,
     "metadata": {},
     "output_type": "execute_result"
    }
   ],
   "source": [
    "# union/ update\n",
    "s1.union(s2)"
   ]
  },
  {
   "cell_type": "code",
   "execution_count": 49,
   "id": "3a1fda60-c3fc-4659-9149-4810ea577c53",
   "metadata": {},
   "outputs": [
    {
     "data": {
      "text/plain": [
       "{4, 5}"
      ]
     },
     "execution_count": 49,
     "metadata": {},
     "output_type": "execute_result"
    }
   ],
   "source": [
    "# intersection/ intersection_update\n",
    "s1.intersection(s2)"
   ]
  },
  {
   "cell_type": "code",
   "execution_count": 52,
   "id": "9ae6ce13-c71b-491c-bac4-11f6e3a8388f",
   "metadata": {},
   "outputs": [
    {
     "data": {
      "text/plain": [
       "set()"
      ]
     },
     "execution_count": 52,
     "metadata": {},
     "output_type": "execute_result"
    }
   ],
   "source": [
    "# difference / difference_update\n",
    "s1.difference(s2)"
   ]
  },
  {
   "cell_type": "code",
   "execution_count": 53,
   "id": "226f8baa-8755-4405-a8e4-56bc3d065f23",
   "metadata": {},
   "outputs": [
    {
     "data": {
      "text/plain": [
       "{6, 7, 8}"
      ]
     },
     "execution_count": 53,
     "metadata": {},
     "output_type": "execute_result"
    }
   ],
   "source": [
    "# symmetric_difference/ symmetric_difference_update\n",
    "s1.symmetric_difference(s2)"
   ]
  },
  {
   "cell_type": "code",
   "execution_count": 56,
   "id": "a4470215-ebbd-407b-ae01-f4f63e7ca1b5",
   "metadata": {},
   "outputs": [
    {
     "data": {
      "text/plain": [
       "False"
      ]
     },
     "execution_count": 56,
     "metadata": {},
     "output_type": "execute_result"
    }
   ],
   "source": [
    "# isdisjoint\n",
    "s1 = {1,2,3,4,5}\n",
    "s2 = {4,5,6,7,8}\n",
    "\n",
    "s1.isdisjoint(s2)"
   ]
  },
  {
   "cell_type": "code",
   "execution_count": 57,
   "id": "4605a052-577a-4134-a7c1-6cd305fd8438",
   "metadata": {},
   "outputs": [
    {
     "data": {
      "text/plain": [
       "False"
      ]
     },
     "execution_count": 57,
     "metadata": {},
     "output_type": "execute_result"
    }
   ],
   "source": [
    "# issubset\n",
    "\n",
    "s1.issubset(s2)"
   ]
  },
  {
   "cell_type": "code",
   "execution_count": 58,
   "id": "bfac290d-190d-46a6-8e9f-62f0c54e8546",
   "metadata": {},
   "outputs": [
    {
     "data": {
      "text/plain": [
       "False"
      ]
     },
     "execution_count": 58,
     "metadata": {},
     "output_type": "execute_result"
    }
   ],
   "source": [
    "# issuperset\n",
    "s1.issubset(s2)"
   ]
  },
  {
   "cell_type": "code",
   "execution_count": 59,
   "id": "4491136e-d71e-4646-80d9-28f33bd50c12",
   "metadata": {},
   "outputs": [],
   "source": [
    "s3 = s1.copy()"
   ]
  },
  {
   "cell_type": "code",
   "execution_count": 60,
   "id": "7fc061e3-675c-42ca-ae00-c278d8158f53",
   "metadata": {},
   "outputs": [
    {
     "data": {
      "text/plain": [
       "{1, 2, 3, 4, 5}"
      ]
     },
     "execution_count": 60,
     "metadata": {},
     "output_type": "execute_result"
    }
   ],
   "source": [
    "s3"
   ]
  },
  {
   "cell_type": "markdown",
   "id": "14a87e3e-90e8-4cef-a5de-bd785c16fd00",
   "metadata": {},
   "source": [
    "### Frozenset\n",
    "Frozen set is just an immutable version of a python set object "
   ]
  },
  {
   "cell_type": "code",
   "execution_count": 61,
   "id": "21371cf7-0486-4f25-b007-a1de67bf9cb8",
   "metadata": {},
   "outputs": [
    {
     "data": {
      "text/plain": [
       "frozenset({1, 2, 3})"
      ]
     },
     "execution_count": 61,
     "metadata": {},
     "output_type": "execute_result"
    }
   ],
   "source": [
    "# create \n",
    "fs = frozenset([1,2,3])\n",
    "fs"
   ]
  },
  {
   "cell_type": "markdown",
   "id": "e5e2a88c-9f90-409f-bf3f-764e8b1c64ee",
   "metadata": {},
   "source": [
    "### Set Comprehension"
   ]
  },
  {
   "cell_type": "code",
   "execution_count": 62,
   "id": "a0a3cb30-885c-4c44-ae1b-e61e796bb424",
   "metadata": {},
   "outputs": [
    {
     "data": {
      "text/plain": [
       "{1, 2, 3, 4, 5, 6, 7, 8, 9, 10}"
      ]
     },
     "execution_count": 62,
     "metadata": {},
     "output_type": "execute_result"
    }
   ],
   "source": [
    "{i for i in range(1,11)}"
   ]
  },
  {
   "cell_type": "markdown",
   "id": "006b7bef-c6de-47b1-8871-7023f9302447",
   "metadata": {},
   "source": [
    "### Dictionary \n",
    "\n",
    "Dictinary in python is a collection of keys values, used to store data values like a map, which unlike other data types which hold only a single values as an element\n",
    "\n",
    "In some language it is known as map or associative arrays.\n",
    "\n",
    "dict = {'name','suraj'}\n",
    "\n",
    "characteristic:\n",
    "\n",
    "- mutable\n",
    "- indexing has no meaning\n",
    "- keys cant be duplicated\n",
    "- keys cant be mutable items"
   ]
  },
  {
   "cell_type": "markdown",
   "id": "0b05723a-3585-4017-84a8-1e826b219d89",
   "metadata": {},
   "source": [
    "### Create Dictionary"
   ]
  },
  {
   "cell_type": "code",
   "execution_count": 1,
   "id": "e92a3a8f-acf9-419a-8c62-63b6b85bc8f2",
   "metadata": {},
   "outputs": [],
   "source": [
    "# create empty dictionary\n",
    "\n",
    "d = {}\n",
    "\n",
    "# 1dim dictionary\n",
    "d ={'name':'suraj'}\n",
    "\n",
    "# 2dim dictionary\n",
    "d = {'name':'suraj',\n",
    "     'course':{'sub1':'hindi',\n",
    "               'sub2':'english',\n",
    "              }\n",
    "    }\n",
    "\n",
    "# using dict function \n",
    "d = dict([(1,2),(3,4)])"
   ]
  },
  {
   "cell_type": "markdown",
   "id": "48a93f98-fa63-43be-b116-80b02d4a2878",
   "metadata": {},
   "source": [
    "### Accessing items"
   ]
  },
  {
   "cell_type": "code",
   "execution_count": 2,
   "id": "b98e199a-5e1c-45e9-bad7-e8de53849d79",
   "metadata": {},
   "outputs": [
    {
     "data": {
      "text/plain": [
       "'suraj'"
      ]
     },
     "execution_count": 2,
     "metadata": {},
     "output_type": "execute_result"
    }
   ],
   "source": [
    "my_dict = {'name':'suraj','age':16}\n",
    "my_dict.get('name')"
   ]
  },
  {
   "cell_type": "code",
   "execution_count": 3,
   "id": "40a57ac3-d8c5-4d08-8916-6358e0570f6a",
   "metadata": {},
   "outputs": [
    {
     "data": {
      "text/plain": [
       "'suraj'"
      ]
     },
     "execution_count": 3,
     "metadata": {},
     "output_type": "execute_result"
    }
   ],
   "source": [
    "my_dict.get('name')"
   ]
  },
  {
   "cell_type": "markdown",
   "id": "c7ab8de4-5a1e-4db5-879b-e13466c1e597",
   "metadata": {},
   "source": [
    "### Adding items"
   ]
  },
  {
   "cell_type": "code",
   "execution_count": 4,
   "id": "3d716b8a-997e-4b05-becd-ab86f0844f34",
   "metadata": {},
   "outputs": [],
   "source": [
    "my_dict['sub'] = 'hindi'"
   ]
  },
  {
   "cell_type": "code",
   "execution_count": 5,
   "id": "27968f97-e7d4-40f7-a5ba-ccf603d63cfa",
   "metadata": {},
   "outputs": [
    {
     "data": {
      "text/plain": [
       "{'name': 'suraj', 'age': 16, 'sub': 'hindi'}"
      ]
     },
     "execution_count": 5,
     "metadata": {},
     "output_type": "execute_result"
    }
   ],
   "source": [
    "my_dict"
   ]
  },
  {
   "cell_type": "markdown",
   "id": "cfe61fb1-7800-4b02-8baa-2a6a33951a27",
   "metadata": {},
   "source": [
    "### remove key-value pair"
   ]
  },
  {
   "cell_type": "code",
   "execution_count": 7,
   "id": "3d95070f-2552-4a89-92c4-2eb6191f51b1",
   "metadata": {},
   "outputs": [],
   "source": [
    "del my_dict['name']"
   ]
  },
  {
   "cell_type": "code",
   "execution_count": 11,
   "id": "96c6015e-222d-4b93-9d84-ac45d8057f78",
   "metadata": {},
   "outputs": [
    {
     "data": {
      "text/plain": [
       "16"
      ]
     },
     "execution_count": 11,
     "metadata": {},
     "output_type": "execute_result"
    }
   ],
   "source": [
    "# pop \n",
    "my_dict.pop('age')"
   ]
  },
  {
   "cell_type": "code",
   "execution_count": 12,
   "id": "8360a0ec-7216-462d-b173-b83d4896589f",
   "metadata": {},
   "outputs": [
    {
     "data": {
      "text/plain": [
       "{'sub': 'hindi'}"
      ]
     },
     "execution_count": 12,
     "metadata": {},
     "output_type": "execute_result"
    }
   ],
   "source": [
    "my_dict"
   ]
  },
  {
   "cell_type": "code",
   "execution_count": 14,
   "id": "0bfe52f3-a898-4bfb-bd5b-ad32a349840e",
   "metadata": {},
   "outputs": [
    {
     "data": {
      "text/plain": [
       "('sub', 'hindi')"
      ]
     },
     "execution_count": 14,
     "metadata": {},
     "output_type": "execute_result"
    }
   ],
   "source": [
    "my_dict.popitem()"
   ]
  },
  {
   "cell_type": "code",
   "execution_count": 15,
   "id": "39f958c6-57f9-45b0-bad2-6d7d4e13ddd3",
   "metadata": {},
   "outputs": [
    {
     "data": {
      "text/plain": [
       "<function dict.clear()>"
      ]
     },
     "execution_count": 15,
     "metadata": {},
     "output_type": "execute_result"
    }
   ],
   "source": [
    "my_dict.clear"
   ]
  },
  {
   "cell_type": "code",
   "execution_count": 18,
   "id": "e3707a2b-8b93-4401-9832-d4441575031d",
   "metadata": {},
   "outputs": [],
   "source": [
    "my_dict['sub'] = 'english'"
   ]
  },
  {
   "cell_type": "markdown",
   "id": "9ce98e62-322a-4050-b385-eb210825b850",
   "metadata": {},
   "source": [
    "### Dictionary Operations\n",
    "- Membership Operations\n",
    "- iterations"
   ]
  },
  {
   "cell_type": "code",
   "execution_count": 25,
   "id": "913d62c3-ca21-48d6-ba91-4cbcfabcd9ce",
   "metadata": {},
   "outputs": [
    {
     "data": {
      "text/plain": [
       "False"
      ]
     },
     "execution_count": 25,
     "metadata": {},
     "output_type": "execute_result"
    }
   ],
   "source": [
    "my_dict = {'name':'nitish','age':20}\n",
    "\n",
    "'nitish' in my_dict"
   ]
  },
  {
   "cell_type": "code",
   "execution_count": 26,
   "id": "be19bee6-c9cf-4771-95ae-7e182dd746a7",
   "metadata": {},
   "outputs": [
    {
     "name": "stdout",
     "output_type": "stream",
     "text": [
      "name nitish\n",
      "age 20\n"
     ]
    }
   ],
   "source": [
    "for i in my_dict:\n",
    "    print(i, my_dict[i])"
   ]
  },
  {
   "cell_type": "markdown",
   "id": "3cac339f-3ac1-4baa-93e5-4ce8c409b0df",
   "metadata": {},
   "source": [
    "### Dictionary Functions"
   ]
  },
  {
   "cell_type": "code",
   "execution_count": 27,
   "id": "e3a2f640-20e7-4d98-a19a-061ca2c4538b",
   "metadata": {},
   "outputs": [
    {
     "data": {
      "text/plain": [
       "2"
      ]
     },
     "execution_count": 27,
     "metadata": {},
     "output_type": "execute_result"
    }
   ],
   "source": [
    "len(my_dict)"
   ]
  },
  {
   "cell_type": "code",
   "execution_count": 28,
   "id": "dca57d19-e781-4dfe-812b-54180a6bc3b2",
   "metadata": {},
   "outputs": [
    {
     "data": {
      "text/plain": [
       "['age', 'name']"
      ]
     },
     "execution_count": 28,
     "metadata": {},
     "output_type": "execute_result"
    }
   ],
   "source": [
    "sorted(my_dict)"
   ]
  },
  {
   "cell_type": "code",
   "execution_count": 29,
   "id": "5c9028d3-105e-4730-9109-b358207af883",
   "metadata": {},
   "outputs": [
    {
     "data": {
      "text/plain": [
       "dict_items([(1, 2), (3, 4)])"
      ]
     },
     "execution_count": 29,
     "metadata": {},
     "output_type": "execute_result"
    }
   ],
   "source": [
    "# items\n",
    "d.items()"
   ]
  },
  {
   "cell_type": "code",
   "execution_count": 30,
   "id": "86a3b45b-58d4-4ac9-9d34-d1ab0f3846fb",
   "metadata": {},
   "outputs": [
    {
     "data": {
      "text/plain": [
       "dict_keys([1, 3])"
      ]
     },
     "execution_count": 30,
     "metadata": {},
     "output_type": "execute_result"
    }
   ],
   "source": [
    "# keys\n",
    "d.keys()"
   ]
  },
  {
   "cell_type": "code",
   "execution_count": 33,
   "id": "3993b2b6-69a1-4fa0-a395-4b7cd2d87431",
   "metadata": {},
   "outputs": [
    {
     "data": {
      "text/plain": [
       "dict_values([2, 4])"
      ]
     },
     "execution_count": 33,
     "metadata": {},
     "output_type": "execute_result"
    }
   ],
   "source": [
    "# values\n",
    "d.values()"
   ]
  },
  {
   "cell_type": "markdown",
   "id": "d3c248a9-e1bc-4162-b877-611ad6524185",
   "metadata": {},
   "source": [
    "### Dictionary comprehension"
   ]
  },
  {
   "cell_type": "code",
   "execution_count": 34,
   "id": "37a0e872-226b-411b-b23d-196b94ffd54b",
   "metadata": {},
   "outputs": [
    {
     "data": {
      "text/plain": [
       "{1: 1, 2: 2, 3: 3, 4: 4, 5: 5, 6: 6, 7: 7, 8: 8, 9: 9, 10: 10}"
      ]
     },
     "execution_count": 34,
     "metadata": {},
     "output_type": "execute_result"
    }
   ],
   "source": [
    "# print 1st 10 numbers and their squares\n",
    "{i:i for i in range(1,11)}"
   ]
  },
  {
   "cell_type": "code",
   "execution_count": null,
   "id": "7ba7852b-fdb4-41aa-af6f-c4fc144ebed8",
   "metadata": {},
   "outputs": [],
   "source": []
  }
 ],
 "metadata": {
  "kernelspec": {
   "display_name": "Python 3 (ipykernel)",
   "language": "python",
   "name": "python3"
  },
  "language_info": {
   "codemirror_mode": {
    "name": "ipython",
    "version": 3
   },
   "file_extension": ".py",
   "mimetype": "text/x-python",
   "name": "python",
   "nbconvert_exporter": "python",
   "pygments_lexer": "ipython3",
   "version": "3.13.5"
  }
 },
 "nbformat": 4,
 "nbformat_minor": 5
}
