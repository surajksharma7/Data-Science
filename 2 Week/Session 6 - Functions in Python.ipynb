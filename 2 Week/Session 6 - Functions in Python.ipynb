{
 "cells": [
  {
   "cell_type": "markdown",
   "id": "78cdd8d3-2908-4814-8060-2103ec1f8879",
   "metadata": {},
   "source": [
    "### What is Functions?\n",
    "\n",
    "A function is a block of code that is used to perform specific taks\n",
    "\n",
    "#### why ? \n",
    "- Abstraction\n",
    "- decomposition"
   ]
  },
  {
   "cell_type": "code",
   "execution_count": null,
   "id": "b6d3f7d9-1d80-4f7b-b080-ef8c855c05ee",
   "metadata": {},
   "outputs": [],
   "source": [
    "def is_even"
   ]
  }
 ],
 "metadata": {
  "kernelspec": {
   "display_name": "Python 3 (ipykernel)",
   "language": "python",
   "name": "python3"
  },
  "language_info": {
   "codemirror_mode": {
    "name": "ipython",
    "version": 3
   },
   "file_extension": ".py",
   "mimetype": "text/x-python",
   "name": "python",
   "nbconvert_exporter": "python",
   "pygments_lexer": "ipython3",
   "version": "3.13.5"
  }
 },
 "nbformat": 4,
 "nbformat_minor": 5
}
