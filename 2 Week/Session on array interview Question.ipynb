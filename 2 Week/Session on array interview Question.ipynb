{
 "cells": [
  {
   "cell_type": "markdown",
   "id": "12518caa-9795-4813-a545-534c5fbdf13a",
   "metadata": {},
   "source": [
    "### Points to remember \n",
    "- code asks are completely easier in comparisions to SDE roles\n",
    "- Pythonic syntax is preferres in most companies\n",
    "- Focus on optimized code\n",
    "- start with the simplest solution and then improve\n",
    "- A lot of questions are repeated so mugging up the approaches help\n",
    "- build intution with python tutor"
   ]
  },
  {
   "cell_type": "code",
   "execution_count": null,
   "id": "88716fa3-57e2-4abd-b36f-c0fb54bcdd83",
   "metadata": {},
   "outputs": [],
   "source": [
    "# find the kth largest number from the a list\n",
    "\n",
    "L = [12,23,1,4,56,34,22,9]\n",
    "\n",
    "def kthElement(a,*num):\n",
    "    "
   ]
  },
  {
   "cell_type": "code",
   "execution_count": 1,
   "id": "c94ae923-def2-4005-992a-6c2531e165d8",
   "metadata": {},
   "outputs": [
    {
     "name": "stdout",
     "output_type": "stream",
     "text": [
      "[4, 7, -1, 6, -11, 14, 3, -1, -6]\n"
     ]
    }
   ],
   "source": [
    "# maximum sum subarray\n",
    "# 10. Maximum sum subarray\n",
    "L = [-2,4,7,-1,6,-11,14,3,-1,-6]\n",
    "\n",
    "d = {}\n",
    "\n",
    "for i in range(0,len(L)):\n",
    "  subarray = []\n",
    "  for j in range(i,len(L)):\n",
    "    subarray.append(L[j])\n",
    "    d[sum(subarray)] = subarray\n",
    "\n",
    "max_val = max(d.keys())\n",
    "\n",
    "for i in d:\n",
    "  if i == max_val:\n",
    "    print(d[i])"
   ]
  },
  {
   "cell_type": "code",
   "execution_count": null,
   "id": "96e9f0b2-b65b-4bb5-8a2b-c5383159e624",
   "metadata": {},
   "outputs": [],
   "source": []
  }
 ],
 "metadata": {
  "kernelspec": {
   "display_name": "Python 3 (ipykernel)",
   "language": "python",
   "name": "python3"
  },
  "language_info": {
   "codemirror_mode": {
    "name": "ipython",
    "version": 3
   },
   "file_extension": ".py",
   "mimetype": "text/x-python",
   "name": "python",
   "nbconvert_exporter": "python",
   "pygments_lexer": "ipython3",
   "version": "3.13.5"
  }
 },
 "nbformat": 4,
 "nbformat_minor": 5
}
